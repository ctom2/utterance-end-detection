{
 "cells": [
  {
   "cell_type": "markdown",
   "metadata": {},
   "source": [
    "Presence of the following datasets is required.<br>\n",
    "`./datasets/MultiWOZ`<br>\n",
    "`./datasets/e2e`<br>\n",
    "`./datasets/taskmaster`"
   ]
  },
  {
   "cell_type": "code",
   "execution_count": 1,
   "metadata": {},
   "outputs": [],
   "source": [
    "# Control whether the network should run on GPU or CPU\n",
    "USE_CPU=True"
   ]
  },
  {
   "cell_type": "code",
   "execution_count": 2,
   "metadata": {},
   "outputs": [
    {
     "name": "stdout",
     "output_type": "stream",
     "text": [
      "No GPU found\n"
     ]
    }
   ],
   "source": [
    "import os\n",
    "import tensorflow as tf\n",
    "\n",
    "# CPU or GPU\n",
    "if USE_CPU:\n",
    "    os.environ['CUDA_VISIBLE_DEVICES'] = '-1'\n",
    "\n",
    "    # GPU presence check\n",
    "    if tf.test.gpu_device_name():\n",
    "        print('GPU found')\n",
    "    else:\n",
    "        print(\"No GPU found\")"
   ]
  },
  {
   "cell_type": "code",
   "execution_count": 3,
   "metadata": {},
   "outputs": [
    {
     "name": "stdout",
     "output_type": "stream",
     "text": [
      "Sat Jul 18 18:12:29 2020       \r\n",
      "+-----------------------------------------------------------------------------+\r\n",
      "| NVIDIA-SMI 418.87.01    Driver Version: 418.87.01    CUDA Version: 10.1     |\r\n",
      "|-------------------------------+----------------------+----------------------+\r\n",
      "| GPU  Name        Persistence-M| Bus-Id        Disp.A | Volatile Uncorr. ECC |\r\n",
      "| Fan  Temp  Perf  Pwr:Usage/Cap|         Memory-Usage | GPU-Util  Compute M. |\r\n",
      "|===============================+======================+======================|\r\n",
      "|   0  Tesla K80           On   | 00000000:00:1E.0 Off |                    0 |\r\n",
      "| N/A   35C    P8    32W / 149W |      0MiB / 11441MiB |      0%      Default |\r\n",
      "+-------------------------------+----------------------+----------------------+\r\n",
      "                                                                               \r\n",
      "+-----------------------------------------------------------------------------+\r\n",
      "| Processes:                                                       GPU Memory |\r\n",
      "|  GPU       PID   Type   Process name                             Usage      |\r\n",
      "|=============================================================================|\r\n",
      "|  No running processes found                                                 |\r\n",
      "+-----------------------------------------------------------------------------+\r\n"
     ]
    }
   ],
   "source": [
    "!nvidia-smi"
   ]
  },
  {
   "cell_type": "markdown",
   "metadata": {},
   "source": [
    "## End-of-speech classification"
   ]
  },
  {
   "cell_type": "code",
   "execution_count": 4,
   "metadata": {},
   "outputs": [],
   "source": [
    "import json # for reading the .json files (dialog dataset)\n",
    "import numpy as np"
   ]
  },
  {
   "cell_type": "code",
   "execution_count": 5,
   "metadata": {},
   "outputs": [],
   "source": [
    "# from MultiWOZ-Parser; reading the names of the files for training, testing, validation datasets\n",
    "# https://github.com/jojonki/MultiWOZ-Parser/blob/master/parser.py\n",
    "\n",
    "def load_json(data_file):\n",
    "    if os.path.isfile(data_file):\n",
    "        with open(data_file, 'r') as read_file:\n",
    "            data = json.load(read_file)\n",
    "            return data\n",
    "\n",
    "def load_list_file(list_file):\n",
    "    with open(list_file, 'r') as read_file:\n",
    "        dialog_id_list = read_file.readlines()\n",
    "        dialog_id_list = [l.strip('\\n') for l in dialog_id_list]\n",
    "        return dialog_id_list\n",
    "    return"
   ]
  },
  {
   "cell_type": "code",
   "execution_count": 6,
   "metadata": {},
   "outputs": [],
   "source": [
    "# extracting data\n",
    "dialog_data_file = './datasets/MultiWOZ/data.json'\n",
    "dialog_data = load_json(dialog_data_file)\n",
    "dialog_id_list = list(set(dialog_data.keys()))\n",
    "\n",
    "valid_list_file = './datasets/MultiWOZ/valListFile.json'\n",
    "test_list_file = './datasets/MultiWOZ/testListFile.json'\n",
    "\n",
    "valid_id_list = list(set(load_list_file(valid_list_file)))\n",
    "test_id_list = load_list_file(test_list_file)\n",
    "train_id_list = [did for did in dialog_id_list if did not in (valid_id_list + test_id_list)]\n",
    "\n",
    "train_data = [v for k, v in dialog_data.items() if k in train_id_list]\n",
    "valid_data = [v for k, v in dialog_data.items() if k in valid_id_list]\n",
    "test_data = [v for k, v in dialog_data.items() if k in test_id_list]"
   ]
  },
  {
   "cell_type": "code",
   "execution_count": 7,
   "metadata": {},
   "outputs": [],
   "source": [
    "# merging all datasets together\n",
    "data = train_data + valid_data + test_data"
   ]
  },
  {
   "cell_type": "code",
   "execution_count": 8,
   "metadata": {},
   "outputs": [],
   "source": [
    "import re # for regex\n",
    "\n",
    "def text_tokens(text):\n",
    "    # transforming to lowercase\n",
    "    text = text.lower()\n",
    "    # replacing whitespace characters with spaces\n",
    "    text = re.sub(\"\\\\s\", \" \", text)\n",
    "    # removing everything that is not a letter\n",
    "    text = re.sub(\"[^a-zA-Z ']\", \"\", text)\n",
    "    \n",
    "    # splitting string into array based on spaces\n",
    "    tokens = text.split(' ')\n",
    "    \n",
    "    # removing empty strings from the tokens array\n",
    "    tokens = list(filter(('').__ne__, tokens))\n",
    "    \n",
    "    return tokens"
   ]
  },
  {
   "cell_type": "code",
   "execution_count": 9,
   "metadata": {},
   "outputs": [],
   "source": [
    "# from MultiWOZ-Parser\n",
    "# https://github.com/jojonki/MultiWOZ-Parser/blob/master/parser.py\n",
    "\n",
    "def get_dst_diff(prev_d, crnt_d):\n",
    "    assert len(prev_d) == len(crnt_d)\n",
    "    diff = {}\n",
    "    for ((k1, v1), (k2, v2)) in zip(prev_d.items(), crnt_d.items()):\n",
    "        assert k1 == k2\n",
    "        if v1 != v2: # updated\n",
    "            diff[k2] = v2\n",
    "    return diff\n",
    "\n",
    "def get_lines(d):\n",
    "    assert 'log' in d\n",
    "    assert 'goal' in d\n",
    "    domains = []\n",
    "    ignore_keys_in_goal = ['eod', 'messageLen', 'message'] # eod (probably) means the user archieved the goal. \n",
    "    for dom_k, dom_v  in d['goal'].items():\n",
    "        if dom_v and dom_k not in ignore_keys_in_goal: # check whether contains some goal entities\n",
    "            domains.append(dom_k)\n",
    "            \n",
    "    lines = []\n",
    "    \n",
    "    prev_d = None\n",
    "    for i, t in enumerate(d['log']):\n",
    "        spk = 'Usr' if i % 2 == 0 else 'Sys' # Turn 0 is always a user's turn in this corpus.\n",
    "        if spk == 'Sys':\n",
    "            if prev_d is None:\n",
    "                prev_d = t['metadata']\n",
    "            else:\n",
    "                crnt_d = t['metadata']\n",
    "                dst_diff = get_dst_diff(prev_d, crnt_d)\n",
    "                prev_d = crnt_d\n",
    "\n",
    "        lines.append(text_tokens(t['text']))\n",
    "\n",
    "    return lines"
   ]
  },
  {
   "cell_type": "code",
   "execution_count": 10,
   "metadata": {},
   "outputs": [],
   "source": [
    "def to_array(data):\n",
    "    # extracting dialogs from data\n",
    "    dialogs = [get_lines(dialog) for dialog in data]\n",
    "\n",
    "    s = []\n",
    "    # extracting individual dialogs\n",
    "    for sentences in dialogs:\n",
    "        # extracting each conversation turn\n",
    "        for sentence in sentences: \n",
    "            s.append(sentence)\n",
    "        \n",
    "    return s"
   ]
  },
  {
   "cell_type": "code",
   "execution_count": 11,
   "metadata": {},
   "outputs": [],
   "source": [
    "# list of individual conversation turns from MultiWOZ dataset\n",
    "data_full = to_array(data)"
   ]
  },
  {
   "cell_type": "code",
   "execution_count": 12,
   "metadata": {},
   "outputs": [
    {
     "name": "stdout",
     "output_type": "stream",
     "text": [
      "am looking for a place to to stay that has cheap price range it should be in a type of hotel\n",
      "okay do you have a specific area you want to stay in\n",
      "no i just need to make sure it's cheap oh and i need parking\n",
      "i found cheap hotel for you that includes parking do you like me to book it\n",
      "yes please people nights starting on tuesday\n"
     ]
    }
   ],
   "source": [
    "# data examples\n",
    "print(' '.join(data_full[0]))\n",
    "print(' '.join(data_full[1]))\n",
    "print(' '.join(data_full[2]))\n",
    "print(' '.join(data_full[3]))\n",
    "print(' '.join(data_full[4]))"
   ]
  },
  {
   "cell_type": "code",
   "execution_count": 13,
   "metadata": {},
   "outputs": [],
   "source": [
    "from collections import Counter # counting the occurrences of words in the dataset\n",
    "\n",
    "# creating a vocabulary of the top most frequent words in the dataset\n",
    "vocab = []\n",
    "for sentence in data_full:\n",
    "    for word in sentence:\n",
    "        vocab.append(word)\n",
    "\n",
    "VOCAB_SIZE=3000 # constant for the vocabulary size\n",
    "\n",
    "d = Counter(vocab) # count number of occurrences\n",
    "q = d.most_common()[0:VOCAB_SIZE] # create vocabulary of VOCAB_SIZE most common words\n",
    "vocab_top = [q[i][0] for i in range(VOCAB_SIZE)] # extracting the words from Counter structure"
   ]
  },
  {
   "cell_type": "markdown",
   "metadata": {},
   "source": [
    "---\n",
    "# Network implementation\n",
    "\n",
    "### MultiWOZ dataset"
   ]
  },
  {
   "cell_type": "code",
   "execution_count": 14,
   "metadata": {},
   "outputs": [
    {
     "name": "stdout",
     "output_type": "stream",
     "text": [
      "Found 400000 word vectors.\n"
     ]
    }
   ],
   "source": [
    "# From Deep Learning for Text Processing Workshop at Machine Learning Prague 2018\n",
    "# https://github.com/rossumai/mlprague18-nlp\n",
    "\n",
    "# Creating dictionary of each word in the pre-trained GloVe embeddings, saving its location indexes \n",
    "\n",
    "EMBEDDING_DIM = 50\n",
    "\n",
    "embeddings_index = {}\n",
    "# using the GloVe word embeddings\n",
    "f = open(os.path.join('glove.6B.%dd.txt' % EMBEDDING_DIM), encoding='utf-8')\n",
    "for line in f:\n",
    "    values = line.split()\n",
    "    word = values[0]\n",
    "    coefs = np.asarray(values[1:], dtype='float32')\n",
    "    embeddings_index[word] = coefs\n",
    "f.close()\n",
    "\n",
    "print('Found %s word vectors.' % len(embeddings_index))"
   ]
  },
  {
   "cell_type": "code",
   "execution_count": 15,
   "metadata": {},
   "outputs": [],
   "source": [
    "# a matrix that is indexed by our vocabulary, containing GloVe embedding for each vocabulary element\n",
    "embedding_matrix = np.zeros((len(vocab_top) + 1, EMBEDDING_DIM))\n",
    "for i, word in enumerate(vocab_top):\n",
    "    embedding_vector = embeddings_index.get(word)\n",
    "    if embedding_vector is not None:\n",
    "        # words not found in embedding index will be all-zeros; also, [0] is reserved for padding.\n",
    "        embedding_matrix[i + 1] = embedding_vector"
   ]
  },
  {
   "cell_type": "code",
   "execution_count": 16,
   "metadata": {},
   "outputs": [],
   "source": [
    "def vocab_indices_vector(tokens):\n",
    "    vector = [0] * seq_cutoff\n",
    "    \n",
    "    for i, t in enumerate(tokens):\n",
    "        try:\n",
    "            vector[i] = vocab_top.index(t) + 1 # reserving 0 for padding\n",
    "        except:\n",
    "            pass # ignore missing words\n",
    "        \n",
    "    return vector"
   ]
  },
  {
   "cell_type": "code",
   "execution_count": 17,
   "metadata": {},
   "outputs": [],
   "source": [
    "import random\n",
    "\n",
    "def split_data(data):\n",
    "    X = []\n",
    "    Y = []\n",
    "    for i in range(len(data)):\n",
    "        if (len(data[i]) > 60):\n",
    "            # too long senteces are cut by default\n",
    "            X.append(data[i])\n",
    "            Y.append(0)\n",
    "        else:\n",
    "            if (len(data[i]) > 1):\n",
    "                if (i <= (3*len(data))//4):\n",
    "                    # picking random point for splitting the conversation turn\n",
    "                    l = random.randrange(1, len(data[i]))\n",
    "                    # splitting data\n",
    "                    X.append(data[i][:l])\n",
    "                    # adding 0 to the target list -> 0 -- interrupted turn \n",
    "                    Y.append(0)\n",
    "\n",
    "                # second section of the dataset is made out of full conversation turns\n",
    "                else:\n",
    "                    # adding the full uninterrupted conversation turn\n",
    "                    X.append(data[i])\n",
    "                    # adding 1 to the target list -> 1 -- uninterrupted turn \n",
    "                    Y.append(1)\n",
    "            \n",
    "    # shuffling the dataset\n",
    "    c = list(zip(X, Y, data))\n",
    "    random.shuffle(c)\n",
    "    X, Y, data = zip(*c)\n",
    "    \n",
    "    # vectorizing the data\n",
    "    X = [vocab_indices_vector(x) for x in X]\n",
    "    \n",
    "    return X,Y,data"
   ]
  },
  {
   "cell_type": "code",
   "execution_count": 18,
   "metadata": {},
   "outputs": [
    {
     "name": "stdout",
     "output_type": "stream",
     "text": [
      "Longest: 61, Average: 12.765652, Median: 12, 90% percentile: 61 tokens\n"
     ]
    }
   ],
   "source": [
    "lengths = sorted([len(x) for x in data_full]) # sorted lengths of the all reviews\n",
    "percentile = 0.90 # we are looking at reviews that are short, the 10% making the long reviews\n",
    "seq_cutoff = lengths[-1]\n",
    "print(\n",
    "    'Longest: %d, Average: %f, Median: %d, %d%% percentile: %d tokens' % \n",
    "    (lengths[-1], np.mean(lengths), lengths[int(len(lengths)*0.5)], percentile*100, seq_cutoff)\n",
    ")"
   ]
  },
  {
   "cell_type": "code",
   "execution_count": 19,
   "metadata": {},
   "outputs": [
    {
     "data": {
      "text/plain": [
       "0.0002371172240746815"
      ]
     },
     "execution_count": 19,
     "metadata": {},
     "output_type": "execute_result"
    }
   ],
   "source": [
    "# ratio of words not included in the GloVe matrix\n",
    "1. * np.count_nonzero(np.all(embedding_matrix == 0, axis=1)) / len(vocab)"
   ]
  },
  {
   "cell_type": "code",
   "execution_count": 20,
   "metadata": {
    "scrolled": true
   },
   "outputs": [],
   "source": [
    "X, Y, data_clean = split_data(data_full)"
   ]
  },
  {
   "cell_type": "code",
   "execution_count": 21,
   "metadata": {},
   "outputs": [],
   "source": [
    "# splitting into training and validating parts\n",
    "# 2/3 for training, 1/3 for validating\n",
    "s = (len(X)//3)*2\n",
    "\n",
    "X_train = X[:s]\n",
    "Y_train = Y[:s]\n",
    "\n",
    "X_val = X[s+1:]\n",
    "Y_val = Y[s+1:]"
   ]
  },
  {
   "cell_type": "markdown",
   "metadata": {},
   "source": [
    "---"
   ]
  },
  {
   "cell_type": "code",
   "execution_count": 22,
   "metadata": {
    "scrolled": false
   },
   "outputs": [],
   "source": [
    "# NN from Deep Learning for Text Processing Workshop at Machine Learning Prague 2018\n",
    "# https://github.com/rossumai/mlprague18-nlp\n",
    "\n",
    "from tensorflow.keras.layers import Activation, Conv1D, Dense, Embedding, GlobalMaxPooling1D, Input, Dropout\n",
    "from tensorflow.keras.models import Model\n",
    "import numpy as np\n",
    "\n",
    "class GloveCNNAwesomeSentimentModel(object):\n",
    "    def __init__(self, N=256, size=3):\n",
    "        self.model = self.create(N, size)\n",
    "        self.model.summary()\n",
    "        self.model.compile(optimizer='adam', loss='binary_crossentropy', metrics=['accuracy'])\n",
    "        \n",
    "    def create(self, N, size):\n",
    "        seq_indices = Input(shape=(seq_cutoff,), name='seq_input') \n",
    "        seq_embedded = Embedding(input_dim=len(vocab_top) + 1, output_dim=EMBEDDING_DIM,\n",
    "                                 input_length=seq_cutoff)(seq_indices)\n",
    "        seq_conv = Conv1D(N, size, activation='relu')(Dropout(0.2)(seq_embedded)) # dropout - 0.2\n",
    "        max_conv = GlobalMaxPooling1D()(seq_conv)\n",
    "        hidden_repr = Dense(N, activation='relu')(max_conv)\n",
    "        sentiment = Dense(1, activation='sigmoid')(Dropout(0.2)(hidden_repr))\n",
    "\n",
    "        return Model(inputs=[seq_indices], outputs=[sentiment])\n",
    "\n",
    "    def train(self, X, y, X_val, y_val,EPOCHS=10):\n",
    "        print('Fitting...')\n",
    "        return self.model.fit(np.array(X), np.array(y), \n",
    "                              validation_data=(np.array(X_val), np.array(y_val)),\n",
    "                              epochs=EPOCHS, verbose=1)\n",
    "\n",
    "    def predict(self, X):\n",
    "        return self.model.predict(np.array(X))"
   ]
  },
  {
   "cell_type": "code",
   "execution_count": 23,
   "metadata": {},
   "outputs": [
    {
     "name": "stdout",
     "output_type": "stream",
     "text": [
      "Model: \"model\"\n",
      "_________________________________________________________________\n",
      "Layer (type)                 Output Shape              Param #   \n",
      "=================================================================\n",
      "seq_input (InputLayer)       [(None, 61)]              0         \n",
      "_________________________________________________________________\n",
      "embedding (Embedding)        (None, 61, 50)            150050    \n",
      "_________________________________________________________________\n",
      "dropout (Dropout)            (None, 61, 50)            0         \n",
      "_________________________________________________________________\n",
      "conv1d (Conv1D)              (None, 59, 256)           38656     \n",
      "_________________________________________________________________\n",
      "global_max_pooling1d (Global (None, 256)               0         \n",
      "_________________________________________________________________\n",
      "dense (Dense)                (None, 256)               65792     \n",
      "_________________________________________________________________\n",
      "dropout_1 (Dropout)          (None, 256)               0         \n",
      "_________________________________________________________________\n",
      "dense_1 (Dense)              (None, 1)                 257       \n",
      "=================================================================\n",
      "Total params: 254,755\n",
      "Trainable params: 254,755\n",
      "Non-trainable params: 0\n",
      "_________________________________________________________________\n",
      "Fitting...\n",
      "Train on 95266 samples, validate on 47632 samples\n",
      "Epoch 1/10\n",
      "95266/95266 [==============================] - 37s 384us/sample - loss: 0.3036 - accuracy: 0.8614 - val_loss: 0.2530 - val_accuracy: 0.8885\n",
      "Epoch 2/10\n",
      "95266/95266 [==============================] - 35s 367us/sample - loss: 0.2459 - accuracy: 0.8911 - val_loss: 0.2397 - val_accuracy: 0.8952\n",
      "Epoch 3/10\n",
      "95266/95266 [==============================] - 35s 367us/sample - loss: 0.2296 - accuracy: 0.9005 - val_loss: 0.2354 - val_accuracy: 0.8980\n",
      "Epoch 4/10\n",
      "95266/95266 [==============================] - 35s 370us/sample - loss: 0.2173 - accuracy: 0.9048 - val_loss: 0.2433 - val_accuracy: 0.8955\n",
      "Epoch 5/10\n",
      "95266/95266 [==============================] - 35s 370us/sample - loss: 0.2076 - accuracy: 0.9100 - val_loss: 0.2369 - val_accuracy: 0.8978\n",
      "Epoch 6/10\n",
      "95266/95266 [==============================] - 35s 370us/sample - loss: 0.1992 - accuracy: 0.9142 - val_loss: 0.2591 - val_accuracy: 0.8933\n",
      "Epoch 7/10\n",
      "95266/95266 [==============================] - 35s 367us/sample - loss: 0.1895 - accuracy: 0.9179 - val_loss: 0.2416 - val_accuracy: 0.8971\n",
      "Epoch 8/10\n",
      "95266/95266 [==============================] - 35s 368us/sample - loss: 0.1851 - accuracy: 0.9205 - val_loss: 0.2513 - val_accuracy: 0.8929\n",
      "Epoch 9/10\n",
      "95266/95266 [==============================] - 35s 371us/sample - loss: 0.1784 - accuracy: 0.9232 - val_loss: 0.2496 - val_accuracy: 0.8963\n",
      "Epoch 10/10\n",
      "95266/95266 [==============================] - 35s 370us/sample - loss: 0.1740 - accuracy: 0.9249 - val_loss: 0.2466 - val_accuracy: 0.8975\n"
     ]
    }
   ],
   "source": [
    "sentiment = GloveCNNAwesomeSentimentModel()\n",
    "history = sentiment.train(\n",
    "    X_train, Y_train, X_val, Y_val\n",
    ")"
   ]
  },
  {
   "cell_type": "code",
   "execution_count": 24,
   "metadata": {
    "scrolled": false
   },
   "outputs": [
    {
     "name": "stdout",
     "output_type": "stream",
     "text": [
      "0 1e-05 that\n",
      "0 0.00087 there are many trains that fit your needs on sunday do you\n",
      "0 0.00141 booking was successful\n",
      "0 0.49654 i would like to keep it cheap\n",
      "0 0.32139 is that one cheap\n",
      "0 0.0 you're very\n",
      "0 0.0 a\n",
      "0 0.47026 can you find me a train that goes to the cambridge museum\n",
      "1 0.96267 sure can i just get the travel time and departure time please\n",
      "0 0.02082 i will also need to book a taxi for commuting between\n"
     ]
    }
   ],
   "source": [
    "# test of the network\n",
    "for i in range(200,210):\n",
    "    if np.random.uniform() > 0.5:\n",
    "        if (len(data_clean[i]) > 4):\n",
    "            # picking random point for splitting the conversation turn\n",
    "            l = random.randrange(1, len(data_clean[i]) - 3)\n",
    "\n",
    "            test_tokens = text_tokens(' '.join(str(e) for e in data_clean[i][:l]))\n",
    "            prediction = sentiment.predict([vocab_indices_vector(test_tokens)])[0][0]\n",
    "            \n",
    "            print(0, np.around(prediction, 5), ' '.join(str(e) for e in data_clean[i][:l]))\n",
    "    else:\n",
    "        test_tokens = text_tokens(' '.join(str(e) for e in data_clean[i]))\n",
    "        prediction = sentiment.predict([vocab_indices_vector(test_tokens)])[0][0]\n",
    "\n",
    "        print(1, np.around(prediction, 5), ' '.join(str(e) for e in data_clean[i]))"
   ]
  },
  {
   "cell_type": "code",
   "execution_count": 25,
   "metadata": {
    "scrolled": false
   },
   "outputs": [
    {
     "name": "stdout",
     "output_type": "stream",
     "text": [
      "1\n",
      "Sentence len: 1 , number of sentences: 147\n",
      "0: 128 1: 19\n",
      "147/147 [==============================] - 0s 105us/sample - loss: 0.1023 - accuracy: 0.9524\n",
      "2\n",
      "Sentence len: 2 , number of sentences: 455\n",
      "0: 361 1: 94\n",
      "455/455 [==============================] - 0s 92us/sample - loss: 0.1566 - accuracy: 0.9407\n",
      "3\n",
      "Sentence len: 3 , number of sentences: 2459\n",
      "0: 1966 1: 493\n",
      "2459/2459 [==============================] - 0s 87us/sample - loss: 0.1676 - accuracy: 0.9341\n",
      "4\n",
      "Sentence len: 4 , number of sentences: 4636\n",
      "0: 3555 1: 1081\n",
      "4636/4636 [==============================] - 0s 84us/sample - loss: 0.1705 - accuracy: 0.9305\n",
      "5\n",
      "Sentence len: 5 , number of sentences: 6651\n",
      "0: 4961 1: 1690\n",
      "6651/6651 [==============================] - 1s 84us/sample - loss: 0.1844 - accuracy: 0.9256\n",
      "6\n",
      "Sentence len: 6 , number of sentences: 8776\n",
      "0: 6596 1: 2180\n",
      "8776/8776 [==============================] - 1s 85us/sample - loss: 0.1805 - accuracy: 0.9266\n",
      "7\n",
      "Sentence len: 7 , number of sentences: 9761\n",
      "0: 7421 1: 2340\n",
      "9761/9761 [==============================] - 1s 86us/sample - loss: 0.1708 - accuracy: 0.9323\n",
      "8\n",
      "Sentence len: 8 , number of sentences: 9354\n",
      "0: 7108 1: 2246\n",
      "9354/9354 [==============================] - 1s 85us/sample - loss: 0.1785 - accuracy: 0.9274\n",
      "9\n",
      "Sentence len: 9 , number of sentences: 9541\n",
      "0: 7146 1: 2395\n",
      "9541/9541 [==============================] - 1s 85us/sample - loss: 0.1711 - accuracy: 0.9286\n",
      "10\n",
      "Sentence len: 10 , number of sentences: 9354\n",
      "0: 6957 1: 2397\n",
      "9354/9354 [==============================] - 1s 84us/sample - loss: 0.1839 - accuracy: 0.9230\n",
      "11\n",
      "Sentence len: 11 , number of sentences: 9116\n",
      "0: 6824 1: 2292\n",
      "9116/9116 [==============================] - 1s 85us/sample - loss: 0.1793 - accuracy: 0.9271\n",
      "12\n",
      "Sentence len: 12 , number of sentences: 8103\n",
      "0: 6020 1: 2083\n",
      "8103/8103 [==============================] - 1s 84us/sample - loss: 0.1785 - accuracy: 0.9290\n",
      "13\n",
      "Sentence len: 13 , number of sentences: 7677\n",
      "0: 5757 1: 1920\n",
      "7677/7677 [==============================] - 1s 84us/sample - loss: 0.1750 - accuracy: 0.9290\n",
      "14\n",
      "Sentence len: 14 , number of sentences: 7201\n",
      "0: 5378 1: 1823\n",
      "7201/7201 [==============================] - 1s 85us/sample - loss: 0.1856 - accuracy: 0.9247\n",
      "15\n",
      "Sentence len: 15 , number of sentences: 6423\n",
      "0: 4816 1: 1607\n",
      "6423/6423 [==============================] - 1s 85us/sample - loss: 0.1813 - accuracy: 0.9268\n",
      "16\n",
      "Sentence len: 16 , number of sentences: 6024\n",
      "0: 4534 1: 1490\n",
      "6024/6024 [==============================] - 1s 86us/sample - loss: 0.1708 - accuracy: 0.9301\n",
      "17\n",
      "Sentence len: 17 , number of sentences: 5149\n",
      "0: 3816 1: 1333\n",
      "5149/5149 [==============================] - 0s 85us/sample - loss: 0.1737 - accuracy: 0.9278\n",
      "18\n",
      "Sentence len: 18 , number of sentences: 4831\n",
      "0: 3619 1: 1212\n",
      "4831/4831 [==============================] - 0s 86us/sample - loss: 0.1833 - accuracy: 0.9255\n",
      "19\n",
      "Sentence len: 19 , number of sentences: 4169\n",
      "0: 3121 1: 1048\n",
      "4169/4169 [==============================] - 0s 86us/sample - loss: 0.1814 - accuracy: 0.9259\n",
      "20\n",
      "Sentence len: 20 , number of sentences: 3825\n",
      "0: 2833 1: 992\n",
      "3825/3825 [==============================] - 0s 86us/sample - loss: 0.1717 - accuracy: 0.9328\n",
      "21\n",
      "Sentence len: 21 , number of sentences: 3382\n",
      "0: 2516 1: 866\n",
      "3382/3382 [==============================] - 0s 85us/sample - loss: 0.1693 - accuracy: 0.9332\n",
      "22\n",
      "Sentence len: 22 , number of sentences: 2981\n",
      "0: 2203 1: 778\n",
      "2981/2981 [==============================] - 0s 85us/sample - loss: 0.1756 - accuracy: 0.9289\n",
      "23\n",
      "Sentence len: 23 , number of sentences: 2699\n",
      "0: 1971 1: 728\n",
      "2699/2699 [==============================] - 0s 86us/sample - loss: 0.1878 - accuracy: 0.9259\n",
      "24\n",
      "Sentence len: 24 , number of sentences: 2246\n",
      "0: 1664 1: 582\n",
      "2246/2246 [==============================] - 0s 87us/sample - loss: 0.1759 - accuracy: 0.9337\n",
      "25\n",
      "Sentence len: 25 , number of sentences: 1972\n",
      "0: 1463 1: 509\n",
      "1972/1972 [==============================] - 0s 86us/sample - loss: 0.1788 - accuracy: 0.9290\n",
      "26\n",
      "Sentence len: 26 , number of sentences: 1687\n",
      "0: 1254 1: 433\n",
      "1687/1687 [==============================] - 0s 86us/sample - loss: 0.1674 - accuracy: 0.9342\n",
      "27\n",
      "Sentence len: 27 , number of sentences: 1420\n",
      "0: 1044 1: 376\n",
      "1420/1420 [==============================] - 0s 88us/sample - loss: 0.1866 - accuracy: 0.9239\n",
      "28\n",
      "Sentence len: 28 , number of sentences: 1173\n",
      "0: 854 1: 319\n",
      "1173/1173 [==============================] - 0s 87us/sample - loss: 0.1788 - accuracy: 0.9258\n",
      "29\n",
      "Sentence len: 29 , number of sentences: 834\n",
      "0: 617 1: 217\n",
      "834/834 [==============================] - 0s 87us/sample - loss: 0.2041 - accuracy: 0.9149\n",
      "30\n",
      "Sentence len: 30 , number of sentences: 506\n",
      "0: 385 1: 121\n",
      "506/506 [==============================] - 0s 88us/sample - loss: 0.1366 - accuracy: 0.9526\n",
      "31\n",
      "Sentence len: 31 , number of sentences: 212\n",
      "0: 158 1: 54\n",
      "212/212 [==============================] - 0s 95us/sample - loss: 0.1656 - accuracy: 0.9434\n",
      "32\n",
      "Sentence len: 32 , number of sentences: 31\n",
      "0: 25 1: 6\n",
      "31/31 [==============================] - 0s 119us/sample - loss: 0.1134 - accuracy: 0.9355\n",
      "33\n",
      "Sentence len: 33 , number of sentences: 22\n",
      "0: 16 1: 6\n",
      "22/22 [==============================] - 0s 191us/sample - loss: 0.2641 - accuracy: 0.8636\n",
      "34\n",
      "Sentence len: 34 , number of sentences: 11\n",
      "0: 8 1: 3\n",
      "11/11 [==============================] - 0s 270us/sample - loss: 0.1334 - accuracy: 1.0000\n",
      "35\n",
      "Sentence len: 35 , number of sentences: 9\n",
      "0: 9 1: 0\n",
      "9/9 [==============================] - 0s 294us/sample - loss: 0.1288 - accuracy: 0.8889\n",
      "36\n",
      "Sentence len: 36 , number of sentences: 21\n",
      "0: 21 1: 0\n",
      "21/21 [==============================] - 0s 160us/sample - loss: 0.1374 - accuracy: 0.9524\n",
      "37\n",
      "Sentence len: 37 , number of sentences: 10\n",
      "0: 7 1: 3\n",
      "10/10 [==============================] - 0s 295us/sample - loss: 0.0750 - accuracy: 1.0000\n",
      "38\n",
      "Sentence len: 38 , number of sentences: 2\n",
      "0: 2 1: 0\n",
      "2/2 [==============================] - 0s 1ms/sample - loss: 0.1696 - accuracy: 1.0000\n",
      "39\n",
      "Sentence len: 39 , number of sentences: 4\n",
      "0: 3 1: 1\n",
      "4/4 [==============================] - 0s 874us/sample - loss: 0.1371 - accuracy: 1.0000\n",
      "40\n",
      "Sentence len: 40 , number of sentences: 4\n",
      "0: 4 1: 0\n",
      "4/4 [==============================] - 0s 585us/sample - loss: 0.0203 - accuracy: 1.0000\n",
      "41\n",
      "Sentence len: 41 , number of sentences: 3\n",
      "0: 2 1: 1\n",
      "3/3 [==============================] - 0s 769us/sample - loss: 0.0187 - accuracy: 1.0000\n",
      "42\n",
      "Sentence len: 42 , number of sentences: 0\n",
      "0: 0 1: 0\n",
      "43\n",
      "Sentence len: 43 , number of sentences: 2\n",
      "0: 2 1: 0\n",
      "2/2 [==============================] - 0s 1ms/sample - loss: 1.0645 - accuracy: 0.5000\n",
      "44\n",
      "Sentence len: 44 , number of sentences: 1\n",
      "0: 1 1: 0\n",
      "1/1 [==============================] - 0s 2ms/sample - loss: 1.1550 - accuracy: 0.0000e+00\n",
      "45\n",
      "Sentence len: 45 , number of sentences: 2\n",
      "0: 2 1: 0\n",
      "2/2 [==============================] - 0s 1ms/sample - loss: 0.0320 - accuracy: 1.0000\n",
      "46\n",
      "Sentence len: 46 , number of sentences: 2\n",
      "0: 2 1: 0\n",
      "2/2 [==============================] - 0s 1ms/sample - loss: 0.8997 - accuracy: 0.5000\n",
      "47\n",
      "Sentence len: 47 , number of sentences: 1\n",
      "0: 1 1: 0\n",
      "1/1 [==============================] - 0s 2ms/sample - loss: 0.0944 - accuracy: 1.0000\n",
      "48\n",
      "Sentence len: 48 , number of sentences: 2\n",
      "0: 1 1: 1\n",
      "2/2 [==============================] - 0s 1ms/sample - loss: 0.1071 - accuracy: 1.0000\n",
      "49\n",
      "Sentence len: 49 , number of sentences: 1\n",
      "0: 1 1: 0\n",
      "1/1 [==============================] - 0s 2ms/sample - loss: 0.1411 - accuracy: 1.0000\n",
      "50\n",
      "Sentence len: 50 , number of sentences: 2\n",
      "0: 2 1: 0\n",
      "2/2 [==============================] - 0s 1ms/sample - loss: 0.0070 - accuracy: 1.0000\n",
      "51\n",
      "Sentence len: 51 , number of sentences: 0\n",
      "0: 0 1: 0\n",
      "52\n",
      "Sentence len: 52 , number of sentences: 0\n",
      "0: 0 1: 0\n",
      "53\n",
      "Sentence len: 53 , number of sentences: 0\n",
      "0: 0 1: 0\n",
      "54\n",
      "Sentence len: 54 , number of sentences: 0\n",
      "0: 0 1: 0\n",
      "55\n",
      "Sentence len: 55 , number of sentences: 2\n",
      "0: 1 1: 1\n",
      "2/2 [==============================] - 0s 1ms/sample - loss: 0.4977 - accuracy: 1.0000\n",
      "56\n",
      "Sentence len: 56 , number of sentences: 0\n",
      "0: 0 1: 0\n",
      "57\n",
      "Sentence len: 57 , number of sentences: 0\n",
      "0: 0 1: 0\n",
      "58\n",
      "Sentence len: 58 , number of sentences: 0\n",
      "0: 0 1: 0\n",
      "59\n",
      "Sentence len: 59 , number of sentences: 0\n",
      "0: 0 1: 0\n",
      "60\n",
      "Sentence len: 60 , number of sentences: 0\n",
      "0: 0 1: 0\n"
     ]
    }
   ],
   "source": [
    "# PRECISION ANALYSIS BASED ON THE LENGHT OF THE ANALYSED SENTENCES\n",
    "\n",
    "res_X = [[] for i in range(61)]\n",
    "res_Y = [[] for i in range(61)]\n",
    "res_clean = [[] for i in range(61)]\n",
    "results = []\n",
    "\n",
    "for i in range(len(data_clean)):\n",
    "    if len(data_clean[i]) < 60:\n",
    "        res_X[len(data_clean[i])].append(X[i])\n",
    "        res_Y[len(data_clean[i])].append(Y[i])\n",
    "        res_clean[len(data_clean[i])].append(data_clean[i])\n",
    "\n",
    "zeros = []\n",
    "ones = []\n",
    "        \n",
    "for i in range(1,61):\n",
    "    print(i)\n",
    "    print('Sentence len:', i, ', number of sentences:', len(res_clean[i]))\n",
    "    \n",
    "    zeros_ = len(np.array(res_Y[i])[np.array(res_Y[i]) == 0])\n",
    "    ones_ = len(np.array(res_Y[i])[np.array(res_Y[i]) == 1])\n",
    "    \n",
    "    print('0:', zeros_, '1:', ones_)\n",
    "    \n",
    "    zeros.append(zeros_)\n",
    "    ones.append(ones_)\n",
    "    \n",
    "    \n",
    "    if zeros_ + ones_ > 0:\n",
    "        results.append(sentiment.model.evaluate(res_X[i], res_Y[i]))\n",
    "    else:\n",
    "        results.append([0,0])"
   ]
  },
  {
   "cell_type": "code",
   "execution_count": 26,
   "metadata": {},
   "outputs": [
    {
     "data": {
      "text/plain": [
       "<Figure size 640x480 with 1 Axes>"
      ]
     },
     "metadata": {},
     "output_type": "display_data"
    }
   ],
   "source": [
    "import matplotlib.pyplot as plt\n",
    "\n",
    "\n",
    "plt.plot([results[i][1] for i in range(len(results)) if len], label='Accuracy')\n",
    "plt.xlim(0,40)\n",
    "plt.ylim(0.75,1.05)\n",
    "# plt.plot(l_er, label='Loss')\n",
    "plt.xlabel('Sentence length in words')\n",
    "plt.legend()\n",
    "plt.show()"
   ]
  },
  {
   "cell_type": "code",
   "execution_count": 27,
   "metadata": {},
   "outputs": [
    {
     "data": {
      "image/png": "[encoded data removed]",
      "text/plain": [
       "<Figure size 432x288 with 1 Axes>"
      ]
     },
     "metadata": {
      "needs_background": "light"
     },
     "output_type": "display_data"
    }
   ],
   "source": [
    "plt.plot([results[i][0] for i in range(len(results)) if len], label='Loss', c='red')\n",
    "plt.xlim(0,40)\n",
    "# plt.ylim(0.75,1.05)\n",
    "plt.xlabel('Sentence length in words')\n",
    "plt.legend()\n",
    "plt.show()"
   ]
  },
  {
   "cell_type": "code",
   "execution_count": 28,
   "metadata": {},
   "outputs": [
    {
     "data": {
      "text/plain": [
       "Text(0.5, 1.0, 'Sentences length distribution')"
      ]
     },
     "execution_count": 28,
     "metadata": {},
     "output_type": "execute_result"
    },
    {
     "data": {
      "image/png": "[encoded data removed]",
      "text/plain": [
       "<Figure size 432x288 with 1 Axes>"
      ]
     },
     "metadata": {
      "needs_background": "light"
     },
     "output_type": "display_data"
    }
   ],
   "source": [
    "plt.plot(np.array(zeros) + np.array(ones), c='black', label='All')\n",
    "plt.plot(np.array(ones), c='green', label='0')\n",
    "plt.plot(np.array(zeros), c='orange', label='1')\n",
    "plt.xlim(0,40)\n",
    "plt.legend()\n",
    "# plt.yscale('log')\n",
    "\n",
    "plt.title('Sentences length distribution')"
   ]
  },
  {
   "cell_type": "markdown",
   "metadata": {},
   "source": [
    "---\n",
    "\n",
    "### E2E dataset"
   ]
  },
  {
   "cell_type": "code",
   "execution_count": 29,
   "metadata": {},
   "outputs": [],
   "source": [
    "import pandas as pd\n",
    "\n",
    "restaurant_data = pd.read_csv('datasets/e2e/restaurant_all.tsv', sep='\\t',error_bad_lines=False,warn_bad_lines=False)['Message.Text']\n",
    "taxi_data = pd.read_csv('datasets/e2e/taxi_all.tsv', sep='\\t',error_bad_lines=False,warn_bad_lines=False)['Message.Text']\n",
    "movie_data = pd.read_csv('datasets/e2e/movie_all.tsv', sep='\\t',error_bad_lines=False,warn_bad_lines=False)['Message.Text']"
   ]
  },
  {
   "cell_type": "code",
   "execution_count": 30,
   "metadata": {},
   "outputs": [
    {
     "name": "stdout",
     "output_type": "stream",
     "text": [
      "No I really need Sunday - Does either of the other 2 places have an opening? Like Flatbread Neapolitan Pizzeria and it can be anywhere from 11 am - 2 pm\n"
     ]
    }
   ],
   "source": [
    "print(restaurant_data[12])"
   ]
  },
  {
   "cell_type": "code",
   "execution_count": 31,
   "metadata": {},
   "outputs": [],
   "source": [
    "def e2eGetter(data):\n",
    "    sentences = []\n",
    "    for sentence in data:\n",
    "        if isinstance(sentence, str):\n",
    "            sentences.append(text_tokens(sentence))\n",
    "    \n",
    "    return sentences"
   ]
  },
  {
   "cell_type": "code",
   "execution_count": 32,
   "metadata": {},
   "outputs": [],
   "source": [
    "# merging data together\n",
    "r_data = e2eGetter(restaurant_data)\n",
    "t_data = e2eGetter(taxi_data)\n",
    "m_data = e2eGetter(movie_data)\n",
    "\n",
    "e2e_data = r_data + t_data + m_data"
   ]
  },
  {
   "cell_type": "code",
   "execution_count": 33,
   "metadata": {},
   "outputs": [],
   "source": [
    "e2e_X, e2e_Y, e2e_data_clean = split_data(e2e_data)"
   ]
  },
  {
   "cell_type": "code",
   "execution_count": 34,
   "metadata": {},
   "outputs": [],
   "source": [
    "# splitting into training and validating parts\n",
    "# 2/3 for training, 1/3 for validating\n",
    "e2e_s = (len(e2e_X)//3)*2\n",
    "\n",
    "e2e_X_train = e2e_X[:e2e_s]\n",
    "e2e_Y_train = e2e_Y[:e2e_s]\n",
    "e2e_X_val = e2e_X[e2e_s+1:]\n",
    "e2e_Y_val = e2e_Y[e2e_s+1:]"
   ]
  },
  {
   "cell_type": "code",
   "execution_count": 35,
   "metadata": {
    "scrolled": false
   },
   "outputs": [
    {
     "name": "stdout",
     "output_type": "stream",
     "text": [
      "Model: \"model_1\"\n",
      "_________________________________________________________________\n",
      "Layer (type)                 Output Shape              Param #   \n",
      "=================================================================\n",
      "seq_input (InputLayer)       [(None, 61)]              0         \n",
      "_________________________________________________________________\n",
      "embedding_1 (Embedding)      (None, 61, 50)            150050    \n",
      "_________________________________________________________________\n",
      "dropout_2 (Dropout)          (None, 61, 50)            0         \n",
      "_________________________________________________________________\n",
      "conv1d_1 (Conv1D)            (None, 59, 256)           38656     \n",
      "_________________________________________________________________\n",
      "global_max_pooling1d_1 (Glob (None, 256)               0         \n",
      "_________________________________________________________________\n",
      "dense_2 (Dense)              (None, 256)               65792     \n",
      "_________________________________________________________________\n",
      "dropout_3 (Dropout)          (None, 256)               0         \n",
      "_________________________________________________________________\n",
      "dense_3 (Dense)              (None, 1)                 257       \n",
      "=================================================================\n",
      "Total params: 254,755\n",
      "Trainable params: 254,755\n",
      "Non-trainable params: 0\n",
      "_________________________________________________________________\n",
      "Fitting...\n",
      "Train on 40864 samples, validate on 20432 samples\n",
      "Epoch 1/10\n",
      "40864/40864 [==============================] - 16s 379us/sample - loss: 0.2184 - accuracy: 0.9169 - val_loss: 0.1685 - val_accuracy: 0.9380\n",
      "Epoch 2/10\n",
      "40864/40864 [==============================] - 15s 365us/sample - loss: 0.1530 - accuracy: 0.9428 - val_loss: 0.1620 - val_accuracy: 0.9396\n",
      "Epoch 3/10\n",
      "40864/40864 [==============================] - 15s 360us/sample - loss: 0.1322 - accuracy: 0.9502 - val_loss: 0.1503 - val_accuracy: 0.9465\n",
      "Epoch 4/10\n",
      "40864/40864 [==============================] - 15s 360us/sample - loss: 0.1189 - accuracy: 0.9556 - val_loss: 0.1490 - val_accuracy: 0.9468\n",
      "Epoch 5/10\n",
      "40864/40864 [==============================] - 15s 359us/sample - loss: 0.1094 - accuracy: 0.9586 - val_loss: 0.1502 - val_accuracy: 0.9475\n",
      "Epoch 6/10\n",
      "40864/40864 [==============================] - 15s 360us/sample - loss: 0.1031 - accuracy: 0.9609 - val_loss: 0.1563 - val_accuracy: 0.9463\n",
      "Epoch 7/10\n",
      "40864/40864 [==============================] - 15s 360us/sample - loss: 0.0966 - accuracy: 0.9635 - val_loss: 0.1670 - val_accuracy: 0.9444\n",
      "Epoch 8/10\n",
      "40864/40864 [==============================] - 15s 362us/sample - loss: 0.0932 - accuracy: 0.9652 - val_loss: 0.1743 - val_accuracy: 0.9468\n",
      "Epoch 9/10\n",
      "40864/40864 [==============================] - 15s 360us/sample - loss: 0.0905 - accuracy: 0.9654 - val_loss: 0.1674 - val_accuracy: 0.9462\n",
      "Epoch 10/10\n",
      "40864/40864 [==============================] - 15s 359us/sample - loss: 0.0856 - accuracy: 0.9674 - val_loss: 0.1787 - val_accuracy: 0.9461\n"
     ]
    }
   ],
   "source": [
    "sentiment = GloveCNNAwesomeSentimentModel()\n",
    "history = sentiment.train(\n",
    "    e2e_X_train, e2e_Y_train, e2e_X_val, e2e_Y_val\n",
    ")"
   ]
  },
  {
   "cell_type": "code",
   "execution_count": 36,
   "metadata": {
    "scrolled": true
   },
   "outputs": [
    {
     "name": "stdout",
     "output_type": "stream",
     "text": [
      "1\n",
      "Sentence len: 1 , number of sentences: 5472\n",
      "0: 3588 1: 1884\n",
      "5472/5472 [==============================] - 1s 103us/sample - loss: 0.1146 - accuracy: 0.9662\n",
      "2\n",
      "Sentence len: 2 , number of sentences: 4531\n",
      "0: 3484 1: 1047\n",
      "4531/4531 [==============================] - 0s 85us/sample - loss: 0.1072 - accuracy: 0.9658\n",
      "3\n",
      "Sentence len: 3 , number of sentences: 3560\n",
      "0: 2772 1: 788\n",
      "3560/3560 [==============================] - 0s 86us/sample - loss: 0.0938 - accuracy: 0.9713\n",
      "4\n",
      "Sentence len: 4 , number of sentences: 2905\n",
      "0: 2197 1: 708\n",
      "2905/2905 [==============================] - 0s 86us/sample - loss: 0.0992 - accuracy: 0.9673\n",
      "5\n",
      "Sentence len: 5 , number of sentences: 2655\n",
      "0: 2206 1: 449\n",
      "2655/2655 [==============================] - 0s 85us/sample - loss: 0.0969 - accuracy: 0.9631\n",
      "6\n",
      "Sentence len: 6 , number of sentences: 4153\n",
      "0: 3480 1: 673\n",
      "4153/4153 [==============================] - 0s 84us/sample - loss: 0.0828 - accuracy: 0.9716\n",
      "7\n",
      "Sentence len: 7 , number of sentences: 2864\n",
      "0: 2224 1: 640\n",
      "2864/2864 [==============================] - 0s 86us/sample - loss: 0.1032 - accuracy: 0.9668\n",
      "8\n",
      "Sentence len: 8 , number of sentences: 3055\n",
      "0: 2221 1: 834\n",
      "3055/3055 [==============================] - 0s 84us/sample - loss: 0.0967 - accuracy: 0.9745\n",
      "9\n",
      "Sentence len: 9 , number of sentences: 4512\n",
      "0: 3602 1: 910\n",
      "4512/4512 [==============================] - 0s 85us/sample - loss: 0.0943 - accuracy: 0.9672\n",
      "10\n",
      "Sentence len: 10 , number of sentences: 2216\n",
      "0: 1629 1: 587\n",
      "2216/2216 [==============================] - 0s 87us/sample - loss: 0.1117 - accuracy: 0.9630\n",
      "11\n",
      "Sentence len: 11 , number of sentences: 2260\n",
      "0: 1311 1: 949\n",
      "2260/2260 [==============================] - 0s 85us/sample - loss: 0.1314 - accuracy: 0.9575\n",
      "12\n",
      "Sentence len: 12 , number of sentences: 1773\n",
      "0: 1338 1: 435\n",
      "1773/1773 [==============================] - 0s 85us/sample - loss: 0.0894 - accuracy: 0.9701\n",
      "13\n",
      "Sentence len: 13 , number of sentences: 1998\n",
      "0: 1413 1: 585\n",
      "1998/1998 [==============================] - 0s 87us/sample - loss: 0.1272 - accuracy: 0.9650\n",
      "14\n",
      "Sentence len: 14 , number of sentences: 1680\n",
      "0: 1226 1: 454\n",
      "1680/1680 [==============================] - 0s 88us/sample - loss: 0.1191 - accuracy: 0.9601\n",
      "15\n",
      "Sentence len: 15 , number of sentences: 2038\n",
      "0: 1541 1: 497\n",
      "2038/2038 [==============================] - 0s 86us/sample - loss: 0.1393 - accuracy: 0.9465\n",
      "16\n",
      "Sentence len: 16 , number of sentences: 1910\n",
      "0: 1418 1: 492\n",
      "1910/1910 [==============================] - 0s 88us/sample - loss: 0.0946 - accuracy: 0.9691\n",
      "17\n",
      "Sentence len: 17 , number of sentences: 1689\n",
      "0: 1371 1: 318\n",
      "1689/1689 [==============================] - 0s 87us/sample - loss: 0.0865 - accuracy: 0.9704\n",
      "18\n",
      "Sentence len: 18 , number of sentences: 1233\n",
      "0: 868 1: 365\n",
      "1233/1233 [==============================] - 0s 89us/sample - loss: 0.1220 - accuracy: 0.9570\n",
      "19\n",
      "Sentence len: 19 , number of sentences: 986\n",
      "0: 718 1: 268\n",
      "986/986 [==============================] - 0s 88us/sample - loss: 0.1032 - accuracy: 0.9604\n",
      "20\n",
      "Sentence len: 20 , number of sentences: 801\n",
      "0: 601 1: 200\n",
      "801/801 [==============================] - 0s 91us/sample - loss: 0.0967 - accuracy: 0.9663\n",
      "21\n",
      "Sentence len: 21 , number of sentences: 711\n",
      "0: 512 1: 199\n",
      "711/711 [==============================] - 0s 89us/sample - loss: 0.1246 - accuracy: 0.9620\n",
      "22\n",
      "Sentence len: 22 , number of sentences: 666\n",
      "0: 503 1: 163\n",
      "666/666 [==============================] - 0s 87us/sample - loss: 0.1447 - accuracy: 0.9550\n",
      "23\n",
      "Sentence len: 23 , number of sentences: 658\n",
      "0: 517 1: 141\n",
      "658/658 [==============================] - 0s 90us/sample - loss: 0.1098 - accuracy: 0.9635\n",
      "24\n",
      "Sentence len: 24 , number of sentences: 524\n",
      "0: 392 1: 132\n",
      "524/524 [==============================] - 0s 91us/sample - loss: 0.1436 - accuracy: 0.9676\n",
      "25\n",
      "Sentence len: 25 , number of sentences: 512\n",
      "0: 391 1: 121\n",
      "512/512 [==============================] - 0s 87us/sample - loss: 0.1173 - accuracy: 0.9590\n",
      "26\n",
      "Sentence len: 26 , number of sentences: 409\n",
      "0: 322 1: 87\n",
      "409/409 [==============================] - 0s 90us/sample - loss: 0.0688 - accuracy: 0.9707\n",
      "27\n",
      "Sentence len: 27 , number of sentences: 360\n",
      "0: 287 1: 73\n",
      "360/360 [==============================] - 0s 93us/sample - loss: 0.0694 - accuracy: 0.9778\n",
      "28\n",
      "Sentence len: 28 , number of sentences: 335\n",
      "0: 281 1: 54\n",
      "335/335 [==============================] - 0s 91us/sample - loss: 0.0813 - accuracy: 0.9761\n",
      "29\n",
      "Sentence len: 29 , number of sentences: 387\n",
      "0: 324 1: 63\n",
      "387/387 [==============================] - 0s 91us/sample - loss: 0.0950 - accuracy: 0.9587\n",
      "30\n",
      "Sentence len: 30 , number of sentences: 180\n",
      "0: 154 1: 26\n",
      "180/180 [==============================] - 0s 101us/sample - loss: 0.1367 - accuracy: 0.9611\n",
      "31\n",
      "Sentence len: 31 , number of sentences: 194\n",
      "0: 153 1: 41\n",
      "194/194 [==============================] - 0s 101us/sample - loss: 0.0581 - accuracy: 0.9742\n",
      "32\n",
      "Sentence len: 32 , number of sentences: 145\n",
      "0: 123 1: 22\n",
      "145/145 [==============================] - 0s 107us/sample - loss: 0.0517 - accuracy: 0.9793\n",
      "33\n",
      "Sentence len: 33 , number of sentences: 163\n",
      "0: 124 1: 39\n",
      "163/163 [==============================] - 0s 109us/sample - loss: 0.0967 - accuracy: 0.9632\n",
      "34\n",
      "Sentence len: 34 , number of sentences: 189\n",
      "0: 157 1: 32\n",
      "189/189 [==============================] - 0s 100us/sample - loss: 0.0956 - accuracy: 0.9683\n",
      "35\n",
      "Sentence len: 35 , number of sentences: 152\n",
      "0: 121 1: 31\n",
      "152/152 [==============================] - 0s 105us/sample - loss: 0.0629 - accuracy: 0.9671\n",
      "36\n",
      "Sentence len: 36 , number of sentences: 120\n",
      "0: 93 1: 27\n",
      "120/120 [==============================] - 0s 114us/sample - loss: 0.1467 - accuracy: 0.9417\n",
      "37\n",
      "Sentence len: 37 , number of sentences: 97\n",
      "0: 87 1: 10\n",
      "97/97 [==============================] - 0s 128us/sample - loss: 0.0643 - accuracy: 0.9691\n",
      "38\n",
      "Sentence len: 38 , number of sentences: 86\n",
      "0: 62 1: 24\n",
      "86/86 [==============================] - 0s 129us/sample - loss: 0.1392 - accuracy: 0.9651\n",
      "39\n",
      "Sentence len: 39 , number of sentences: 91\n",
      "0: 80 1: 11\n",
      "91/91 [==============================] - 0s 113us/sample - loss: 0.0572 - accuracy: 0.9890\n",
      "40\n",
      "Sentence len: 40 , number of sentences: 49\n",
      "0: 37 1: 12\n",
      "49/49 [==============================] - 0s 150us/sample - loss: 0.0143 - accuracy: 1.0000\n",
      "41\n",
      "Sentence len: 41 , number of sentences: 30\n",
      "0: 25 1: 5\n",
      "30/30 [==============================] - 0s 131us/sample - loss: 0.0314 - accuracy: 1.0000\n",
      "42\n",
      "Sentence len: 42 , number of sentences: 52\n",
      "0: 35 1: 17\n",
      "52/52 [==============================] - 0s 152us/sample - loss: 0.2289 - accuracy: 0.8846\n",
      "43\n",
      "Sentence len: 43 , number of sentences: 29\n",
      "0: 23 1: 6\n",
      "29/29 [==============================] - 0s 161us/sample - loss: 0.1662 - accuracy: 0.8621\n",
      "44\n",
      "Sentence len: 44 , number of sentences: 23\n",
      "0: 22 1: 1\n",
      "23/23 [==============================] - 0s 161us/sample - loss: 0.1803 - accuracy: 0.9565\n",
      "45\n",
      "Sentence len: 45 , number of sentences: 34\n",
      "0: 24 1: 10\n",
      "34/34 [==============================] - 0s 240us/sample - loss: 0.0882 - accuracy: 0.9706\n",
      "46\n",
      "Sentence len: 46 , number of sentences: 21\n",
      "0: 11 1: 10\n",
      "21/21 [==============================] - 0s 169us/sample - loss: 0.0115 - accuracy: 1.0000\n",
      "47\n",
      "Sentence len: 47 , number of sentences: 33\n",
      "0: 25 1: 8\n",
      "33/33 [==============================] - 0s 206us/sample - loss: 0.0445 - accuracy: 1.0000\n",
      "48\n",
      "Sentence len: 48 , number of sentences: 18\n",
      "0: 16 1: 2\n",
      "18/18 [==============================] - 0s 188us/sample - loss: 0.0839 - accuracy: 0.9444\n",
      "49\n",
      "Sentence len: 49 , number of sentences: 29\n",
      "0: 28 1: 1\n",
      "29/29 [==============================] - 0s 132us/sample - loss: 0.0372 - accuracy: 0.9655\n",
      "50\n",
      "Sentence len: 50 , number of sentences: 13\n",
      "0: 9 1: 4\n",
      "13/13 [==============================] - 0s 255us/sample - loss: 0.1086 - accuracy: 1.0000\n",
      "51\n",
      "Sentence len: 51 , number of sentences: 12\n",
      "0: 11 1: 1\n",
      "12/12 [==============================] - 0s 257us/sample - loss: 0.0012 - accuracy: 1.0000\n",
      "52\n",
      "Sentence len: 52 , number of sentences: 12\n",
      "0: 10 1: 2\n",
      "12/12 [==============================] - 0s 359us/sample - loss: 0.0012 - accuracy: 1.0000\n",
      "53\n",
      "Sentence len: 53 , number of sentences: 14\n",
      "0: 12 1: 2\n",
      "14/14 [==============================] - 0s 237us/sample - loss: 0.0161 - accuracy: 1.0000\n",
      "54\n",
      "Sentence len: 54 , number of sentences: 10\n",
      "0: 6 1: 4\n",
      "10/10 [==============================] - 0s 300us/sample - loss: 0.2270 - accuracy: 0.9000\n"
     ]
    },
    {
     "name": "stdout",
     "output_type": "stream",
     "text": [
      "55\n",
      "Sentence len: 55 , number of sentences: 4\n",
      "0: 3 1: 1\n",
      "4/4 [==============================] - 0s 670us/sample - loss: 0.0567 - accuracy: 1.0000\n",
      "56\n",
      "Sentence len: 56 , number of sentences: 4\n",
      "0: 4 1: 0\n",
      "4/4 [==============================] - 0s 696us/sample - loss: 7.5545e-04 - accuracy: 1.0000\n",
      "57\n",
      "Sentence len: 57 , number of sentences: 4\n",
      "0: 4 1: 0\n",
      "4/4 [==============================] - 0s 634us/sample - loss: 0.0010 - accuracy: 1.0000\n",
      "58\n",
      "Sentence len: 58 , number of sentences: 5\n",
      "0: 5 1: 0\n",
      "5/5 [==============================] - 0s 538us/sample - loss: 9.2290e-04 - accuracy: 1.0000\n",
      "59\n",
      "Sentence len: 59 , number of sentences: 6\n",
      "0: 6 1: 0\n",
      "6/6 [==============================] - 0s 653us/sample - loss: 0.0197 - accuracy: 1.0000\n",
      "60\n",
      "Sentence len: 60 , number of sentences: 0\n",
      "0: 0 1: 0\n"
     ]
    }
   ],
   "source": [
    "# PRECISION ANALYSIS BASED ON THE LENGHT OF THE ANALYSED SENTENCES\n",
    "\n",
    "res_X = [[] for i in range(61)]\n",
    "res_Y = [[] for i in range(61)]\n",
    "res_clean = [[] for i in range(61)]\n",
    "results = []\n",
    "\n",
    "for i in range(len(e2e_data_clean)):\n",
    "    if len(e2e_data_clean[i]) < 60:\n",
    "        res_X[len(e2e_data_clean[i])].append(e2e_X[i])\n",
    "        res_Y[len(e2e_data_clean[i])].append(e2e_Y[i])\n",
    "        res_clean[len(e2e_data_clean[i])].append(e2e_data_clean[i])\n",
    "\n",
    "zeros = []\n",
    "ones = []\n",
    "        \n",
    "for i in range(1,61):\n",
    "    print(i)\n",
    "    print('Sentence len:', i, ', number of sentences:', len(res_clean[i]))\n",
    "    \n",
    "    zeros_ = len(np.array(res_Y[i])[np.array(res_Y[i]) == 0])\n",
    "    ones_ = len(np.array(res_Y[i])[np.array(res_Y[i]) == 1])\n",
    "    \n",
    "    print('0:', zeros_, '1:', ones_)\n",
    "    \n",
    "    zeros.append(zeros_)\n",
    "    ones.append(ones_)\n",
    "    \n",
    "    \n",
    "    if zeros_ + ones_ > 0:\n",
    "        results.append(sentiment.model.evaluate(res_X[i], res_Y[i]))\n",
    "    else:\n",
    "        results.append([0,0])"
   ]
  },
  {
   "cell_type": "code",
   "execution_count": 37,
   "metadata": {},
   "outputs": [
    {
     "data": {
      "image/png": "[encoded data removed]",
      "text/plain": [
       "<Figure size 432x288 with 1 Axes>"
      ]
     },
     "metadata": {
      "needs_background": "light"
     },
     "output_type": "display_data"
    }
   ],
   "source": [
    "plt.plot([results[i][1] for i in range(len(results)) if len], label='Accuracy')\n",
    "plt.xlim(0,40)\n",
    "plt.ylim(0.75,1.05)\n",
    "# plt.plot(l_er, label='Loss')\n",
    "plt.xlabel('Sentence length in words')\n",
    "plt.legend()\n",
    "plt.show()"
   ]
  },
  {
   "cell_type": "code",
   "execution_count": 38,
   "metadata": {},
   "outputs": [
    {
     "data": {
      "image/png": "[encoded data removed]",
      "text/plain": [
       "<Figure size 432x288 with 1 Axes>"
      ]
     },
     "metadata": {
      "needs_background": "light"
     },
     "output_type": "display_data"
    }
   ],
   "source": [
    "plt.plot([results[i][0] for i in range(len(results)) if len], label='Loss', c='red')\n",
    "plt.xlim(0,40)\n",
    "# plt.ylim(0.75,1.05)\n",
    "plt.xlabel('Sentence length in words')\n",
    "plt.legend()\n",
    "plt.show()"
   ]
  },
  {
   "cell_type": "code",
   "execution_count": 39,
   "metadata": {},
   "outputs": [
    {
     "data": {
      "text/plain": [
       "Text(0.5, 1.0, 'Sentence length distribution')"
      ]
     },
     "execution_count": 39,
     "metadata": {},
     "output_type": "execute_result"
    },
    {
     "data": {
      "image/png": "[encoded data removed]",
      "text/plain": [
       "<Figure size 432x288 with 1 Axes>"
      ]
     },
     "metadata": {
      "needs_background": "light"
     },
     "output_type": "display_data"
    }
   ],
   "source": [
    "plt.plot(np.array(zeros) + np.array(ones), c='black', label='All')\n",
    "plt.plot(np.array(ones), c='green', label='0')\n",
    "plt.plot(np.array(zeros), c='orange', label='1')\n",
    "plt.xlim(0,40)\n",
    "plt.legend()\n",
    "# plt.yscale('log')\n",
    "\n",
    "plt.title('Sentence length distribution')"
   ]
  },
  {
   "cell_type": "markdown",
   "metadata": {},
   "source": [
    "---\n",
    "\n",
    "### Taskmaster dataset"
   ]
  },
  {
   "cell_type": "code",
   "execution_count": 40,
   "metadata": {},
   "outputs": [],
   "source": [
    "def taskmasterGetter(path):\n",
    "    collection = []\n",
    "    f = open(path, 'r')\n",
    "    for x in f:\n",
    "        if '\"text\":' in x:\n",
    "            collection.append(text_tokens(x.lstrip()[len('\"text\": '):]))\n",
    "            \n",
    "    return collection"
   ]
  },
  {
   "cell_type": "code",
   "execution_count": 41,
   "metadata": {},
   "outputs": [],
   "source": [
    "taskmaster = taskmasterGetter('datasets/taskmaster/flights.json') +\\\n",
    "             taskmasterGetter('datasets/taskmaster/food-ordering.json') +\\\n",
    "             taskmasterGetter('datasets/taskmaster/hotels.json') +\\\n",
    "             taskmasterGetter('datasets/taskmaster/movies.json') +\\\n",
    "             taskmasterGetter('datasets/taskmaster/music.json') +\\\n",
    "             taskmasterGetter('datasets/taskmaster/restaurant-search.json') +\\\n",
    "             taskmasterGetter('datasets/taskmaster/sports.json')"
   ]
  },
  {
   "cell_type": "code",
   "execution_count": 42,
   "metadata": {},
   "outputs": [],
   "source": [
    "tm_X, tm_Y, tm_data_clean = split_data(taskmaster)"
   ]
  },
  {
   "cell_type": "code",
   "execution_count": 43,
   "metadata": {},
   "outputs": [],
   "source": [
    "# splitting into training and validating parts\n",
    "# 2/3 for training, 1/3 for validating\n",
    "tm_s = (len(tm_X)//3)*2\n",
    "\n",
    "tm_X_train = tm_X[:tm_s]\n",
    "tm_Y_train = tm_Y[:tm_s]\n",
    "tm_X_val = tm_X[tm_s+1:]\n",
    "tm_Y_val = tm_Y[tm_s+1:]"
   ]
  },
  {
   "cell_type": "code",
   "execution_count": 44,
   "metadata": {},
   "outputs": [
    {
     "name": "stdout",
     "output_type": "stream",
     "text": [
      "158204 118999 39205\n"
     ]
    }
   ],
   "source": [
    "print(len(tm_Y_val),\n",
    "      len(np.array(tm_Y_val)[np.array(tm_Y_val) == 0]),\n",
    "      len(np.array(tm_Y_val)[np.array(tm_Y_val) == 1]))"
   ]
  },
  {
   "cell_type": "code",
   "execution_count": 45,
   "metadata": {
    "scrolled": false
   },
   "outputs": [
    {
     "name": "stdout",
     "output_type": "stream",
     "text": [
      "Model: \"model_2\"\n",
      "_________________________________________________________________\n",
      "Layer (type)                 Output Shape              Param #   \n",
      "=================================================================\n",
      "seq_input (InputLayer)       [(None, 61)]              0         \n",
      "_________________________________________________________________\n",
      "embedding_2 (Embedding)      (None, 61, 50)            150050    \n",
      "_________________________________________________________________\n",
      "dropout_4 (Dropout)          (None, 61, 50)            0         \n",
      "_________________________________________________________________\n",
      "conv1d_2 (Conv1D)            (None, 59, 256)           38656     \n",
      "_________________________________________________________________\n",
      "global_max_pooling1d_2 (Glob (None, 256)               0         \n",
      "_________________________________________________________________\n",
      "dense_4 (Dense)              (None, 256)               65792     \n",
      "_________________________________________________________________\n",
      "dropout_5 (Dropout)          (None, 256)               0         \n",
      "_________________________________________________________________\n",
      "dense_5 (Dense)              (None, 1)                 257       \n",
      "=================================================================\n",
      "Total params: 254,755\n",
      "Trainable params: 254,755\n",
      "Non-trainable params: 0\n",
      "_________________________________________________________________\n",
      "Fitting...\n",
      "Train on 316410 samples, validate on 158204 samples\n",
      "Epoch 1/7\n",
      "316410/316410 [==============================] - 117s 371us/sample - loss: 0.2661 - accuracy: 0.8887 - val_loss: 0.2384 - val_accuracy: 0.9004\n",
      "Epoch 2/7\n",
      "316410/316410 [==============================] - 118s 372us/sample - loss: 0.2354 - accuracy: 0.9011 - val_loss: 0.2286 - val_accuracy: 0.9047\n",
      "Epoch 3/7\n",
      "316410/316410 [==============================] - 119s 375us/sample - loss: 0.2258 - accuracy: 0.9050 - val_loss: 0.2229 - val_accuracy: 0.9072\n",
      "Epoch 4/7\n",
      "316410/316410 [==============================] - 117s 371us/sample - loss: 0.2196 - accuracy: 0.9079 - val_loss: 0.2202 - val_accuracy: 0.9077\n",
      "Epoch 5/7\n",
      "316410/316410 [==============================] - 117s 371us/sample - loss: 0.2152 - accuracy: 0.9102 - val_loss: 0.2182 - val_accuracy: 0.9094\n",
      "Epoch 6/7\n",
      "316410/316410 [==============================] - 117s 370us/sample - loss: 0.2114 - accuracy: 0.9121 - val_loss: 0.2212 - val_accuracy: 0.9092\n",
      "Epoch 7/7\n",
      "316410/316410 [==============================] - 117s 371us/sample - loss: 0.2092 - accuracy: 0.9129 - val_loss: 0.2174 - val_accuracy: 0.9097\n"
     ]
    }
   ],
   "source": [
    "sentiment = GloveCNNAwesomeSentimentModel()\n",
    "history = sentiment.train(\n",
    "    tm_X_train, tm_Y_train, tm_X_val, tm_Y_val, EPOCHS=7)"
   ]
  },
  {
   "cell_type": "code",
   "execution_count": 46,
   "metadata": {},
   "outputs": [
    {
     "name": "stdout",
     "output_type": "stream",
     "text": [
      "1\n",
      "Sentence len: 1 , number of sentences: 108574\n",
      "0: 84342 1: 24232\n",
      "108574/108574 [==============================] - 9s 85us/sample - loss: 0.1924 - accuracy: 0.9218\n",
      "2\n",
      "Sentence len: 2 , number of sentences: 91108\n",
      "0: 68860 1: 22248\n",
      "91108/91108 [==============================] - 8s 85us/sample - loss: 0.2038 - accuracy: 0.9156\n",
      "3\n",
      "Sentence len: 3 , number of sentences: 49285\n",
      "0: 37500 1: 11785\n",
      "49285/49285 [==============================] - 4s 85us/sample - loss: 0.1955 - accuracy: 0.9199\n",
      "4\n",
      "Sentence len: 4 , number of sentences: 31037\n",
      "0: 22449 1: 8588\n",
      "31037/31037 [==============================] - 3s 85us/sample - loss: 0.2129 - accuracy: 0.9108\n",
      "5\n",
      "Sentence len: 5 , number of sentences: 30352\n",
      "0: 21959 1: 8393\n",
      "30352/30352 [==============================] - 3s 85us/sample - loss: 0.2127 - accuracy: 0.9086\n",
      "6\n",
      "Sentence len: 6 , number of sentences: 29386\n",
      "0: 21444 1: 7942\n",
      "29386/29386 [==============================] - 2s 85us/sample - loss: 0.2027 - accuracy: 0.9157\n",
      "7\n",
      "Sentence len: 7 , number of sentences: 21243\n",
      "0: 15500 1: 5743\n",
      "21243/21243 [==============================] - 2s 85us/sample - loss: 0.2071 - accuracy: 0.9118\n",
      "8\n",
      "Sentence len: 8 , number of sentences: 17759\n",
      "0: 12978 1: 4781\n",
      "17759/17759 [==============================] - 1s 84us/sample - loss: 0.2122 - accuracy: 0.9098\n",
      "9\n",
      "Sentence len: 9 , number of sentences: 15412\n",
      "0: 11306 1: 4106\n",
      "15412/15412 [==============================] - 1s 85us/sample - loss: 0.2120 - accuracy: 0.9125\n",
      "10\n",
      "Sentence len: 10 , number of sentences: 12679\n",
      "0: 9377 1: 3302\n",
      "12679/12679 [==============================] - 1s 85us/sample - loss: 0.2093 - accuracy: 0.9114\n",
      "11\n",
      "Sentence len: 11 , number of sentences: 10014\n",
      "0: 7255 1: 2759\n",
      "10014/10014 [==============================] - 1s 84us/sample - loss: 0.2092 - accuracy: 0.9109\n",
      "12\n",
      "Sentence len: 12 , number of sentences: 7948\n",
      "0: 5665 1: 2283\n",
      "7948/7948 [==============================] - 1s 85us/sample - loss: 0.2185 - accuracy: 0.9071\n",
      "13\n",
      "Sentence len: 13 , number of sentences: 6642\n",
      "0: 4815 1: 1827\n",
      "6642/6642 [==============================] - 1s 90us/sample - loss: 0.2151 - accuracy: 0.9070\n",
      "14\n",
      "Sentence len: 14 , number of sentences: 5265\n",
      "0: 3741 1: 1524\n",
      "5265/5265 [==============================] - 0s 86us/sample - loss: 0.1931 - accuracy: 0.9189\n",
      "15\n",
      "Sentence len: 15 , number of sentences: 4392\n",
      "0: 3108 1: 1284\n",
      "4392/4392 [==============================] - 0s 86us/sample - loss: 0.2202 - accuracy: 0.8994\n",
      "16\n",
      "Sentence len: 16 , number of sentences: 3743\n",
      "0: 2644 1: 1099\n",
      "3743/3743 [==============================] - 0s 85us/sample - loss: 0.2035 - accuracy: 0.9108\n",
      "17\n",
      "Sentence len: 17 , number of sentences: 3232\n",
      "0: 2328 1: 904\n",
      "3232/3232 [==============================] - 0s 112us/sample - loss: 0.2116 - accuracy: 0.9115\n",
      "18\n",
      "Sentence len: 18 , number of sentences: 3160\n",
      "0: 2458 1: 702\n",
      "3160/3160 [==============================] - 0s 87us/sample - loss: 0.1878 - accuracy: 0.9177\n",
      "19\n",
      "Sentence len: 19 , number of sentences: 2042\n",
      "0: 1498 1: 544\n",
      "2042/2042 [==============================] - 0s 87us/sample - loss: 0.2004 - accuracy: 0.9148\n",
      "20\n",
      "Sentence len: 20 , number of sentences: 1696\n",
      "0: 1232 1: 464\n",
      "1696/1696 [==============================] - 0s 85us/sample - loss: 0.2084 - accuracy: 0.9116\n",
      "21\n",
      "Sentence len: 21 , number of sentences: 1409\n",
      "0: 1050 1: 359\n",
      "1409/1409 [==============================] - 0s 87us/sample - loss: 0.1990 - accuracy: 0.9099\n",
      "22\n",
      "Sentence len: 22 , number of sentences: 1207\n",
      "0: 896 1: 311\n",
      "1207/1207 [==============================] - 0s 86us/sample - loss: 0.2052 - accuracy: 0.9080\n",
      "23\n",
      "Sentence len: 23 , number of sentences: 1061\n",
      "0: 789 1: 272\n",
      "1061/1061 [==============================] - 0s 90us/sample - loss: 0.2194 - accuracy: 0.9095\n",
      "24\n",
      "Sentence len: 24 , number of sentences: 922\n",
      "0: 685 1: 237\n",
      "922/922 [==============================] - 0s 88us/sample - loss: 0.2265 - accuracy: 0.8991\n",
      "25\n",
      "Sentence len: 25 , number of sentences: 838\n",
      "0: 645 1: 193\n",
      "838/838 [==============================] - 0s 90us/sample - loss: 0.2190 - accuracy: 0.9081\n",
      "26\n",
      "Sentence len: 26 , number of sentences: 727\n",
      "0: 558 1: 169\n",
      "727/727 [==============================] - 0s 89us/sample - loss: 0.1943 - accuracy: 0.9271\n",
      "27\n",
      "Sentence len: 27 , number of sentences: 631\n",
      "0: 469 1: 162\n",
      "631/631 [==============================] - 0s 87us/sample - loss: 0.2079 - accuracy: 0.9160\n",
      "28\n",
      "Sentence len: 28 , number of sentences: 559\n",
      "0: 429 1: 130\n",
      "559/559 [==============================] - 0s 87us/sample - loss: 0.2058 - accuracy: 0.9141\n",
      "29\n",
      "Sentence len: 29 , number of sentences: 429\n",
      "0: 336 1: 93\n",
      "429/429 [==============================] - 0s 90us/sample - loss: 0.1876 - accuracy: 0.9394\n",
      "30\n",
      "Sentence len: 30 , number of sentences: 400\n",
      "0: 326 1: 74\n",
      "400/400 [==============================] - 0s 93us/sample - loss: 0.1757 - accuracy: 0.9225\n",
      "31\n",
      "Sentence len: 31 , number of sentences: 314\n",
      "0: 252 1: 62\n",
      "314/314 [==============================] - 0s 91us/sample - loss: 0.1702 - accuracy: 0.9363\n",
      "32\n",
      "Sentence len: 32 , number of sentences: 290\n",
      "0: 229 1: 61\n",
      "290/290 [==============================] - 0s 99us/sample - loss: 0.1896 - accuracy: 0.9103\n",
      "33\n",
      "Sentence len: 33 , number of sentences: 294\n",
      "0: 235 1: 59\n",
      "294/294 [==============================] - 0s 95us/sample - loss: 0.2429 - accuracy: 0.8912\n",
      "34\n",
      "Sentence len: 34 , number of sentences: 257\n",
      "0: 211 1: 46\n",
      "257/257 [==============================] - 0s 97us/sample - loss: 0.2179 - accuracy: 0.9027\n",
      "35\n",
      "Sentence len: 35 , number of sentences: 201\n",
      "0: 163 1: 38\n",
      "201/201 [==============================] - 0s 101us/sample - loss: 0.1629 - accuracy: 0.9453\n",
      "36\n",
      "Sentence len: 36 , number of sentences: 183\n",
      "0: 138 1: 45\n",
      "183/183 [==============================] - 0s 100us/sample - loss: 0.2332 - accuracy: 0.8689\n",
      "37\n",
      "Sentence len: 37 , number of sentences: 180\n",
      "0: 144 1: 36\n",
      "180/180 [==============================] - 0s 104us/sample - loss: 0.1483 - accuracy: 0.9333\n",
      "38\n",
      "Sentence len: 38 , number of sentences: 162\n",
      "0: 112 1: 50\n",
      "162/162 [==============================] - 0s 105us/sample - loss: 0.2502 - accuracy: 0.8827\n",
      "39\n",
      "Sentence len: 39 , number of sentences: 122\n",
      "0: 96 1: 26\n",
      "122/122 [==============================] - 0s 112us/sample - loss: 0.3037 - accuracy: 0.8689\n",
      "40\n",
      "Sentence len: 40 , number of sentences: 122\n",
      "0: 94 1: 28\n",
      "122/122 [==============================] - 0s 107us/sample - loss: 0.2681 - accuracy: 0.8770\n",
      "41\n",
      "Sentence len: 41 , number of sentences: 93\n",
      "0: 65 1: 28\n",
      "93/93 [==============================] - 0s 120us/sample - loss: 0.2143 - accuracy: 0.9140\n",
      "42\n",
      "Sentence len: 42 , number of sentences: 112\n",
      "0: 86 1: 26\n",
      "112/112 [==============================] - 0s 116us/sample - loss: 0.1947 - accuracy: 0.9196\n",
      "43\n",
      "Sentence len: 43 , number of sentences: 123\n",
      "0: 96 1: 27\n",
      "123/123 [==============================] - 0s 106us/sample - loss: 0.1687 - accuracy: 0.9512\n",
      "44\n",
      "Sentence len: 44 , number of sentences: 63\n",
      "0: 45 1: 18\n",
      "63/63 [==============================] - 0s 134us/sample - loss: 0.0832 - accuracy: 0.9841\n",
      "45\n",
      "Sentence len: 45 , number of sentences: 58\n",
      "0: 47 1: 11\n",
      "58/58 [==============================] - 0s 132us/sample - loss: 0.1825 - accuracy: 0.9310\n",
      "46\n",
      "Sentence len: 46 , number of sentences: 79\n",
      "0: 63 1: 16\n",
      "79/79 [==============================] - 0s 129us/sample - loss: 0.1491 - accuracy: 0.9620\n",
      "47\n",
      "Sentence len: 47 , number of sentences: 72\n",
      "0: 53 1: 19\n",
      "72/72 [==============================] - 0s 137us/sample - loss: 0.2945 - accuracy: 0.9167\n",
      "48\n",
      "Sentence len: 48 , number of sentences: 89\n",
      "0: 63 1: 26\n",
      "89/89 [==============================] - 0s 129us/sample - loss: 0.2368 - accuracy: 0.8876\n",
      "49\n",
      "Sentence len: 49 , number of sentences: 61\n",
      "0: 46 1: 15\n",
      "61/61 [==============================] - 0s 147us/sample - loss: 0.1708 - accuracy: 0.9508\n",
      "50\n",
      "Sentence len: 50 , number of sentences: 68\n",
      "0: 56 1: 12\n",
      "68/68 [==============================] - 0s 136us/sample - loss: 0.3262 - accuracy: 0.8382\n",
      "51\n",
      "Sentence len: 51 , number of sentences: 58\n",
      "0: 44 1: 14\n",
      "58/58 [==============================] - 0s 139us/sample - loss: 0.2489 - accuracy: 0.9138\n",
      "52\n",
      "Sentence len: 52 , number of sentences: 56\n",
      "0: 54 1: 2\n",
      "56/56 [==============================] - 0s 145us/sample - loss: 0.2842 - accuracy: 0.9286\n",
      "53\n",
      "Sentence len: 53 , number of sentences: 43\n",
      "0: 38 1: 5\n",
      "43/43 [==============================] - 0s 169us/sample - loss: 0.2365 - accuracy: 0.9070\n",
      "54\n",
      "Sentence len: 54 , number of sentences: 46\n",
      "0: 35 1: 11\n"
     ]
    },
    {
     "name": "stdout",
     "output_type": "stream",
     "text": [
      "46/46 [==============================] - 0s 159us/sample - loss: 0.1749 - accuracy: 0.9348\n",
      "55\n",
      "Sentence len: 55 , number of sentences: 49\n",
      "0: 42 1: 7\n",
      "49/49 [==============================] - 0s 163us/sample - loss: 0.2413 - accuracy: 0.8980\n",
      "56\n",
      "Sentence len: 56 , number of sentences: 54\n",
      "0: 39 1: 15\n",
      "54/54 [==============================] - 0s 165us/sample - loss: 0.2519 - accuracy: 0.8704\n",
      "57\n",
      "Sentence len: 57 , number of sentences: 37\n",
      "0: 25 1: 12\n",
      "37/37 [==============================] - 0s 178us/sample - loss: 0.3133 - accuracy: 0.8649\n",
      "58\n",
      "Sentence len: 58 , number of sentences: 55\n",
      "0: 47 1: 8\n",
      "55/55 [==============================] - 0s 159us/sample - loss: 0.2173 - accuracy: 0.9091\n",
      "59\n",
      "Sentence len: 59 , number of sentences: 66\n",
      "0: 60 1: 6\n",
      "66/66 [==============================] - 0s 144us/sample - loss: 0.1122 - accuracy: 1.0000\n",
      "60\n",
      "Sentence len: 60 , number of sentences: 0\n",
      "0: 0 1: 0\n"
     ]
    }
   ],
   "source": [
    "# PRECISION ANALYSIS BASED ON THE LENGHT OF THE ANALYSED SENTENCES\n",
    "\n",
    "res_X = [[] for i in range(61)]\n",
    "res_Y = [[] for i in range(61)]\n",
    "res_clean = [[] for i in range(61)]\n",
    "results = []\n",
    "\n",
    "for i in range(len(tm_data_clean)):\n",
    "    if len(tm_data_clean[i]) < 60:\n",
    "        res_X[len(tm_data_clean[i])].append(tm_X[i])\n",
    "        res_Y[len(tm_data_clean[i])].append(tm_Y[i])\n",
    "        res_clean[len(tm_data_clean[i])].append(tm_data_clean[i])\n",
    "\n",
    "zeros = []\n",
    "ones = []\n",
    "        \n",
    "for i in range(1,61):\n",
    "    print(i)\n",
    "    print('Sentence len:', i, ', number of sentences:', len(res_clean[i]))\n",
    "    \n",
    "    zeros_ = len(np.array(res_Y[i])[np.array(res_Y[i]) == 0])\n",
    "    ones_ = len(np.array(res_Y[i])[np.array(res_Y[i]) == 1])\n",
    "    \n",
    "    print('0:', zeros_, '1:', ones_)\n",
    "    \n",
    "    zeros.append(zeros_)\n",
    "    ones.append(ones_)\n",
    "    \n",
    "    \n",
    "    if zeros_ + ones_ > 0:\n",
    "        results.append(sentiment.model.evaluate(res_X[i], res_Y[i]))\n",
    "    else:\n",
    "        results.append([0,0])"
   ]
  },
  {
   "cell_type": "code",
   "execution_count": 47,
   "metadata": {},
   "outputs": [
    {
     "data": {
      "image/png": "[encoded data removed]",
      "text/plain": [
       "<Figure size 432x288 with 1 Axes>"
      ]
     },
     "metadata": {
      "needs_background": "light"
     },
     "output_type": "display_data"
    }
   ],
   "source": [
    "plt.plot([results[i][1] for i in range(len(results)) if len], label='Accuracy')\n",
    "plt.xlim(0,40)\n",
    "plt.ylim(0.75,1.05)\n",
    "# plt.plot(l_er, label='Loss')\n",
    "plt.xlabel('Sentence length in words')\n",
    "plt.legend()\n",
    "plt.show()"
   ]
  },
  {
   "cell_type": "code",
   "execution_count": 48,
   "metadata": {},
   "outputs": [
    {
     "data": {
      "image/png": "[encoded data removed]",
      "text/plain": [
       "<Figure size 432x288 with 1 Axes>"
      ]
     },
     "metadata": {
      "needs_background": "light"
     },
     "output_type": "display_data"
    }
   ],
   "source": [
    "plt.plot([results[i][0] for i in range(len(results)) if len], label='Loss', c='red')\n",
    "plt.xlim(0,40)\n",
    "# plt.ylim(0.75,1.05)\n",
    "plt.xlabel('Sentence length in words')\n",
    "plt.legend()\n",
    "plt.show()"
   ]
  },
  {
   "cell_type": "code",
   "execution_count": 49,
   "metadata": {},
   "outputs": [
    {
     "data": {
      "text/plain": [
       "Text(0.5, 1.0, 'Sentence length distribution')"
      ]
     },
     "execution_count": 49,
     "metadata": {},
     "output_type": "execute_result"
    },
    {
     "data": {
      "image/png": "[encoded data removed]",
      "text/plain": [
       "<Figure size 432x288 with 1 Axes>"
      ]
     },
     "metadata": {
      "needs_background": "light"
     },
     "output_type": "display_data"
    }
   ],
   "source": [
    "plt.plot(np.array(zeros) + np.array(ones), c='black', label='All')\n",
    "plt.plot(np.array(ones), c='green', label='0')\n",
    "plt.plot(np.array(zeros), c='orange', label='1')\n",
    "plt.xlim(0,40)\n",
    "plt.legend()\n",
    "# plt.yscale('log')\n",
    "\n",
    "plt.title('Sentence length distribution')"
   ]
  },
  {
   "cell_type": "markdown",
   "metadata": {},
   "source": [
    "---"
   ]
  },
  {
   "cell_type": "code",
   "execution_count": 50,
   "metadata": {},
   "outputs": [
    {
     "name": "stdout",
     "output_type": "stream",
     "text": [
      "0.02562219 seconds\n"
     ]
    }
   ],
   "source": [
    "# PREDICTION TIME MEASUREMENT (based on 100 predictions, mainly for CPU/GPU speed comparison)\n",
    "\n",
    "import time\n",
    "\n",
    "# ------------\n",
    "cntr = 0\n",
    "for i in range(100):\n",
    "    start = time.time()\n",
    "    sentiment.predict([vocab_indices_vector(text_tokens('I would like to buy a new car'))])[0]\n",
    "    end = time.time()\n",
    "    \n",
    "    cntr += np.around(end - start, 8)\n",
    "# ------------\n",
    "\n",
    "print(np.around(cntr/100, 8), 'seconds')"
   ]
  },
  {
   "cell_type": "code",
   "execution_count": null,
   "metadata": {},
   "outputs": [],
   "source": []
  }
 ],
 "metadata": {
  "kernelspec": {
   "display_name": "Python 3",
   "language": "python",
   "name": "python3"
  },
  "language_info": {
   "codemirror_mode": {
    "name": "ipython",
    "version": 3
   },
   "file_extension": ".py",
   "mimetype": "text/x-python",
   "name": "python",
   "nbconvert_exporter": "python",
   "pygments_lexer": "ipython3",
   "version": "3.6.8"
  }
 },
 "nbformat": 4,
 "nbformat_minor": 2
}
