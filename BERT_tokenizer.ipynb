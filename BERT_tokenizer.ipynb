{
 "cells": [
  {
   "cell_type": "markdown",
   "metadata": {},
   "source": [
    "Presence of the following datasets is required.<br>\n",
    "`./datasets/taskmaster`"
   ]
  },
  {
   "cell_type": "code",
   "execution_count": 1,
   "metadata": {},
   "outputs": [],
   "source": [
    "# Control whether the network should run on GPU or CPU\n",
    "USE_CPU=False"
   ]
  },
  {
   "cell_type": "code",
   "execution_count": 2,
   "metadata": {},
   "outputs": [],
   "source": [
    "import os\n",
    "import tensorflow as tf\n",
    "\n",
    "# CPU or GPU\n",
    "if USE_CPU:\n",
    "    os.environ['CUDA_VISIBLE_DEVICES'] = '-1'\n",
    "\n",
    "    # GPU presence check\n",
    "    if tf.test.gpu_device_name():\n",
    "        print('GPU found')\n",
    "    else:\n",
    "        print(\"No GPU found\")"
   ]
  },
  {
   "cell_type": "code",
   "execution_count": 3,
   "metadata": {},
   "outputs": [
    {
     "name": "stdout",
     "output_type": "stream",
     "text": [
      "Sat Jul 18 18:41:52 2020       \r\n",
      "+-----------------------------------------------------------------------------+\r\n",
      "| NVIDIA-SMI 418.87.01    Driver Version: 418.87.01    CUDA Version: 10.1     |\r\n",
      "|-------------------------------+----------------------+----------------------+\r\n",
      "| GPU  Name        Persistence-M| Bus-Id        Disp.A | Volatile Uncorr. ECC |\r\n",
      "| Fan  Temp  Perf  Pwr:Usage/Cap|         Memory-Usage | GPU-Util  Compute M. |\r\n",
      "|===============================+======================+======================|\r\n",
      "|   0  Tesla K80           On   | 00000000:00:1E.0 Off |                    0 |\r\n",
      "| N/A   35C    P8    32W / 149W |      0MiB / 11441MiB |      0%      Default |\r\n",
      "+-------------------------------+----------------------+----------------------+\r\n",
      "                                                                               \r\n",
      "+-----------------------------------------------------------------------------+\r\n",
      "| Processes:                                                       GPU Memory |\r\n",
      "|  GPU       PID   Type   Process name                             Usage      |\r\n",
      "|=============================================================================|\r\n",
      "|  No running processes found                                                 |\r\n",
      "+-----------------------------------------------------------------------------+\r\n"
     ]
    }
   ],
   "source": [
    "!nvidia-smi"
   ]
  },
  {
   "cell_type": "code",
   "execution_count": 4,
   "metadata": {},
   "outputs": [],
   "source": [
    "# based on: https://stackabuse.com/text-classification-with-bert-tokenizer-and-tf-2-0-in-python/"
   ]
  },
  {
   "cell_type": "code",
   "execution_count": 5,
   "metadata": {},
   "outputs": [],
   "source": [
    "import tensorflow_hub as hub\n",
    "\n",
    "from tensorflow.keras import layers\n",
    "import bert\n",
    "\n",
    "import re\n",
    "import random\n",
    "import pandas as pd"
   ]
  },
  {
   "cell_type": "code",
   "execution_count": 6,
   "metadata": {},
   "outputs": [],
   "source": [
    "def text_tokens(text):\n",
    "    # transforming to lowercase\n",
    "    text = text.lower()\n",
    "    # replacing whitespace characters with spaces\n",
    "    text = re.sub(\"\\\\s\", \" \", text)\n",
    "    # removing everything that is not a letter\n",
    "    text = re.sub(\"[^a-zA-Z ']\", \"\", text)\n",
    "    \n",
    "    # splitting string into array based on spaces\n",
    "    tokens = text.split(' ')\n",
    "    \n",
    "    # removing empty strings from the tokens array\n",
    "    tokens = list(filter(('').__ne__, tokens))\n",
    "    \n",
    "    return tokens"
   ]
  },
  {
   "cell_type": "code",
   "execution_count": 7,
   "metadata": {},
   "outputs": [],
   "source": [
    "# extracting utterances from the taskmaster dataset\n",
    "def tm_getter(path):\n",
    "    SPEAKER=False\n",
    "    \n",
    "    collection = []\n",
    "    f = open(path, 'r')\n",
    "    for x in f:\n",
    "        if '\"speaker\":' in x:\n",
    "            SPEAKER=True\n",
    "        else:\n",
    "            if SPEAKER == True:\n",
    "                SPEAKER=False\n",
    "                if '\"text\":' in x:\n",
    "                    collection.append(text_tokens(x.lstrip()[len('\"text\": '):]))\n",
    "            \n",
    "    return collection"
   ]
  },
  {
   "cell_type": "code",
   "execution_count": 8,
   "metadata": {},
   "outputs": [],
   "source": [
    "tm_data = (\n",
    "    tm_getter(\"datasets/taskmaster/flights.json\") +\\\n",
    "    tm_getter(\"datasets/taskmaster/food-ordering.json\") +\\\n",
    "    tm_getter(\"datasets/taskmaster/hotels.json\") +\\\n",
    "    tm_getter(\"datasets/taskmaster/movies.json\") +\\\n",
    "    tm_getter(\"datasets/taskmaster/music.json\") +\\\n",
    "    tm_getter(\"datasets/taskmaster/restaurant-search.json\") +\\\n",
    "    tm_getter(\"datasets/taskmaster/sports.json\")\n",
    ")"
   ]
  },
  {
   "cell_type": "code",
   "execution_count": 9,
   "metadata": {},
   "outputs": [
    {
     "name": "stdout",
     "output_type": "stream",
     "text": [
      "['hello', \"i'd\", 'like', 'to', 'find', 'a', 'round', 'trip', 'commercial', 'airline', 'flight', 'from', 'san', 'francisco', 'to', 'denver']\n"
     ]
    }
   ],
   "source": [
    "print(tm_data[0])"
   ]
  },
  {
   "cell_type": "code",
   "execution_count": 10,
   "metadata": {},
   "outputs": [],
   "source": [
    "def split_data(data):\n",
    "    X = []\n",
    "    Y = []\n",
    "    s = []\n",
    "    for i in range(len(data)):\n",
    "        if i < (3*len(data))/4:\n",
    "            # for splitting, only sentences longer then 4 words are considered\n",
    "            if len(data[i]) > 4:\n",
    "                # too long sentences are skipped\n",
    "                if (len(data[i]) <= 50):\n",
    "                    # first half of the dataset is made out of interrupted conversation turns \n",
    "                    # picking random point for splitting the conversation turn\n",
    "                    l = random.randrange(1, len(data[i]) - 3)\n",
    "                    # splitting data\n",
    "                    X.append(' '.join(data[i][:l]))\n",
    "                    # adding 0 to the target list -> 0 -- interrupted turn \n",
    "                    Y.append(0)\n",
    "                    s.append(' '.join(data[i]))\n",
    "\n",
    "            else:\n",
    "                X.append(' '.join(data[i]))\n",
    "                Y.append(1)\n",
    "                s.append(' '.join(data[i]))\n",
    "        else:\n",
    "            X.append(' '.join(data[i]))\n",
    "            Y.append(1)\n",
    "            s.append(' '.join(data[i]))\n",
    "    \n",
    "    return pd.DataFrame(data={'original text' : s, 'text' : X, 'label' : Y})"
   ]
  },
  {
   "cell_type": "code",
   "execution_count": 11,
   "metadata": {},
   "outputs": [],
   "source": [
    "# creating dataset with artificially ended utterances and naturally ended utterances \n",
    "pd_tm = split_data(tm_data)"
   ]
  },
  {
   "cell_type": "code",
   "execution_count": 12,
   "metadata": {},
   "outputs": [
    {
     "name": "stdout",
     "output_type": "stream",
     "text": [
      "label 1: 179105 label 0: 161610\n"
     ]
    }
   ],
   "source": [
    "print('label 1:', len(pd_tm[pd_tm.label == 1]), 'label 0:', len(pd_tm[pd_tm.label == 0]))"
   ]
  },
  {
   "cell_type": "code",
   "execution_count": 13,
   "metadata": {},
   "outputs": [
    {
     "data": {
      "text/html": [
       "<div>\n",
       "<style scoped>\n",
       "    .dataframe tbody tr th:only-of-type {\n",
       "        vertical-align: middle;\n",
       "    }\n",
       "\n",
       "    .dataframe tbody tr th {\n",
       "        vertical-align: top;\n",
       "    }\n",
       "\n",
       "    .dataframe thead th {\n",
       "        text-align: right;\n",
       "    }\n",
       "</style>\n",
       "<table border=\"1\" class=\"dataframe\">\n",
       "  <thead>\n",
       "    <tr style=\"text-align: right;\">\n",
       "      <th></th>\n",
       "      <th>original text</th>\n",
       "      <th>text</th>\n",
       "      <th>label</th>\n",
       "    </tr>\n",
       "  </thead>\n",
       "  <tbody>\n",
       "    <tr>\n",
       "      <th>0</th>\n",
       "      <td>hello i'd like to find a round trip commercial...</td>\n",
       "      <td>hello i'd like to find a round trip commercial...</td>\n",
       "      <td>0</td>\n",
       "    </tr>\n",
       "    <tr>\n",
       "      <th>1</th>\n",
       "      <td>hello how can i help you</td>\n",
       "      <td>hello</td>\n",
       "      <td>0</td>\n",
       "    </tr>\n",
       "    <tr>\n",
       "      <th>2</th>\n",
       "      <td>san francisco to denver got it</td>\n",
       "      <td>san francisco</td>\n",
       "      <td>0</td>\n",
       "    </tr>\n",
       "    <tr>\n",
       "      <th>3</th>\n",
       "      <td>you're really on top of things i like that</td>\n",
       "      <td>you're really on top</td>\n",
       "      <td>0</td>\n",
       "    </tr>\n",
       "    <tr>\n",
       "      <th>4</th>\n",
       "      <td>so what days are you looking to fly</td>\n",
       "      <td>so what days are</td>\n",
       "      <td>0</td>\n",
       "    </tr>\n",
       "  </tbody>\n",
       "</table>\n",
       "</div>"
      ],
      "text/plain": [
       "                                       original text  \\\n",
       "0  hello i'd like to find a round trip commercial...   \n",
       "1                           hello how can i help you   \n",
       "2                     san francisco to denver got it   \n",
       "3         you're really on top of things i like that   \n",
       "4                so what days are you looking to fly   \n",
       "\n",
       "                                                text  label  \n",
       "0  hello i'd like to find a round trip commercial...      0  \n",
       "1                                              hello      0  \n",
       "2                                      san francisco      0  \n",
       "3                               you're really on top      0  \n",
       "4                                   so what days are      0  "
      ]
     },
     "execution_count": 13,
     "metadata": {},
     "output_type": "execute_result"
    }
   ],
   "source": [
    "pd_tm.head()"
   ]
  },
  {
   "cell_type": "markdown",
   "metadata": {},
   "source": [
    "### BERT tokenizer"
   ]
  },
  {
   "cell_type": "code",
   "execution_count": 14,
   "metadata": {},
   "outputs": [],
   "source": [
    "BertTokenizer = bert.bert_tokenization.FullTokenizer\n",
    "bert_layer = hub.KerasLayer(\"https://tfhub.dev/tensorflow/bert_en_uncased_L-12_H-768_A-12/1\", trainable=False)\n",
    "vocabulary_file = bert_layer.resolved_object.vocab_file.asset_path.numpy()\n",
    "to_lower_case = bert_layer.resolved_object.do_lower_case.numpy()\n",
    "tokenizer = BertTokenizer(vocabulary_file, to_lower_case)"
   ]
  },
  {
   "cell_type": "code",
   "execution_count": 15,
   "metadata": {},
   "outputs": [
    {
     "name": "stdout",
     "output_type": "stream",
     "text": [
      "['hello', 'i', \"'\", 'd', 'like', 'to', 'find', 'a', 'round', 'trip', 'commercial', 'airline', 'flight']\n"
     ]
    }
   ],
   "source": [
    "print(tokenizer.tokenize(pd_tm.text[0]))"
   ]
  },
  {
   "cell_type": "code",
   "execution_count": 16,
   "metadata": {},
   "outputs": [
    {
     "data": {
      "text/plain": [
       "[7592, 1045, 1005, 1040, 2066, 2000, 2424, 1037, 2461, 4440, 3293, 8582, 3462]"
      ]
     },
     "execution_count": 16,
     "metadata": {},
     "output_type": "execute_result"
    }
   ],
   "source": [
    "tokenizer.convert_tokens_to_ids(tokenizer.tokenize(pd_tm.text[0]))"
   ]
  },
  {
   "cell_type": "code",
   "execution_count": 17,
   "metadata": {},
   "outputs": [],
   "source": [
    "def tokenize_utterances(text_utterances):\n",
    "    return tokenizer.convert_tokens_to_ids(tokenizer.tokenize(text_utterances))"
   ]
  },
  {
   "cell_type": "code",
   "execution_count": 18,
   "metadata": {},
   "outputs": [],
   "source": [
    "tokenized_utterances = [tokenize_utterances(utterance) for utterance in pd_tm.text]"
   ]
  },
  {
   "cell_type": "code",
   "execution_count": 19,
   "metadata": {},
   "outputs": [],
   "source": [
    "utterances_with_len = [[utterance, pd_tm.label[i], len(utterance)]\n",
    "                 for i, utterance in enumerate(tokenized_utterances)]"
   ]
  },
  {
   "cell_type": "code",
   "execution_count": 20,
   "metadata": {},
   "outputs": [],
   "source": [
    "random.shuffle(utterances_with_len)"
   ]
  },
  {
   "cell_type": "code",
   "execution_count": 21,
   "metadata": {},
   "outputs": [],
   "source": [
    "utterances_with_len.sort(key=lambda x: x[2])"
   ]
  },
  {
   "cell_type": "code",
   "execution_count": 22,
   "metadata": {},
   "outputs": [],
   "source": [
    "fixed = []\n",
    "\n",
    "for x in utterances_with_len:\n",
    "    if x[2] > 3:\n",
    "        fixed.append(x)\n",
    "        \n",
    "utterances_with_len = fixed"
   ]
  },
  {
   "cell_type": "code",
   "execution_count": 23,
   "metadata": {},
   "outputs": [],
   "source": [
    "sorted_utterances_labels = [(utterance_lab[0], utterance_lab[1]) for utterance_lab in utterances_with_len]"
   ]
  },
  {
   "cell_type": "code",
   "execution_count": 24,
   "metadata": {},
   "outputs": [],
   "source": [
    "processed_dataset =\\\n",
    "    tf.data.Dataset.from_generator(lambda: sorted_utterances_labels, output_types=(tf.int32, tf.int32))"
   ]
  },
  {
   "cell_type": "code",
   "execution_count": 25,
   "metadata": {},
   "outputs": [],
   "source": [
    "BATCH_SIZE = 16\n",
    "batched_dataset = processed_dataset.padded_batch(BATCH_SIZE, padded_shapes=((None, ), ()))"
   ]
  },
  {
   "cell_type": "code",
   "execution_count": 26,
   "metadata": {},
   "outputs": [
    {
     "data": {
      "text/plain": [
       "(<tf.Tensor: shape=(16, 4), dtype=int32, numpy=\n",
       " array([[ 2182,  2003,  2115,  2299],\n",
       "        [ 1996,  8859,  5302, 11451],\n",
       "        [ 2907,  2006,  1037,  2117],\n",
       "        [ 7632,  3353,  1045,  2342],\n",
       "        [ 1045,  1005,  1040,  2066],\n",
       "        [ 2625,  2084,  1037,  2711],\n",
       "        [ 3100,  1043, 12541,  2891],\n",
       "        [ 9061,  2127,  2279,  2051],\n",
       "        [ 1050,  2094,  3203,  4743],\n",
       "        [ 5834,  2006,  4026,  2009],\n",
       "        [ 1045,  2572,  3241,  2065],\n",
       "        [ 2061,  3260,  5263,  2003],\n",
       "        [ 1045,  2031,  2312,  2980],\n",
       "        [ 2008,  1005,  1055,  2035],\n",
       "        [ 2031,  1037,  2307,  2154],\n",
       "        [ 1037,  2103,  1999,  2885]], dtype=int32)>,\n",
       " <tf.Tensor: shape=(16,), dtype=int32, numpy=array([1, 1, 0, 0, 0, 1, 0, 1, 1, 0, 0, 0, 0, 1, 1, 1], dtype=int32)>)"
      ]
     },
     "execution_count": 26,
     "metadata": {},
     "output_type": "execute_result"
    }
   ],
   "source": [
    "next(iter(batched_dataset))"
   ]
  },
  {
   "cell_type": "code",
   "execution_count": 27,
   "metadata": {},
   "outputs": [],
   "source": [
    "import math\n",
    "\n",
    "TOTAL_BATCHES = math.ceil(len(sorted_utterances_labels) / BATCH_SIZE)\n",
    "TEST_BATCHES = TOTAL_BATCHES // 10\n",
    "batched_dataset.shuffle(TOTAL_BATCHES)\n",
    "test_data = batched_dataset.take(TEST_BATCHES)\n",
    "train_data = batched_dataset.skip(TEST_BATCHES)"
   ]
  },
  {
   "cell_type": "code",
   "execution_count": 28,
   "metadata": {},
   "outputs": [],
   "source": [
    "class TEXT_MODEL(tf.keras.Model):\n",
    "    \n",
    "    def __init__(self,\n",
    "                 vocabulary_size,\n",
    "                 embedding_dimensions=128,\n",
    "                 cnn_filters=50,\n",
    "                 dnn_units=512,\n",
    "                 model_output_classes=2,\n",
    "                 dropout_rate=0.1,\n",
    "                 training=False,\n",
    "                 name=\"text_model\"):\n",
    "        super(TEXT_MODEL, self).__init__(name=name)\n",
    "        \n",
    "        self.embedding = layers.Embedding(vocabulary_size,\n",
    "                                          embedding_dimensions)\n",
    "        self.cnn_layer1 = layers.Conv1D(filters=cnn_filters,\n",
    "                                        kernel_size=2,\n",
    "                                        padding=\"valid\",\n",
    "                                        activation=\"relu\")\n",
    "        self.cnn_layer2 = layers.Conv1D(filters=cnn_filters,\n",
    "                                        kernel_size=3,\n",
    "                                        padding=\"valid\",\n",
    "                                        activation=\"relu\")\n",
    "        self.cnn_layer3 = layers.Conv1D(filters=cnn_filters,\n",
    "                                        kernel_size=3,\n",
    "                                        padding=\"valid\",\n",
    "                                        activation=\"relu\")\n",
    "        self.cnn_layer4 = layers.Conv1D(filters=cnn_filters,\n",
    "                                        kernel_size=3,\n",
    "                                        padding=\"valid\",\n",
    "                                        activation=\"relu\")\n",
    "        self.cnn_layer5 = layers.Conv1D(filters=cnn_filters,\n",
    "                                        kernel_size=3,\n",
    "                                        padding=\"valid\",\n",
    "                                        activation=\"relu\")\n",
    "        self.cnn_layer6 = layers.Conv1D(filters=cnn_filters,\n",
    "                                        kernel_size=4,\n",
    "                                        padding=\"valid\",\n",
    "                                        activation=\"relu\")\n",
    "        self.pool = layers.GlobalMaxPool1D()\n",
    "        \n",
    "        self.dense_1 = layers.Dense(units=dnn_units, activation=\"relu\")\n",
    "        self.dropout = layers.Dropout(rate=dropout_rate)\n",
    "\n",
    "        self.last_dense = layers.Dense(units=1, activation=\"sigmoid\")\n",
    "    \n",
    "    def call(self, inputs, training):\n",
    "        l = self.embedding(inputs)\n",
    "        l_1 = self.cnn_layer1(l) \n",
    "        l_1 = self.pool(l_1) \n",
    "        l_2 = self.cnn_layer2(l) \n",
    "        l_2 = self.pool(l_2)\n",
    "        l_3 = self.cnn_layer3(l)\n",
    "        l_3 = self.pool(l_3)\n",
    "        l_4 = self.cnn_layer4(l)\n",
    "        l_4 = self.pool(l_4)\n",
    "        l_5 = self.cnn_layer5(l)\n",
    "        l_5 = self.pool(l_5)\n",
    "        l_6 = self.cnn_layer6(l)\n",
    "        l_6 = self.pool(l_6)\n",
    "        \n",
    "        concatenated = tf.concat([l_1, l_2, l_3, l_4, l_5, l_6], axis=-1) # (batch_size, 3 * cnn_filters)\n",
    "        concatenated = self.dense_1(concatenated)\n",
    "        concatenated = self.dropout(concatenated, training)\n",
    "        model_output = self.last_dense(concatenated)\n",
    "        \n",
    "        return model_output"
   ]
  },
  {
   "cell_type": "code",
   "execution_count": 29,
   "metadata": {},
   "outputs": [],
   "source": [
    "VOCAB_LENGTH = len(tokenizer.vocab)\n",
    "EMB_DIM = 200\n",
    "CNN_FILTERS = 100\n",
    "DNN_UNITS = 256\n",
    "OUTPUT_CLASSES = 2\n",
    "\n",
    "DROPOUT_RATE = 0.2\n",
    "\n",
    "NB_EPOCHS = 10"
   ]
  },
  {
   "cell_type": "code",
   "execution_count": 30,
   "metadata": {},
   "outputs": [],
   "source": [
    "text_model = TEXT_MODEL(vocabulary_size=VOCAB_LENGTH,\n",
    "                        embedding_dimensions=EMB_DIM,\n",
    "                        cnn_filters=CNN_FILTERS,\n",
    "                        dnn_units=DNN_UNITS,\n",
    "                        model_output_classes=OUTPUT_CLASSES,\n",
    "                        dropout_rate=DROPOUT_RATE)"
   ]
  },
  {
   "cell_type": "code",
   "execution_count": 31,
   "metadata": {},
   "outputs": [],
   "source": [
    "text_model.compile(loss=\"binary_crossentropy\", optimizer=\"adam\", metrics=[\"accuracy\"])"
   ]
  },
  {
   "cell_type": "code",
   "execution_count": 32,
   "metadata": {},
   "outputs": [],
   "source": [
    "LOAD_SAVED=True"
   ]
  },
  {
   "cell_type": "code",
   "execution_count": 33,
   "metadata": {},
   "outputs": [],
   "source": [
    "if LOAD_SAVED:\n",
    "    text_model.load_weights('./saves/save_tokenizer2')\n",
    "else:\n",
    "    text_model.fit(train_data, epochs=NB_EPOCHS)\n",
    "    text_model.save_weights('./saves/save_tokenizer2')"
   ]
  },
  {
   "cell_type": "code",
   "execution_count": 34,
   "metadata": {},
   "outputs": [
    {
     "name": "stdout",
     "output_type": "stream",
     "text": [
      "   8899/Unknown - 54s 6ms/step - loss: 0.3519 - accuracy: 0.9148[0.3519458684755953, 0.9147844]\n"
     ]
    }
   ],
   "source": [
    "# GPU: 56 seconds, CPU: 55 seconds\n",
    "results = text_model.evaluate(train_data)\n",
    "print(results)"
   ]
  },
  {
   "cell_type": "code",
   "execution_count": 35,
   "metadata": {},
   "outputs": [
    {
     "name": "stdout",
     "output_type": "stream",
     "text": [
      "    988/Unknown - 5s 5ms/step - loss: 0.7160 - accuracy: 0.8448[0.7159622897583, 0.8448254]\n"
     ]
    }
   ],
   "source": [
    "results = text_model.evaluate(test_data)\n",
    "print(results)"
   ]
  },
  {
   "cell_type": "markdown",
   "metadata": {},
   "source": [
    "---"
   ]
  },
  {
   "cell_type": "code",
   "execution_count": 36,
   "metadata": {},
   "outputs": [
    {
     "name": "stdout",
     "output_type": "stream",
     "text": [
      "0.02877099 seconds\n"
     ]
    }
   ],
   "source": [
    "# PREDICTION TIME MEASUREMENT (based on 100 predictions, mainly for CPU/GPU speed comparison)\n",
    "\n",
    "import time\n",
    "import numpy as np\n",
    "\n",
    "# ------------\n",
    "sentence = 'Book three seats for tonight please'\n",
    "\n",
    "cntr = 0\n",
    "for i in range(100):\n",
    "    start = time.time()\n",
    "    text_model.predict([tokenize_utterances(sentence)])\n",
    "    end = time.time()\n",
    "    \n",
    "    cntr += np.around(end - start, 8)\n",
    "# ------------\n",
    "\n",
    "\n",
    "print(np.around(cntr/100, 8), 'seconds')"
   ]
  },
  {
   "cell_type": "code",
   "execution_count": 60,
   "metadata": {
    "scrolled": false
   },
   "outputs": [
    {
     "name": "stdout",
     "output_type": "stream",
     "text": [
      "0.0 \t 0 \t hello i'd like to find a round trip commercial airline flight\n",
      "1.0 \t 0 \t you're really on top\n",
      "0.02 \t 0 \t so what days are\n",
      "0.0 \t 0 \t so i would like to fly out sometime tonight and fly\n",
      "0.97 \t 0 \t that's right\n",
      "0.95 \t 1 \t that sounds very good\n",
      "0.99 \t 1 \t how does am work\n",
      "1.0 \t 1 \t okay it's possible\n",
      "1.0 \t 1 \t sounds good to me\n",
      "1.0 \t 1 \t that should be everything\n"
     ]
    }
   ],
   "source": [
    "# network testing\n",
    "\n",
    "N=10\n",
    "\n",
    "ones = 0\n",
    "zeros = 0\n",
    "\n",
    "for text, label in zip(pd_tm.text, pd_tm.label):\n",
    "    u = tokenize_utterances(text)\n",
    "    \n",
    "    if (label == 0) and (zeros < N/2):\n",
    "        if len(u) > 3:\n",
    "            zeros += 1\n",
    "            print(np.around(text_model.predict([u])[0][0],2), '\\t', label, '\\t', text)\n",
    "    if (label == 1) and (ones < N/2):\n",
    "        if len(u) > 3:\n",
    "            ones += 1\n",
    "            print(np.around(text_model.predict([u])[0][0],2), '\\t', label, '\\t', text)\n",
    "    \n",
    "    if (zeros + ones) == N:\n",
    "        break"
   ]
  },
  {
   "cell_type": "markdown",
   "metadata": {},
   "source": [
    "### Accuracy testing based on sentence length (number of words) "
   ]
  },
  {
   "cell_type": "code",
   "execution_count": 38,
   "metadata": {},
   "outputs": [],
   "source": [
    "# get a batch of sentences based on length (number of words) = i parameter\n",
    "def get_batch(i):\n",
    "    tokenized_utterances = [tokenize_utterances(utterance) for utterance in pd_tm.text]\n",
    "\n",
    "    utterances_with_len = [[utterance, pd_tm.label[i], len(utterance)]\n",
    "                     for i, utterance in enumerate(tokenized_utterances)]\n",
    "\n",
    "    utterances_with_len.sort(key=lambda x: x[2])\n",
    "\n",
    "    fixed = []\n",
    "    for x in utterances_with_len: \n",
    "        if x[2] == i: fixed.append(x)\n",
    "\n",
    "    utterances_with_len = fixed\n",
    "\n",
    "    sorted_utterances_labels = [(utterance_lab[0], utterance_lab[1]) for utterance_lab in utterances_with_len]\n",
    "\n",
    "    processed_dataset =\\\n",
    "        tf.data.Dataset.from_generator(lambda: sorted_utterances_labels, output_types=(tf.int32, tf.int32))\n",
    "\n",
    "    batched_dataset = processed_dataset.padded_batch(BATCH_SIZE, padded_shapes=((None, ), ()))\n",
    "\n",
    "    batched_dataset.shuffle(TOTAL_BATCHES)\n",
    "    return batched_dataset.take(TEST_BATCHES)"
   ]
  },
  {
   "cell_type": "code",
   "execution_count": 39,
   "metadata": {},
   "outputs": [],
   "source": [
    "ev_data = []\n",
    "\n",
    "for sentence in list(pd_tm.text):\n",
    "    ev_data.append(sentence.split(' '))"
   ]
  },
  {
   "cell_type": "code",
   "execution_count": 40,
   "metadata": {},
   "outputs": [],
   "source": [
    "data_clean = list(pd_tm['text'])\n",
    "Y = pd_tm['label']"
   ]
  },
  {
   "cell_type": "code",
   "execution_count": 41,
   "metadata": {},
   "outputs": [
    {
     "name": "stdout",
     "output_type": "stream",
     "text": [
      "\n",
      " 3\n",
      "Sentence len: 3 , number of sentences: 47197\n",
      "0: 20345 1: 26852\n",
      "    988/Unknown - 5s 5ms/step - loss: 0.6170 - accuracy: 0.8344\n",
      " 4\n",
      "Sentence len: 4 , number of sentences: 37025\n",
      "0: 13653 1: 23372\n",
      "    988/Unknown - 5s 5ms/step - loss: 0.7615 - accuracy: 0.8370\n",
      " 5\n",
      "Sentence len: 5 , number of sentences: 18958\n",
      "0: 9875 1: 9083\n",
      "    988/Unknown - 5s 5ms/step - loss: 0.6291 - accuracy: 0.8346\n",
      " 6\n",
      "Sentence len: 6 , number of sentences: 16508\n",
      "0: 7155 1: 9353\n",
      "    988/Unknown - 5s 5ms/step - loss: 0.4270 - accuracy: 0.8827- 5s 5ms/step - loss: 0.4820 - accuracy: 0.8 - 5s 5ms/step - loss: 0.4803 - \n",
      " 7\n",
      "Sentence len: 7 , number of sentences: 12082\n",
      "0: 5116 1: 6966\n",
      "    791/Unknown - 4s 5ms/step - loss: 0.3104 - accuracy: 0.9138\n",
      " 8\n",
      "Sentence len: 8 , number of sentences: 10292\n",
      "0: 3786 1: 6506\n",
      "    714/Unknown - 4s 5ms/step - loss: 0.2414 - accuracy: 0.9331\n",
      " 9\n",
      "Sentence len: 9 , number of sentences: 8481\n",
      "0: 2914 1: 5567\n",
      "    576/Unknown - 3s 5ms/step - loss: 0.1923 - accuracy: 0.9477\n",
      " 10\n",
      "Sentence len: 10 , number of sentences: 6656\n",
      "0: 2269 1: 4387\n",
      "    454/Unknown - 2s 5ms/step - loss: 0.1989 - accuracy: 0.9498\n",
      " 11\n",
      "Sentence len: 11 , number of sentences: 5142\n",
      "0: 1781 1: 3361\n",
      "    386/Unknown - 2s 5ms/step - loss: 0.1789 - accuracy: 0.9577\n",
      " 12\n",
      "Sentence len: 12 , number of sentences: 4194\n",
      "0: 1386 1: 2808\n",
      "    298/Unknown - 2s 6ms/step - loss: 0.2087 - accuracy: 0.9555- 1s 5ms/\n",
      " 13\n",
      "Sentence len: 13 , number of sentences: 3405\n",
      "0: 1095 1: 2310\n",
      "    242/Unknown - 1s 6ms/step - loss: 0.1690 - accuracy: 0.9606\n",
      " 14\n",
      "Sentence len: 14 , number of sentences: 2795\n",
      "0: 926 1: 1869\n",
      "    193/Unknown - 1s 6ms/step - loss: 0.1696 - accuracy: 0.9577- 1s 5ms/step - \n",
      " 15\n",
      "Sentence len: 15 , number of sentences: 2250\n",
      "0: 690 1: 1560\n",
      "    159/Unknown - 1s 6ms/step - loss: 0.1481 - accuracy: 0.9641\n",
      " 16\n",
      "Sentence len: 16 , number of sentences: 1780\n",
      "0: 556 1: 1224\n",
      "    135/Unknown - 1s 6ms/step - loss: 0.1595 - accuracy: 0.9702\n",
      " 17\n",
      "Sentence len: 17 , number of sentences: 1491\n",
      "0: 495 1: 996\n",
      "    112/Unknown - 1s 6ms/step - loss: 0.1948 - accuracy: 0.9665\n",
      " 18\n",
      "Sentence len: 18 , number of sentences: 1209\n",
      "0: 396 1: 813\n",
      "     96/Unknown - 1s 6ms/step - loss: 0.1498 - accuracy: 0.9679- 0s 6ms/step - loss: 0.1843\n",
      " 19\n",
      "Sentence len: 19 , number of sentences: 972\n",
      "0: 307 1: 665\n",
      "     77/Unknown - 0s 6ms/step - loss: 0.2160 - accuracy: 0.9586\n",
      " 20\n",
      "Sentence len: 20 , number of sentences: 761\n",
      "0: 250 1: 511\n",
      "     64/Unknown - 0s 6ms/step - loss: 0.1541 - accuracy: 0.9625\n",
      " 21\n",
      "Sentence len: 21 , number of sentences: 710\n",
      "0: 243 1: 467\n",
      "     57/Unknown - 0s 7ms/step - loss: 0.2758 - accuracy: 0.9568\n",
      " 22\n",
      "Sentence len: 22 , number of sentences: 563\n",
      "0: 196 1: 367\n",
      "     45/Unknown - 0s 7ms/step - loss: 0.0889 - accuracy: 0.9745- 0s 6ms/step - loss: 0.0952 - accuracy: 0.\n",
      " 23\n",
      "Sentence len: 23 , number of sentences: 545\n",
      "0: 159 1: 386\n",
      "     41/Unknown - 0s 7ms/step - loss: 0.2229 - accuracy: 0.9657\n",
      " 24\n",
      "Sentence len: 24 , number of sentences: 412\n",
      "0: 120 1: 292\n",
      "     34/Unknown - 0s 7ms/step - loss: 0.2973 - accuracy: 0.9527\n",
      " 25\n",
      "Sentence len: 25 , number of sentences: 366\n",
      "0: 112 1: 254\n",
      "     30/Unknown - 0s 7ms/step - loss: 0.0893 - accuracy: 0.9744\n",
      " 26\n",
      "Sentence len: 26 , number of sentences: 304\n",
      "0: 89 1: 215\n",
      "     28/Unknown - 0s 7ms/step - loss: 0.2282 - accuracy: 0.9654\n",
      " 27\n",
      "Sentence len: 27 , number of sentences: 260\n",
      "0: 87 1: 173\n",
      "     26/Unknown - 0s 8ms/step - loss: 0.1586 - accuracy: 0.9710\n",
      " 28\n",
      "Sentence len: 28 , number of sentences: 221\n",
      "0: 69 1: 152\n",
      "     20/Unknown - 0s 6ms/step - loss: 0.1006 - accuracy: 0.9844\n",
      " 29\n",
      "Sentence len: 29 , number of sentences: 165\n",
      "0: 72 1: 93\n",
      "     19/Unknown - 0s 8ms/step - loss: 0.1915 - accuracy: 0.9700\n",
      " 30\n",
      "Sentence len: 30 , number of sentences: 138\n",
      "0: 62 1: 76\n",
      "     16/Unknown - 0s 9ms/step - loss: 0.1240 - accuracy: 0.9721\n",
      " 31\n",
      "Sentence len: 31 , number of sentences: 119\n",
      "0: 37 1: 82\n",
      "     13/Unknown - 0s 10ms/step - loss: 0.2867 - accuracy: 0.9648\n",
      " 32\n",
      "Sentence len: 32 , number of sentences: 86\n",
      "0: 33 1: 53\n",
      "     12/Unknown - 0s 10ms/step - loss: 0.1700 - accuracy: 0.9728\n",
      " 33\n",
      "Sentence len: 33 , number of sentences: 97\n",
      "0: 36 1: 61\n",
      "     10/Unknown - 0s 16ms/step - loss: 0.2498 - accuracy: 0.9669\n",
      " 34\n",
      "Sentence len: 34 , number of sentences: 84\n",
      "0: 38 1: 46\n",
      "      9/Unknown - 0s 17ms/step - loss: 0.1703 - accuracy: 0.9462\n",
      " 35\n",
      "Sentence len: 35 , number of sentences: 40\n",
      "0: 19 1: 21\n",
      "      6/Unknown - 0s 22ms/step - loss: 0.0037 - accuracy: 1.0000\n",
      " 36\n",
      "Sentence len: 36 , number of sentences: 39\n",
      "0: 17 1: 22\n",
      "      6/Unknown - 0s 21ms/step - loss: 0.0479 - accuracy: 0.9877\n",
      " 37\n",
      "Sentence len: 37 , number of sentences: 37\n",
      "0: 17 1: 20\n",
      "      6/Unknown - 0s 23ms/step - loss: 0.2036 - accuracy: 0.9655\n",
      " 38\n",
      "Sentence len: 38 , number of sentences: 43\n",
      "0: 13 1: 30\n",
      "      4/Unknown - 0s 32ms/step - loss: 0.4853 - accuracy: 0.9016\n",
      " 39\n",
      "Sentence len: 39 , number of sentences: 46\n",
      "0: 16 1: 30\n",
      "      4/Unknown - 0s 31ms/step - loss: 0.6174 - accuracy: 0.9074\n",
      " 40\n",
      "Sentence len: 40 , number of sentences: 34\n",
      "0: 7 1: 27\n",
      "      3/Unknown - 0s 9ms/step - loss: 0.6997 - accuracy: 0.9167\n",
      " 41\n",
      "Sentence len: 41 , number of sentences: 45\n",
      "0: 10 1: 35\n",
      "      3/Unknown - 0s 40ms/step - loss: 0.1676 - accuracy: 0.9778\n",
      " 42\n",
      "Sentence len: 42 , number of sentences: 27\n",
      "0: 4 1: 23\n",
      "      3/Unknown - 0s 39ms/step - loss: 0.0423 - accuracy: 0.9737\n",
      " 43\n",
      "Sentence len: 43 , number of sentences: 17\n",
      "0: 3 1: 14\n",
      "      3/Unknown - 0s 34ms/step - loss: 0.0404 - accuracy: 0.9697\n",
      " 44\n",
      "Sentence len: 44 , number of sentences: 9\n",
      "0: 2 1: 7\n",
      "      3/Unknown - 0s 38ms/step - loss: 0.3138 - accuracy: 0.9474\n",
      " 45\n",
      "Sentence len: 45 , number of sentences: 13\n",
      "0: 1 1: 12\n",
      "      2/Unknown - 0s 57ms/step - loss: 0.0492 - accuracy: 0.9600\n",
      " 46\n",
      "Sentence len: 46 , number of sentences: 9\n",
      "0: 1 1: 8\n",
      "      2/Unknown - 0s 57ms/step - loss: 4.5321e-06 - accuracy: 1.0000\n",
      " 47\n",
      "Sentence len: 47 , number of sentences: 9\n",
      "0: 0 1: 9\n",
      "      3/Unknown - 0s 10ms/step - loss: 0.3260 - accuracy: 0.9375\n",
      " 48\n",
      "Sentence len: 48 , number of sentences: 15\n",
      "0: 0 1: 15\n",
      "      1/Unknown - 0s 15ms/step - loss: 0.2456 - accuracy: 0.9375\n",
      " 49\n",
      "Sentence len: 49 , number of sentences: 15\n",
      "0: 0 1: 15\n",
      "      1/Unknown - 0s 107ms/step - loss: 0.0025 - accuracy: 1.0000\n",
      " 50\n",
      "Sentence len: 50 , number of sentences: 7\n",
      "0: 0 1: 7\n",
      "      2/Unknown - 0s 48ms/step - loss: 0.2959 - accuracy: 0.9412\n",
      " 51\n",
      "Sentence len: 51 , number of sentences: 6\n",
      "0: 0 1: 6\n",
      "      1/Unknown - 0s 75ms/step - loss: 0.0528 - accuracy: 1.0000\n",
      " 52\n",
      "Sentence len: 52 , number of sentences: 5\n",
      "0: 0 1: 5\n",
      "      1/Unknown - 0s 105ms/step - loss: 0.0307 - accuracy: 1.0000\n",
      " 53\n",
      "Sentence len: 53 , number of sentences: 6\n",
      "0: 0 1: 6\n",
      "      1/Unknown - 0s 17ms/step - loss: 5.4448e-05 - accuracy: 1.0000\n",
      " 54\n",
      "Sentence len: 54 , number of sentences: 7\n",
      "0: 0 1: 7\n",
      "      1/Unknown - 0s 107ms/step - loss: 3.9405e-05 - accuracy: 1.0000\n",
      " 55\n",
      "Sentence len: 55 , number of sentences: 2\n",
      "0: 0 1: 2\n",
      "      1/Unknown - 0s 106ms/step - loss: 0.0129 - accuracy: 1.0000\n",
      " 56\n",
      "Sentence len: 56 , number of sentences: 6\n",
      "0: 0 1: 6\n",
      "      1/Unknown - 0s 103ms/step - loss: 2.8701e-06 - accuracy: 1.0000\n",
      " 57\n",
      "Sentence len: 57 , number of sentences: 7\n",
      "0: 0 1: 7\n",
      "      1/Unknown - 0s 105ms/step - loss: 0.2959 - accuracy: 0.8571\n",
      " 58\n",
      "Sentence len: 58 , number of sentences: 6\n",
      "0: 0 1: 6\n",
      "      1/Unknown - 0s 104ms/step - loss: 2.8340e-04 - accuracy: 1.0000\n",
      " 59\n",
      "Sentence len: 59 , number of sentences: 1\n",
      "0: 0 1: 1\n",
      "      1/Unknown - 0s 111ms/step - loss: 0.0745 - accuracy: 0.9231\n",
      " 60\n",
      "Sentence len: 60 , number of sentences: 0\n",
      "0: 0 1: 0\n"
     ]
    }
   ],
   "source": [
    "res_Y = [[] for i in range(61)]\n",
    "res_clean = [[] for i in range(61)]\n",
    "results = []\n",
    "\n",
    "for i in range(len(ev_data)):\n",
    "    if len(ev_data[i]) < 60:\n",
    "        res_Y[len(ev_data[i])].append(Y[i])\n",
    "        res_clean[len(ev_data[i])].append(\" \".join(ev_data[i]))\n",
    "\n",
    "zeros = []\n",
    "ones = []\n",
    "        \n",
    "for i in range(3,61):\n",
    "    print('\\n',i)\n",
    "    print('Sentence len:', i, ', number of sentences:', len(res_clean[i]))\n",
    "    \n",
    "    zeros_ = len(np.array(res_Y[i])[np.array(res_Y[i]) == 0])\n",
    "    ones_ = len(np.array(res_Y[i])[np.array(res_Y[i]) == 1])\n",
    "    \n",
    "    print('0:', zeros_, '1:', ones_)\n",
    "    \n",
    "    zeros.append(zeros_)\n",
    "    ones.append(ones_)\n",
    "    \n",
    "    \n",
    "    if zeros_ + ones_ > 0:\n",
    "        results.append(text_model.evaluate(get_batch(i)))\n",
    "    else:\n",
    "        results.append([0,0])"
   ]
  },
  {
   "cell_type": "code",
   "execution_count": 59,
   "metadata": {},
   "outputs": [
    {
     "data": {
      "image/png": "[encoded data removed]",
      "text/plain": [
       "<Figure size 432x288 with 1 Axes>"
      ]
     },
     "metadata": {
      "needs_background": "light"
     },
     "output_type": "display_data"
    }
   ],
   "source": [
    "import matplotlib.pyplot as plt\n",
    "\n",
    "plt.plot(range(3,61), [results[i][1] for i in range(len(results)) if len], label='Accuracy')\n",
    "plt.xlim(3,40)\n",
    "plt.ylim(0.75,1.05)\n",
    "# plt.plot(l_er, label='Loss')\n",
    "plt.xlabel('Sentence length in words')\n",
    "plt.legend()\n",
    "plt.show()"
   ]
  },
  {
   "cell_type": "code",
   "execution_count": 43,
   "metadata": {},
   "outputs": [
    {
     "data": {
      "image/png": "[encoded data removed]",
      "text/plain": [
       "<Figure size 432x288 with 1 Axes>"
      ]
     },
     "metadata": {
      "needs_background": "light"
     },
     "output_type": "display_data"
    }
   ],
   "source": [
    "plt.plot(range(3,61),[results[i][0] for i in range(len(results)) if len], label='Loss', c='red')\n",
    "plt.xlim(3,40)\n",
    "# plt.ylim(0.75,1.05)\n",
    "plt.xlabel('Sentence length in words')\n",
    "plt.legend()\n",
    "plt.show()"
   ]
  },
  {
   "cell_type": "markdown",
   "metadata": {},
   "source": [
    "### Short sentences check\n",
    "Testing whether the lower accuracy on shorter sentences is casued by wrong labeling - artificial interruption can create a sentence that makes sense as ended, even though it is split. Example:<br>\n",
    "<b>Original</b>: I would like to buy a new car with five seats and an electric engine.<br>\n",
    "<b>Artificially interrupted</b>: I would like to buy a new car"
   ]
  },
  {
   "cell_type": "code",
   "execution_count": 44,
   "metadata": {},
   "outputs": [],
   "source": [
    "cnt = []\n",
    "label = []\n",
    "text = []\n",
    "\n",
    "for index, row in pd_tm.iterrows():\n",
    "    if len(row.text) > 0:\n",
    "        cnt.append(len(row.text.split()))\n",
    "        label.append(row.label)\n",
    "        text.append(row.text)"
   ]
  },
  {
   "cell_type": "code",
   "execution_count": 45,
   "metadata": {},
   "outputs": [],
   "source": [
    "d1 = {'text': text, 'cnt': cnt, 'label': label}\n",
    "df1 = pd.DataFrame(data=d1)"
   ]
  },
  {
   "cell_type": "code",
   "execution_count": 46,
   "metadata": {},
   "outputs": [],
   "source": [
    "s = df1.cnt.sort_values().index"
   ]
  },
  {
   "cell_type": "code",
   "execution_count": 47,
   "metadata": {},
   "outputs": [],
   "source": [
    "df1 = df1.reindex(s)\n",
    "df1 = df1.reset_index(drop=True)"
   ]
  },
  {
   "cell_type": "code",
   "execution_count": 48,
   "metadata": {},
   "outputs": [
    {
     "data": {
      "text/html": [
       "<div>\n",
       "<style scoped>\n",
       "    .dataframe tbody tr th:only-of-type {\n",
       "        vertical-align: middle;\n",
       "    }\n",
       "\n",
       "    .dataframe tbody tr th {\n",
       "        vertical-align: top;\n",
       "    }\n",
       "\n",
       "    .dataframe thead th {\n",
       "        text-align: right;\n",
       "    }\n",
       "</style>\n",
       "<table border=\"1\" class=\"dataframe\">\n",
       "  <thead>\n",
       "    <tr style=\"text-align: right;\">\n",
       "      <th></th>\n",
       "      <th>text</th>\n",
       "      <th>cnt</th>\n",
       "      <th>label</th>\n",
       "    </tr>\n",
       "  </thead>\n",
       "  <tbody>\n",
       "    <tr>\n",
       "      <th>0</th>\n",
       "      <td>akira</td>\n",
       "      <td>1</td>\n",
       "      <td>1</td>\n",
       "    </tr>\n",
       "    <tr>\n",
       "      <th>1</th>\n",
       "      <td>okay</td>\n",
       "      <td>1</td>\n",
       "      <td>0</td>\n",
       "    </tr>\n",
       "    <tr>\n",
       "      <th>2</th>\n",
       "      <td>okay</td>\n",
       "      <td>1</td>\n",
       "      <td>0</td>\n",
       "    </tr>\n",
       "    <tr>\n",
       "      <th>3</th>\n",
       "      <td>okay</td>\n",
       "      <td>1</td>\n",
       "      <td>0</td>\n",
       "    </tr>\n",
       "    <tr>\n",
       "      <th>4</th>\n",
       "      <td>hi</td>\n",
       "      <td>1</td>\n",
       "      <td>0</td>\n",
       "    </tr>\n",
       "    <tr>\n",
       "      <th>...</th>\n",
       "      <td>...</td>\n",
       "      <td>...</td>\n",
       "      <td>...</td>\n",
       "    </tr>\n",
       "    <tr>\n",
       "      <th>340057</th>\n",
       "      <td>give me one moment while i look this up let me...</td>\n",
       "      <td>103</td>\n",
       "      <td>1</td>\n",
       "    </tr>\n",
       "    <tr>\n",
       "      <th>340058</th>\n",
       "      <td>your first option is called restaurant la perl...</td>\n",
       "      <td>107</td>\n",
       "      <td>1</td>\n",
       "    </tr>\n",
       "    <tr>\n",
       "      <th>340059</th>\n",
       "      <td>you have several options close by the stadium ...</td>\n",
       "      <td>113</td>\n",
       "      <td>1</td>\n",
       "    </tr>\n",
       "    <tr>\n",
       "      <th>340060</th>\n",
       "      <td>sure let me see if i can find all that for you...</td>\n",
       "      <td>116</td>\n",
       "      <td>1</td>\n",
       "    </tr>\n",
       "    <tr>\n",
       "      <th>340061</th>\n",
       "      <td>let me find you a list now here are your top t...</td>\n",
       "      <td>136</td>\n",
       "      <td>1</td>\n",
       "    </tr>\n",
       "  </tbody>\n",
       "</table>\n",
       "<p>340062 rows × 3 columns</p>\n",
       "</div>"
      ],
      "text/plain": [
       "                                                     text  cnt  label\n",
       "0                                                   akira    1      1\n",
       "1                                                    okay    1      0\n",
       "2                                                    okay    1      0\n",
       "3                                                    okay    1      0\n",
       "4                                                      hi    1      0\n",
       "...                                                   ...  ...    ...\n",
       "340057  give me one moment while i look this up let me...  103      1\n",
       "340058  your first option is called restaurant la perl...  107      1\n",
       "340059  you have several options close by the stadium ...  113      1\n",
       "340060  sure let me see if i can find all that for you...  116      1\n",
       "340061  let me find you a list now here are your top t...  136      1\n",
       "\n",
       "[340062 rows x 3 columns]"
      ]
     },
     "execution_count": 48,
     "metadata": {},
     "output_type": "execute_result"
    }
   ],
   "source": [
    "df1"
   ]
  },
  {
   "cell_type": "code",
   "execution_count": 49,
   "metadata": {},
   "outputs": [],
   "source": [
    "# make dataset\n",
    "\n",
    "extract = []\n",
    "NUM = 25\n",
    "\n",
    "for i in range(5,16,1):\n",
    "    extract.append(df1[(df1.cnt == i) & (df1.label == 1)].head(NUM))\n",
    "    extract.append(df1[(df1.cnt == i) & (df1.label == 0)].head(NUM))\n",
    "    \n",
    "small_df = pd.concat(extract, axis=0).reset_index(drop=True)"
   ]
  },
  {
   "cell_type": "code",
   "execution_count": 50,
   "metadata": {},
   "outputs": [
    {
     "data": {
      "text/html": [
       "<div>\n",
       "<style scoped>\n",
       "    .dataframe tbody tr th:only-of-type {\n",
       "        vertical-align: middle;\n",
       "    }\n",
       "\n",
       "    .dataframe tbody tr th {\n",
       "        vertical-align: top;\n",
       "    }\n",
       "\n",
       "    .dataframe thead th {\n",
       "        text-align: right;\n",
       "    }\n",
       "</style>\n",
       "<table border=\"1\" class=\"dataframe\">\n",
       "  <thead>\n",
       "    <tr style=\"text-align: right;\">\n",
       "      <th></th>\n",
       "      <th>text</th>\n",
       "      <th>cnt</th>\n",
       "      <th>label</th>\n",
       "    </tr>\n",
       "  </thead>\n",
       "  <tbody>\n",
       "    <tr>\n",
       "      <th>0</th>\n",
       "      <td>yeah that sounds about right</td>\n",
       "      <td>5</td>\n",
       "      <td>1</td>\n",
       "    </tr>\n",
       "    <tr>\n",
       "      <th>1</th>\n",
       "      <td>once they lost versus everton</td>\n",
       "      <td>5</td>\n",
       "      <td>1</td>\n",
       "    </tr>\n",
       "    <tr>\n",
       "      <th>2</th>\n",
       "      <td>awesome you are all set</td>\n",
       "      <td>5</td>\n",
       "      <td>1</td>\n",
       "    </tr>\n",
       "    <tr>\n",
       "      <th>3</th>\n",
       "      <td>they are playing okc energy</td>\n",
       "      <td>5</td>\n",
       "      <td>1</td>\n",
       "    </tr>\n",
       "    <tr>\n",
       "      <th>4</th>\n",
       "      <td>okay i can find that</td>\n",
       "      <td>5</td>\n",
       "      <td>1</td>\n",
       "    </tr>\n",
       "    <tr>\n",
       "      <th>...</th>\n",
       "      <td>...</td>\n",
       "      <td>...</td>\n",
       "      <td>...</td>\n",
       "    </tr>\n",
       "    <tr>\n",
       "      <th>545</th>\n",
       "      <td>the second is the pour house it has stars room...</td>\n",
       "      <td>15</td>\n",
       "      <td>0</td>\n",
       "    </tr>\n",
       "    <tr>\n",
       "      <th>546</th>\n",
       "      <td>okay that's great i wanted a morning flight an...</td>\n",
       "      <td>15</td>\n",
       "      <td>0</td>\n",
       "    </tr>\n",
       "    <tr>\n",
       "      <th>547</th>\n",
       "      <td>explain the cheapest is round trip lee's at pm...</td>\n",
       "      <td>15</td>\n",
       "      <td>0</td>\n",
       "    </tr>\n",
       "    <tr>\n",
       "      <th>548</th>\n",
       "      <td>i see that there is one time to leave on april...</td>\n",
       "      <td>15</td>\n",
       "      <td>0</td>\n",
       "    </tr>\n",
       "    <tr>\n",
       "      <th>549</th>\n",
       "      <td>i found a flight for united airlines departs a...</td>\n",
       "      <td>15</td>\n",
       "      <td>0</td>\n",
       "    </tr>\n",
       "  </tbody>\n",
       "</table>\n",
       "<p>550 rows × 3 columns</p>\n",
       "</div>"
      ],
      "text/plain": [
       "                                                  text  cnt  label\n",
       "0                         yeah that sounds about right    5      1\n",
       "1                        once they lost versus everton    5      1\n",
       "2                              awesome you are all set    5      1\n",
       "3                          they are playing okc energy    5      1\n",
       "4                                 okay i can find that    5      1\n",
       "..                                                 ...  ...    ...\n",
       "545  the second is the pour house it has stars room...   15      0\n",
       "546  okay that's great i wanted a morning flight an...   15      0\n",
       "547  explain the cheapest is round trip lee's at pm...   15      0\n",
       "548  i see that there is one time to leave on april...   15      0\n",
       "549  i found a flight for united airlines departs a...   15      0\n",
       "\n",
       "[550 rows x 3 columns]"
      ]
     },
     "execution_count": 50,
     "metadata": {},
     "output_type": "execute_result"
    }
   ],
   "source": [
    "small_df"
   ]
  },
  {
   "cell_type": "code",
   "execution_count": 51,
   "metadata": {},
   "outputs": [],
   "source": [
    "tokenized_utterances = [tokenize_utterances(utterance) for utterance in small_df.text]\n",
    "\n",
    "utterances_with_len = [[utterance, small_df.label[i], len(utterance)]\n",
    "                 for i, utterance in enumerate(tokenized_utterances)]\n",
    "\n",
    "fixed = []\n",
    "for x in utterances_with_len: fixed.append(x)\n",
    "\n",
    "utterances_with_len = fixed\n",
    "\n",
    "sorted_utterances_labels = [(utterance_lab[0], utterance_lab[1]) for utterance_lab in utterances_with_len]\n",
    "\n",
    "processed_dataset =\\\n",
    "    tf.data.Dataset.from_generator(lambda: sorted_utterances_labels, output_types=(tf.int32, tf.int32))\n",
    "\n",
    "batched_dataset = processed_dataset.padded_batch(BATCH_SIZE, padded_shapes=((None, ), ()))"
   ]
  },
  {
   "cell_type": "code",
   "execution_count": 52,
   "metadata": {},
   "outputs": [
    {
     "name": "stdout",
     "output_type": "stream",
     "text": [
      "WARNING:tensorflow:5 out of the last 11 calls to <function _make_execution_function.<locals>.distributed_function at 0x7f118a3f0b70> triggered tf.function retracing. Tracing is expensive and the excessive number of tracings is likely due to passing python objects instead of tensors. Also, tf.function has experimental_relax_shapes=True option that relaxes argument shapes that can avoid unnecessary retracing. Please refer to https://www.tensorflow.org/tutorials/customization/performance#python_or_tensor_args and https://www.tensorflow.org/api_docs/python/tf/function for more details.\n"
     ]
    },
    {
     "name": "stderr",
     "output_type": "stream",
     "text": [
      "WARNING:tensorflow:5 out of the last 11 calls to <function _make_execution_function.<locals>.distributed_function at 0x7f118a3f0b70> triggered tf.function retracing. Tracing is expensive and the excessive number of tracings is likely due to passing python objects instead of tensors. Also, tf.function has experimental_relax_shapes=True option that relaxes argument shapes that can avoid unnecessary retracing. Please refer to https://www.tensorflow.org/tutorials/customization/performance#python_or_tensor_args and https://www.tensorflow.org/api_docs/python/tf/function for more details.\n"
     ]
    }
   ],
   "source": [
    "pred = text_model.predict(batched_dataset)"
   ]
  },
  {
   "cell_type": "code",
   "execution_count": 53,
   "metadata": {},
   "outputs": [
    {
     "name": "stdout",
     "output_type": "stream",
     "text": [
      "     35/Unknown - 0s 6ms/step - loss: 0.2869 - accuracy: 0.9309"
     ]
    },
    {
     "data": {
      "text/plain": [
       "[0.28692352617090366, 0.9309091]"
      ]
     },
     "execution_count": 53,
     "metadata": {},
     "output_type": "execute_result"
    }
   ],
   "source": [
    "text_model.evaluate(batched_dataset)"
   ]
  },
  {
   "cell_type": "code",
   "execution_count": 54,
   "metadata": {},
   "outputs": [],
   "source": [
    "pred_ = [i[0] for i in pred]"
   ]
  },
  {
   "cell_type": "code",
   "execution_count": 55,
   "metadata": {},
   "outputs": [],
   "source": [
    "pred_ = [np.around(i,5) for i in pred_]"
   ]
  },
  {
   "cell_type": "code",
   "execution_count": 56,
   "metadata": {},
   "outputs": [],
   "source": [
    "d2 = {'text': small_df.text, 'label': small_df.label, 'predicted': pred_}\n",
    "df2 = pd.DataFrame(data=d2)"
   ]
  },
  {
   "cell_type": "markdown",
   "metadata": {},
   "source": [
    "<b>False negatives</b>"
   ]
  },
  {
   "cell_type": "code",
   "execution_count": 57,
   "metadata": {},
   "outputs": [
    {
     "data": {
      "text/html": [
       "<div>\n",
       "<style scoped>\n",
       "    .dataframe tbody tr th:only-of-type {\n",
       "        vertical-align: middle;\n",
       "    }\n",
       "\n",
       "    .dataframe tbody tr th {\n",
       "        vertical-align: top;\n",
       "    }\n",
       "\n",
       "    .dataframe thead th {\n",
       "        text-align: right;\n",
       "    }\n",
       "</style>\n",
       "<table border=\"1\" class=\"dataframe\">\n",
       "  <thead>\n",
       "    <tr style=\"text-align: right;\">\n",
       "      <th></th>\n",
       "      <th>text</th>\n",
       "      <th>label</th>\n",
       "      <th>predicted</th>\n",
       "    </tr>\n",
       "  </thead>\n",
       "  <tbody>\n",
       "    <tr>\n",
       "      <th>4</th>\n",
       "      <td>okay i can find that</td>\n",
       "      <td>1</td>\n",
       "      <td>0.10057</td>\n",
       "    </tr>\n",
       "    <tr>\n",
       "      <th>56</th>\n",
       "      <td>can you help me find one</td>\n",
       "      <td>1</td>\n",
       "      <td>0.24071</td>\n",
       "    </tr>\n",
       "  </tbody>\n",
       "</table>\n",
       "</div>"
      ],
      "text/plain": [
       "                        text  label  predicted\n",
       "4       okay i can find that      1    0.10057\n",
       "56  can you help me find one      1    0.24071"
      ]
     },
     "execution_count": 57,
     "metadata": {},
     "output_type": "execute_result"
    }
   ],
   "source": [
    "df2[(df2.label == 1) & (df2.predicted <= 0.5)]"
   ]
  },
  {
   "cell_type": "markdown",
   "metadata": {},
   "source": [
    "<b>False positives</b>"
   ]
  },
  {
   "cell_type": "code",
   "execution_count": 58,
   "metadata": {},
   "outputs": [
    {
     "data": {
      "text/html": [
       "<div>\n",
       "<style scoped>\n",
       "    .dataframe tbody tr th:only-of-type {\n",
       "        vertical-align: middle;\n",
       "    }\n",
       "\n",
       "    .dataframe tbody tr th {\n",
       "        vertical-align: top;\n",
       "    }\n",
       "\n",
       "    .dataframe thead th {\n",
       "        text-align: right;\n",
       "    }\n",
       "</style>\n",
       "<table border=\"1\" class=\"dataframe\">\n",
       "  <thead>\n",
       "    <tr style=\"text-align: right;\">\n",
       "      <th></th>\n",
       "      <th>text</th>\n",
       "      <th>label</th>\n",
       "      <th>predicted</th>\n",
       "    </tr>\n",
       "  </thead>\n",
       "  <tbody>\n",
       "    <tr>\n",
       "      <th>31</th>\n",
       "      <td>no i do not need</td>\n",
       "      <td>0</td>\n",
       "      <td>0.99873</td>\n",
       "    </tr>\n",
       "    <tr>\n",
       "      <th>48</th>\n",
       "      <td>there have not been any</td>\n",
       "      <td>0</td>\n",
       "      <td>0.98869</td>\n",
       "    </tr>\n",
       "    <tr>\n",
       "      <th>85</th>\n",
       "      <td>if it's close to the beach</td>\n",
       "      <td>0</td>\n",
       "      <td>0.68357</td>\n",
       "    </tr>\n",
       "    <tr>\n",
       "      <th>90</th>\n",
       "      <td>i'd like to go after pm</td>\n",
       "      <td>0</td>\n",
       "      <td>0.99968</td>\n",
       "    </tr>\n",
       "    <tr>\n",
       "      <th>97</th>\n",
       "      <td>i'd like to pieces of soda</td>\n",
       "      <td>0</td>\n",
       "      <td>0.78416</td>\n",
       "    </tr>\n",
       "    <tr>\n",
       "      <th>127</th>\n",
       "      <td>how long is the drive from fairfield</td>\n",
       "      <td>0</td>\n",
       "      <td>0.95486</td>\n",
       "    </tr>\n",
       "    <tr>\n",
       "      <th>128</th>\n",
       "      <td>okay interesting the last question is are</td>\n",
       "      <td>0</td>\n",
       "      <td>0.51039</td>\n",
       "    </tr>\n",
       "    <tr>\n",
       "      <th>129</th>\n",
       "      <td>sure can you give me the name</td>\n",
       "      <td>0</td>\n",
       "      <td>0.93705</td>\n",
       "    </tr>\n",
       "    <tr>\n",
       "      <th>133</th>\n",
       "      <td>okay assistant thank you so much for</td>\n",
       "      <td>0</td>\n",
       "      <td>0.99364</td>\n",
       "    </tr>\n",
       "    <tr>\n",
       "      <th>146</th>\n",
       "      <td>awesome i'd like to hear one more</td>\n",
       "      <td>0</td>\n",
       "      <td>0.50586</td>\n",
       "    </tr>\n",
       "    <tr>\n",
       "      <th>186</th>\n",
       "      <td>okay i like fleming's wine bar sounds good</td>\n",
       "      <td>0</td>\n",
       "      <td>0.97979</td>\n",
       "    </tr>\n",
       "    <tr>\n",
       "      <th>189</th>\n",
       "      <td>no i think that's got it covered you</td>\n",
       "      <td>0</td>\n",
       "      <td>0.67363</td>\n",
       "    </tr>\n",
       "    <tr>\n",
       "      <th>199</th>\n",
       "      <td>yeah the fettuccine and palmini are different so</td>\n",
       "      <td>0</td>\n",
       "      <td>0.71874</td>\n",
       "    </tr>\n",
       "    <tr>\n",
       "      <th>234</th>\n",
       "      <td>perfect just a little bit more information my ...</td>\n",
       "      <td>0</td>\n",
       "      <td>0.99975</td>\n",
       "    </tr>\n",
       "    <tr>\n",
       "      <th>239</th>\n",
       "      <td>i don't have a price limit i just want</td>\n",
       "      <td>0</td>\n",
       "      <td>0.73903</td>\n",
       "    </tr>\n",
       "    <tr>\n",
       "      <th>281</th>\n",
       "      <td>i think that's pretty much but something that'...</td>\n",
       "      <td>0</td>\n",
       "      <td>0.65393</td>\n",
       "    </tr>\n",
       "    <tr>\n",
       "      <th>290</th>\n",
       "      <td>all right i may just end up doing that i</td>\n",
       "      <td>0</td>\n",
       "      <td>0.60686</td>\n",
       "    </tr>\n",
       "    <tr>\n",
       "      <th>325</th>\n",
       "      <td>okay give me a moment while i compare pirates ...</td>\n",
       "      <td>0</td>\n",
       "      <td>0.99712</td>\n",
       "    </tr>\n",
       "    <tr>\n",
       "      <th>332</th>\n",
       "      <td>two adults and two kids and it's for the third...</td>\n",
       "      <td>0</td>\n",
       "      <td>0.99621</td>\n",
       "    </tr>\n",
       "    <tr>\n",
       "      <th>346</th>\n",
       "      <td>how can i help you feel good and i like enough</td>\n",
       "      <td>0</td>\n",
       "      <td>0.95724</td>\n",
       "    </tr>\n",
       "    <tr>\n",
       "      <th>379</th>\n",
       "      <td>here are a few places jamba juice or fruittitu...</td>\n",
       "      <td>0</td>\n",
       "      <td>0.65887</td>\n",
       "    </tr>\n",
       "    <tr>\n",
       "      <th>382</th>\n",
       "      <td>oh that's nice does it have organic choices be...</td>\n",
       "      <td>0</td>\n",
       "      <td>0.99986</td>\n",
       "    </tr>\n",
       "    <tr>\n",
       "      <th>383</th>\n",
       "      <td>you said that you want to look for a mexican s...</td>\n",
       "      <td>0</td>\n",
       "      <td>0.99999</td>\n",
       "    </tr>\n",
       "    <tr>\n",
       "      <th>390</th>\n",
       "      <td>the abgb warehouse like beer garden matching h...</td>\n",
       "      <td>0</td>\n",
       "      <td>0.88386</td>\n",
       "    </tr>\n",
       "    <tr>\n",
       "      <th>394</th>\n",
       "      <td>hi i'm planning a dinner at seasons restaurant...</td>\n",
       "      <td>0</td>\n",
       "      <td>0.99035</td>\n",
       "    </tr>\n",
       "    <tr>\n",
       "      <th>429</th>\n",
       "      <td>there is a place called the hofbrau which is d...</td>\n",
       "      <td>0</td>\n",
       "      <td>0.99885</td>\n",
       "    </tr>\n",
       "    <tr>\n",
       "      <th>431</th>\n",
       "      <td>nice okay send me the info i'm going to head o...</td>\n",
       "      <td>0</td>\n",
       "      <td>0.99995</td>\n",
       "    </tr>\n",
       "    <tr>\n",
       "      <th>436</th>\n",
       "      <td>dine on traditional italian fare or try happy ...</td>\n",
       "      <td>0</td>\n",
       "      <td>0.98127</td>\n",
       "    </tr>\n",
       "    <tr>\n",
       "      <th>479</th>\n",
       "      <td>got it let me put a list together for you what...</td>\n",
       "      <td>0</td>\n",
       "      <td>0.99979</td>\n",
       "    </tr>\n",
       "    <tr>\n",
       "      <th>480</th>\n",
       "      <td>it's been around years i'm speaking all this l...</td>\n",
       "      <td>0</td>\n",
       "      <td>0.99792</td>\n",
       "    </tr>\n",
       "    <tr>\n",
       "      <th>488</th>\n",
       "      <td>okay what type of amenities are you looking fo...</td>\n",
       "      <td>0</td>\n",
       "      <td>0.99512</td>\n",
       "    </tr>\n",
       "    <tr>\n",
       "      <th>494</th>\n",
       "      <td>hi i'm planning a dinner out at seasons in dav...</td>\n",
       "      <td>0</td>\n",
       "      <td>0.79135</td>\n",
       "    </tr>\n",
       "    <tr>\n",
       "      <th>529</th>\n",
       "      <td>austin has a lot of a great places to eat rang...</td>\n",
       "      <td>0</td>\n",
       "      <td>0.99959</td>\n",
       "    </tr>\n",
       "    <tr>\n",
       "      <th>539</th>\n",
       "      <td>i have found italian restaurants for you to ch...</td>\n",
       "      <td>0</td>\n",
       "      <td>0.97398</td>\n",
       "    </tr>\n",
       "    <tr>\n",
       "      <th>540</th>\n",
       "      <td>great i can find you a place to eat do you wan...</td>\n",
       "      <td>0</td>\n",
       "      <td>0.89437</td>\n",
       "    </tr>\n",
       "    <tr>\n",
       "      <th>543</th>\n",
       "      <td>if they have one without any sort of stopover ...</td>\n",
       "      <td>0</td>\n",
       "      <td>0.90523</td>\n",
       "    </tr>\n",
       "  </tbody>\n",
       "</table>\n",
       "</div>"
      ],
      "text/plain": [
       "                                                  text  label  predicted\n",
       "31                                    no i do not need      0    0.99873\n",
       "48                             there have not been any      0    0.98869\n",
       "85                          if it's close to the beach      0    0.68357\n",
       "90                             i'd like to go after pm      0    0.99968\n",
       "97                          i'd like to pieces of soda      0    0.78416\n",
       "127               how long is the drive from fairfield      0    0.95486\n",
       "128          okay interesting the last question is are      0    0.51039\n",
       "129                      sure can you give me the name      0    0.93705\n",
       "133               okay assistant thank you so much for      0    0.99364\n",
       "146                  awesome i'd like to hear one more      0    0.50586\n",
       "186         okay i like fleming's wine bar sounds good      0    0.97979\n",
       "189               no i think that's got it covered you      0    0.67363\n",
       "199   yeah the fettuccine and palmini are different so      0    0.71874\n",
       "234  perfect just a little bit more information my ...      0    0.99975\n",
       "239             i don't have a price limit i just want      0    0.73903\n",
       "281  i think that's pretty much but something that'...      0    0.65393\n",
       "290           all right i may just end up doing that i      0    0.60686\n",
       "325  okay give me a moment while i compare pirates ...      0    0.99712\n",
       "332  two adults and two kids and it's for the third...      0    0.99621\n",
       "346     how can i help you feel good and i like enough      0    0.95724\n",
       "379  here are a few places jamba juice or fruittitu...      0    0.65887\n",
       "382  oh that's nice does it have organic choices be...      0    0.99986\n",
       "383  you said that you want to look for a mexican s...      0    0.99999\n",
       "390  the abgb warehouse like beer garden matching h...      0    0.88386\n",
       "394  hi i'm planning a dinner at seasons restaurant...      0    0.99035\n",
       "429  there is a place called the hofbrau which is d...      0    0.99885\n",
       "431  nice okay send me the info i'm going to head o...      0    0.99995\n",
       "436  dine on traditional italian fare or try happy ...      0    0.98127\n",
       "479  got it let me put a list together for you what...      0    0.99979\n",
       "480  it's been around years i'm speaking all this l...      0    0.99792\n",
       "488  okay what type of amenities are you looking fo...      0    0.99512\n",
       "494  hi i'm planning a dinner out at seasons in dav...      0    0.79135\n",
       "529  austin has a lot of a great places to eat rang...      0    0.99959\n",
       "539  i have found italian restaurants for you to ch...      0    0.97398\n",
       "540  great i can find you a place to eat do you wan...      0    0.89437\n",
       "543  if they have one without any sort of stopover ...      0    0.90523"
      ]
     },
     "execution_count": 58,
     "metadata": {},
     "output_type": "execute_result"
    }
   ],
   "source": [
    "df2[(df2.label == 0) & (df2.predicted >= 0.5)]"
   ]
  },
  {
   "cell_type": "code",
   "execution_count": null,
   "metadata": {},
   "outputs": [],
   "source": []
  }
 ],
 "metadata": {
  "kernelspec": {
   "display_name": "Python 3",
   "language": "python",
   "name": "python3"
  },
  "language_info": {
   "codemirror_mode": {
    "name": "ipython",
    "version": 3
   },
   "file_extension": ".py",
   "mimetype": "text/x-python",
   "name": "python",
   "nbconvert_exporter": "python",
   "pygments_lexer": "ipython3",
   "version": "3.6.8"
  }
 },
 "nbformat": 4,
 "nbformat_minor": 2
}
