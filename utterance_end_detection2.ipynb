{
 "cells": [
  {
   "cell_type": "markdown",
   "metadata": {},
   "source": [
    "## End-of-speech classification"
   ]
  },
  {
   "cell_type": "code",
   "execution_count": 1,
   "metadata": {},
   "outputs": [],
   "source": [
    "import os # for reading the .json files\n",
    "import json # for reading the .json files (dialog dataset)\n",
    "import numpy as np"
   ]
  },
  {
   "cell_type": "code",
   "execution_count": 2,
   "metadata": {},
   "outputs": [],
   "source": [
    "# from MultiWOZ-Parser; reading the names of the files for training, testing, validation datasets\n",
    "# https://github.com/jojonki/MultiWOZ-Parser/blob/master/parser.py\n",
    "\n",
    "def load_json(data_file):\n",
    "    if os.path.isfile(data_file):\n",
    "        with open(data_file, 'r') as read_file:\n",
    "            data = json.load(read_file)\n",
    "            return data\n",
    "\n",
    "def load_list_file(list_file):\n",
    "    with open(list_file, 'r') as read_file:\n",
    "        dialog_id_list = read_file.readlines()\n",
    "        dialog_id_list = [l.strip('\\n') for l in dialog_id_list]\n",
    "        return dialog_id_list\n",
    "    return"
   ]
  },
  {
   "cell_type": "code",
   "execution_count": 3,
   "metadata": {},
   "outputs": [],
   "source": [
    "dialog_data_file = '../MULTIWOZ/data.json'\n",
    "dialog_data = load_json(dialog_data_file)\n",
    "dialog_id_list = list(set(dialog_data.keys()))\n",
    "\n",
    "valid_list_file = '../MULTIWOZ/valListFile.json'\n",
    "test_list_file = '../MULTIWOZ/testListFile.json'\n",
    "\n",
    "valid_id_list = list(set(load_list_file(valid_list_file)))\n",
    "test_id_list = load_list_file(test_list_file)\n",
    "train_id_list = [did for did in dialog_id_list if did not in (valid_id_list + test_id_list)]\n",
    "\n",
    "train_data = [v for k, v in dialog_data.items() if k in train_id_list]\n",
    "valid_data = [v for k, v in dialog_data.items() if k in valid_id_list]\n",
    "test_data = [v for k, v in dialog_data.items() if k in test_id_list]"
   ]
  },
  {
   "cell_type": "code",
   "execution_count": 4,
   "metadata": {},
   "outputs": [],
   "source": [
    "# merging all datasets together\n",
    "data = train_data + valid_data + test_data"
   ]
  },
  {
   "cell_type": "code",
   "execution_count": 5,
   "metadata": {},
   "outputs": [],
   "source": [
    "import re # for regex\n",
    "\n",
    "def text_tokens(text):\n",
    "    # transforming to lowercase\n",
    "    text = text.lower()\n",
    "    # replacing whitespace characters with spaces\n",
    "    text = re.sub(\"\\\\s\", \" \", text)\n",
    "    # removing everything that is not a letter\n",
    "    text = re.sub(\"[^a-zA-Z ']\", \"\", text)\n",
    "    \n",
    "    # splitting string into array based on spaces\n",
    "    tokens = text.split(' ')\n",
    "    \n",
    "    # removing empty strings from the tokens array\n",
    "    tokens = list(filter(('').__ne__, tokens))\n",
    "    \n",
    "    return tokens"
   ]
  },
  {
   "cell_type": "code",
   "execution_count": 6,
   "metadata": {},
   "outputs": [],
   "source": [
    "# from MultiWOZ-Parser\n",
    "# https://github.com/jojonki/MultiWOZ-Parser/blob/master/parser.py\n",
    "\n",
    "def get_dst_diff(prev_d, crnt_d):\n",
    "    assert len(prev_d) == len(crnt_d)\n",
    "    diff = {}\n",
    "    for ((k1, v1), (k2, v2)) in zip(prev_d.items(), crnt_d.items()):\n",
    "        assert k1 == k2\n",
    "        if v1 != v2: # updated\n",
    "            diff[k2] = v2\n",
    "    return diff\n",
    "\n",
    "def get_lines(d):\n",
    "    assert 'log' in d\n",
    "    assert 'goal' in d\n",
    "    domains = []\n",
    "    ignore_keys_in_goal = ['eod', 'messageLen', 'message'] # eod (probably) means the user archieved the goal. \n",
    "    for dom_k, dom_v  in d['goal'].items():\n",
    "        if dom_v and dom_k not in ignore_keys_in_goal: # check whether contains some goal entities\n",
    "            domains.append(dom_k)\n",
    "            \n",
    "    lines = []\n",
    "    \n",
    "    prev_d = None\n",
    "    for i, t in enumerate(d['log']):\n",
    "        spk = 'Usr' if i % 2 == 0 else 'Sys' # Turn 0 is always a user's turn in this corpus.\n",
    "        if spk == 'Sys':\n",
    "            if prev_d is None:\n",
    "                prev_d = t['metadata']\n",
    "            else:\n",
    "                crnt_d = t['metadata']\n",
    "                dst_diff = get_dst_diff(prev_d, crnt_d)\n",
    "                prev_d = crnt_d\n",
    "\n",
    "        lines.append(text_tokens(t['text']))\n",
    "\n",
    "    return lines"
   ]
  },
  {
   "cell_type": "code",
   "execution_count": 7,
   "metadata": {},
   "outputs": [],
   "source": [
    "def to_array(data):\n",
    "    # extracting dialogs from data\n",
    "    dialogs = [get_lines(dialog) for dialog in data]\n",
    "\n",
    "    s = []\n",
    "    # extracting individual dialogs\n",
    "    for sentences in dialogs:\n",
    "        # extracting each conversation turn\n",
    "        for sentence in sentences: \n",
    "            s.append(sentence)\n",
    "        \n",
    "    return s"
   ]
  },
  {
   "cell_type": "code",
   "execution_count": 8,
   "metadata": {},
   "outputs": [],
   "source": [
    "# list of individual conversation turns from MultiWOZ dataset\n",
    "data_full = to_array(data)"
   ]
  },
  {
   "cell_type": "code",
   "execution_count": 9,
   "metadata": {},
   "outputs": [],
   "source": [
    "from collections import Counter # counting the occurrences of words in the dataset\n",
    "\n",
    "# creating a vocabulary of top 3000 most frequent words in the dataset\n",
    "vocab = []\n",
    "for sentence in data_full:\n",
    "    for word in sentence:\n",
    "        vocab.append(word)\n",
    "\n",
    "VOCAB_SIZE=3000 # constant for the vocabulary size\n",
    "\n",
    "d = Counter(vocab) # count number of occurrences\n",
    "q = d.most_common()[0:VOCAB_SIZE] # create vocabulary of VOCAB_SIZE most common words\n",
    "vocab_top = [q[i][0] for i in range(VOCAB_SIZE)] # extracting the words from Counter structure"
   ]
  },
  {
   "cell_type": "markdown",
   "metadata": {},
   "source": [
    "---"
   ]
  },
  {
   "cell_type": "code",
   "execution_count": 10,
   "metadata": {},
   "outputs": [
    {
     "name": "stdout",
     "output_type": "stream",
     "text": [
      "Found 400000 word vectors.\n"
     ]
    }
   ],
   "source": [
    "# From Deep Learning for Text Processing Workshop at Machine Learning Prague 2018\n",
    "# https://github.com/rossumai/mlprague18-nlp\n",
    "\n",
    "# Creating dictionary of each word in the pre-trained GloVe embeddings, saving its location indexes \n",
    "\n",
    "EMBEDDING_DIM = 50\n",
    "\n",
    "GLOVE_DIR = \"../glove\"\n",
    "embeddings_index = {}\n",
    "f = open(os.path.join(GLOVE_DIR, 'glove.6B.%dd.txt' % EMBEDDING_DIM))\n",
    "for line in f:\n",
    "    values = line.split()\n",
    "    word = values[0]\n",
    "    coefs = np.asarray(values[1:], dtype='float32')\n",
    "    embeddings_index[word] = coefs\n",
    "f.close()\n",
    "\n",
    "print('Found %s word vectors.' % len(embeddings_index))"
   ]
  },
  {
   "cell_type": "code",
   "execution_count": 11,
   "metadata": {},
   "outputs": [],
   "source": [
    "# a matrix that is indexed by our vocabulary, containing GloVe embedding for each vocabulary element\n",
    "embedding_matrix = np.zeros((len(vocab_top) + 1, EMBEDDING_DIM))\n",
    "for i, word in enumerate(vocab_top):\n",
    "    embedding_vector = embeddings_index.get(word)\n",
    "    if embedding_vector is not None:\n",
    "        # words not found in embedding index will be all-zeros; also, [0] is reserved for padding.\n",
    "        embedding_matrix[i + 1] = embedding_vector"
   ]
  },
  {
   "cell_type": "code",
   "execution_count": 12,
   "metadata": {},
   "outputs": [],
   "source": [
    "def vocab_indices_vector(tokens):\n",
    "    vector = [0] * seq_cutoff\n",
    "    \n",
    "    for i, t in enumerate(tokens):\n",
    "        try:\n",
    "            vector[i] = vocab_top.index(t) + 1 # reserving 0 for padding\n",
    "        except:\n",
    "            pass # ignore missing words\n",
    "        \n",
    "    return vector"
   ]
  },
  {
   "cell_type": "code",
   "execution_count": 13,
   "metadata": {},
   "outputs": [],
   "source": [
    "import random\n",
    "\n",
    "def split_data(data):\n",
    "    X = []\n",
    "    Y = []\n",
    "    for i in range(len(data)):\n",
    "        if len(data[i]) > 4:\n",
    "            if (len(data[i]) > 60):\n",
    "                # too long senteces are cut by default\n",
    "                X.append(data[i])\n",
    "                Y.append(0)\n",
    "            else:\n",
    "                # first half of the dataset is made out of interrupted conversation turns \n",
    "                if (len(data[i]) > 4) and (i <= len(data)//2):\n",
    "                    # picking random point for splitting the conversation turn\n",
    "                    l = random.randrange(1, len(data[i]) - 3)\n",
    "                    # splitting data\n",
    "                    X.append(data[i][:l])\n",
    "                    # adding 0 to the target list -> 0 -- interrupted turn \n",
    "                    Y.append(0)\n",
    "\n",
    "                # second half of the dataset is made out of full conversation turns\n",
    "                else:\n",
    "                    # adding the full uninterrupted conversation turn\n",
    "                    X.append(data[i])\n",
    "                    # adding 1 to the target list -> 1 -- uninterrupted turn \n",
    "                    Y.append(1)\n",
    "            \n",
    "    # shuffling the dataset\n",
    "    c = list(zip(X, Y, data))\n",
    "    random.shuffle(c)\n",
    "    X, Y, data = zip(*c)\n",
    "    \n",
    "    \n",
    "    # vectorizing the data\n",
    "    X = [vocab_indices_vector(x) for x in X]\n",
    "    \n",
    "    return X,Y,data"
   ]
  },
  {
   "cell_type": "code",
   "execution_count": 14,
   "metadata": {},
   "outputs": [
    {
     "name": "stdout",
     "output_type": "stream",
     "text": [
      "Longest: 61, Average: 12.765652, Median: 12, 90% percentile: 61 tokens\n"
     ]
    }
   ],
   "source": [
    "lengths = sorted([len(x) for x in data_full]) # sorted lengths of the all reviews\n",
    "percentile = 0.90 # we are looking at reviews that are short, the 10% making the long reviews\n",
    "seq_cutoff = lengths[-1]\n",
    "print(\n",
    "    'Longest: %d, Average: %f, Median: %d, %d%% percentile: %d tokens' % \n",
    "    (lengths[-1], np.mean(lengths), lengths[int(len(lengths)*0.5)], percentile*100, seq_cutoff)\n",
    ")"
   ]
  },
  {
   "cell_type": "code",
   "execution_count": 15,
   "metadata": {},
   "outputs": [
    {
     "data": {
      "text/plain": [
       "0.0002371172240746815"
      ]
     },
     "execution_count": 15,
     "metadata": {},
     "output_type": "execute_result"
    }
   ],
   "source": [
    "# ratio of words not included in the GloVe matrix\n",
    "1. * np.count_nonzero(np.all(embedding_matrix == 0, axis=1)) / len(vocab)"
   ]
  },
  {
   "cell_type": "code",
   "execution_count": 16,
   "metadata": {
    "scrolled": true
   },
   "outputs": [],
   "source": [
    "X, Y, data_clean = split_data(data_full)"
   ]
  },
  {
   "cell_type": "code",
   "execution_count": 17,
   "metadata": {},
   "outputs": [],
   "source": [
    "# splitting into training and validating parts\n",
    "# 2/3 for training, 1/3 for validating\n",
    "s = (len(X)//3)*2\n",
    "\n",
    "X_train = X[:s]\n",
    "Y_train = Y[:s]\n",
    "\n",
    "X_val = X[s+1:]\n",
    "Y_val = Y[s+1:]"
   ]
  },
  {
   "cell_type": "markdown",
   "metadata": {},
   "source": [
    "---"
   ]
  },
  {
   "cell_type": "code",
   "execution_count": 18,
   "metadata": {
    "scrolled": false
   },
   "outputs": [],
   "source": [
    "# NN from Deep Learning for Text Processing Workshop at Machine Learning Prague 2018\n",
    "# https://github.com/rossumai/mlprague18-nlp\n",
    "\n",
    "from tensorflow.keras.layers import Activation, Conv1D, Dense, Embedding, GlobalMaxPooling1D, Input, Dropout\n",
    "from tensorflow.keras.models import Model\n",
    "import numpy as np\n",
    "\n",
    "class GloveCNNAwesomeSentimentModel(object):\n",
    "    def __init__(self, N=256, size=3):\n",
    "        self.model = self.create(N, size)\n",
    "        self.model.summary()\n",
    "        self.model.compile(optimizer='adam', loss='binary_crossentropy', metrics=['accuracy'])\n",
    "        \n",
    "    def create(self, N, size):\n",
    "        seq_indices = Input(shape=(seq_cutoff,), name='seq_input') \n",
    "        seq_embedded = Embedding(input_dim=len(vocab_top) + 1, output_dim=EMBEDDING_DIM,\n",
    "                                 input_length=seq_cutoff)(seq_indices)\n",
    "        seq_conv = Conv1D(N, size, activation='relu')(Dropout(0.2)(seq_embedded)) # dropout - 0.2\n",
    "        max_conv = GlobalMaxPooling1D()(seq_conv)\n",
    "        hidden_repr = Dense(N, activation='relu')(max_conv)\n",
    "        sentiment = Dense(1, activation='sigmoid')(Dropout(0.2)(hidden_repr))\n",
    "\n",
    "        return Model(inputs=[seq_indices], outputs=[sentiment])\n",
    "\n",
    "    def train(self, X, y, X_val, y_val,EPOCHS=7):\n",
    "        print('Fitting...')\n",
    "        return self.model.fit(np.array(X), np.array(y), \n",
    "                              validation_data=(np.array(X_val), np.array(y_val)),\n",
    "                              epochs=EPOCHS, verbose=1)\n",
    "\n",
    "    def predict(self, X):\n",
    "        return self.model.predict(np.array(X))"
   ]
  },
  {
   "cell_type": "code",
   "execution_count": 19,
   "metadata": {},
   "outputs": [
    {
     "name": "stdout",
     "output_type": "stream",
     "text": [
      "Model: \"model\"\n",
      "_________________________________________________________________\n",
      "Layer (type)                 Output Shape              Param #   \n",
      "=================================================================\n",
      "seq_input (InputLayer)       [(None, 61)]              0         \n",
      "_________________________________________________________________\n",
      "embedding (Embedding)        (None, 61, 50)            150050    \n",
      "_________________________________________________________________\n",
      "dropout (Dropout)            (None, 61, 50)            0         \n",
      "_________________________________________________________________\n",
      "conv1d (Conv1D)              (None, 59, 256)           38656     \n",
      "_________________________________________________________________\n",
      "global_max_pooling1d (Global (None, 256)               0         \n",
      "_________________________________________________________________\n",
      "dense (Dense)                (None, 256)               65792     \n",
      "_________________________________________________________________\n",
      "dropout_1 (Dropout)          (None, 256)               0         \n",
      "_________________________________________________________________\n",
      "dense_1 (Dense)              (None, 1)                 257       \n",
      "=================================================================\n",
      "Total params: 254,755\n",
      "Trainable params: 254,755\n",
      "Non-trainable params: 0\n",
      "_________________________________________________________________\n",
      "Fitting...\n",
      "Train on 90226 samples, validate on 45112 samples\n",
      "Epoch 1/7\n",
      "90226/90226 [==============================] - 50s 552us/sample - loss: 0.2666 - accuracy: 0.8867 - val_loss: 0.2109 - val_accuracy: 0.9149\n",
      "Epoch 2/7\n",
      "90226/90226 [==============================] - 48s 534us/sample - loss: 0.1987 - accuracy: 0.9210 - val_loss: 0.1996 - val_accuracy: 0.9194\n",
      "Epoch 3/7\n",
      "90226/90226 [==============================] - 53s 583us/sample - loss: 0.1813 - accuracy: 0.9285 - val_loss: 0.1964 - val_accuracy: 0.9221\n",
      "Epoch 4/7\n",
      "90226/90226 [==============================] - 49s 545us/sample - loss: 0.1691 - accuracy: 0.9341 - val_loss: 0.1962 - val_accuracy: 0.9242\n",
      "Epoch 5/7\n",
      "90226/90226 [==============================] - 57s 635us/sample - loss: 0.1584 - accuracy: 0.9381 - val_loss: 0.1959 - val_accuracy: 0.9248\n",
      "Epoch 6/7\n",
      "90226/90226 [==============================] - 49s 540us/sample - loss: 0.1496 - accuracy: 0.9417 - val_loss: 0.1976 - val_accuracy: 0.9255\n",
      "Epoch 7/7\n",
      "90226/90226 [==============================] - 46s 512us/sample - loss: 0.1428 - accuracy: 0.9444 - val_loss: 0.1987 - val_accuracy: 0.9278\n"
     ]
    }
   ],
   "source": [
    "sentiment = GloveCNNAwesomeSentimentModel()\n",
    "history = sentiment.train(\n",
    "    X_train, Y_train, X_val, Y_val\n",
    ")"
   ]
  },
  {
   "cell_type": "code",
   "execution_count": 20,
   "metadata": {
    "scrolled": false
   },
   "outputs": [
    {
     "name": "stdout",
     "output_type": "stream",
     "text": [
      "1 [0.9240405] there are many many restaurants in town is there a certain area of town in which you would be visiting\n",
      "0 [1.3241993e-06] parkside pools is located in the centre of town would\n",
      "0 [0.4050427] i want to commute between the hotel and restaurant i need to be\n",
      "1 [0.87981904] the address is green street city centre\n",
      "1 [0.8990121] that's okay i'll just pick the first one can you make a reservation for at this monday\n",
      "1 [0.91263175] yes i need places to go in the east\n",
      "1 [0.8240322] i have the alexander bed and breakfast that is cheap and university arms hotel that is expensive\n",
      "0 [2.0475996e-07] ok i have the\n",
      "1 [0.9958834] you're welcome is there anything else i can do for you\n",
      "1 [0.04672246] i will leave thursday\n"
     ]
    }
   ],
   "source": [
    "# test of the network\n",
    "for i in range(200,210):\n",
    "    if np.random.uniform() > 0.5:\n",
    "        if (len(data_clean[i]) > 4):\n",
    "            # picking random point for splitting the conversation turn\n",
    "            l = random.randrange(1, len(data_clean[i]) - 3)\n",
    "\n",
    "            test_tokens = text_tokens(' '.join(str(e) for e in data_clean[i][:l]))\n",
    "            prediction = sentiment.predict([vocab_indices_vector(test_tokens)])[0]\n",
    "\n",
    "            print(0, prediction, ' '.join(str(e) for e in data_clean[i][:l]))\n",
    "    else:\n",
    "        test_tokens = text_tokens(' '.join(str(e) for e in data_clean[i]))\n",
    "        prediction = sentiment.predict([vocab_indices_vector(test_tokens)])[0]\n",
    "\n",
    "        print(1, prediction, ' '.join(str(e) for e in data_clean[i]))"
   ]
  },
  {
   "cell_type": "code",
   "execution_count": 21,
   "metadata": {
    "scrolled": false
   },
   "outputs": [
    {
     "data": {
      "text/plain": [
       "[0.19022391468286515, 0.9289]"
      ]
     },
     "execution_count": 21,
     "metadata": {},
     "output_type": "execute_result"
    }
   ],
   "source": [
    "# test of the network\n",
    "sentiment.model.evaluate(X_val[10000:20000], Y_val[10000:20000], verbose=0, batch_size=100)"
   ]
  },
  {
   "cell_type": "markdown",
   "metadata": {},
   "source": [
    "---\n",
    "\n",
    "## Accuracy based on length"
   ]
  },
  {
   "cell_type": "code",
   "execution_count": 22,
   "metadata": {},
   "outputs": [],
   "source": [
    "# data - sentences in a vector, data_clean - readable sentences\n",
    "def LengthInspection(data, data_clean, targets, LENGTH_MIN, LENGTH_MAX):\n",
    "    extracted = []\n",
    "    targ = []\n",
    "    for i in range(len(data)):\n",
    "        if (len(data_clean[i]) >= LENGTH_MIN) and (len(data_clean[i]) <= LENGTH_MAX):\n",
    "            extracted.append(data[i])\n",
    "            targ.append(targets[i])\n",
    "            \n",
    "    return extracted, targ"
   ]
  },
  {
   "cell_type": "code",
   "execution_count": 23,
   "metadata": {},
   "outputs": [],
   "source": [
    "d_set = []\n",
    "t_set = []\n",
    "stop = 1\n",
    "\n",
    "while stop <= 60:\n",
    "    d, t = LengthInspection(X_val,data_clean[s+1:],Y_val,stop-1,stop)\n",
    "    d_set.append(d)\n",
    "    t_set.append(t)\n",
    "    stop += 1"
   ]
  },
  {
   "cell_type": "code",
   "execution_count": 24,
   "metadata": {},
   "outputs": [],
   "source": [
    "l_ac = []\n",
    "l_er = []\n",
    "\n",
    "# 38 is the length of the longest sentence\n",
    "for i in range(38):\n",
    "    er, ac = sentiment.model.evaluate(d_set[i], t_set[i], verbose=0, batch_size=50)\n",
    "#     print('length interval: (',i,i+1,'), error:',er,', accuracy:',ac)\n",
    "    l_ac.append(ac)\n",
    "    l_er.append(er)"
   ]
  },
  {
   "cell_type": "code",
   "execution_count": 48,
   "metadata": {},
   "outputs": [
    {
     "data": {
      "text/plain": [
       "<matplotlib.legend.Legend at 0x182cd23d0>"
      ]
     },
     "execution_count": 48,
     "metadata": {},
     "output_type": "execute_result"
    },
    {
     "data": {
      "image/png": "[encoded data removed]",
      "text/plain": [
       "<Figure size 432x288 with 1 Axes>"
      ]
     },
     "metadata": {
      "needs_background": "light"
     },
     "output_type": "display_data"
    }
   ],
   "source": [
    "import matplotlib.pyplot as plt\n",
    "\n",
    "plt.plot(l_ac, label='Accuracy')\n",
    "plt.plot(l_er, label='Loss')\n",
    "plt.xlabel('Sentence length in words')\n",
    "plt.legend()"
   ]
  },
  {
   "cell_type": "markdown",
   "metadata": {},
   "source": [
    "---\n",
    "\n",
    "## Different dataset - e2e"
   ]
  },
  {
   "cell_type": "code",
   "execution_count": 26,
   "metadata": {},
   "outputs": [],
   "source": [
    "import pandas as pd\n",
    "\n",
    "restaurant_data = pd.read_csv('e2e/restaurant_all.tsv', sep='\\t',error_bad_lines=False,warn_bad_lines=False)['Message.Text']\n",
    "taxi_data = pd.read_csv('e2e/taxi_all.tsv', sep='\\t',error_bad_lines=False,warn_bad_lines=False)['Message.Text']\n",
    "movie_data = pd.read_csv('e2e/movie_all.tsv', sep='\\t',error_bad_lines=False,warn_bad_lines=False)['Message.Text']"
   ]
  },
  {
   "cell_type": "code",
   "execution_count": 27,
   "metadata": {},
   "outputs": [
    {
     "name": "stdout",
     "output_type": "stream",
     "text": [
      "No I really need Sunday - Does either of the other 2 places have an opening? Like Flatbread Neapolitan Pizzeria and it can be anywhere from 11 am - 2 pm\n"
     ]
    }
   ],
   "source": [
    "print(restaurant_data[12])"
   ]
  },
  {
   "cell_type": "code",
   "execution_count": 28,
   "metadata": {},
   "outputs": [],
   "source": [
    "# X_restuarant, Y_restuarant, data_clean_restuarant = split_data(np.array(restaurant_data['Message.Text'].values))"
   ]
  },
  {
   "cell_type": "code",
   "execution_count": 29,
   "metadata": {},
   "outputs": [],
   "source": [
    "def e2eGetter(data):\n",
    "    sentences = []\n",
    "    for sentence in data:\n",
    "        if isinstance(sentence, str):\n",
    "            sentences.append(text_tokens(sentence))\n",
    "    \n",
    "    return sentences"
   ]
  },
  {
   "cell_type": "code",
   "execution_count": 30,
   "metadata": {},
   "outputs": [],
   "source": [
    "r_data = e2eGetter(restaurant_data)\n",
    "t_data = e2eGetter(taxi_data)\n",
    "m_data = e2eGetter(movie_data)\n",
    "\n",
    "e2e_data = r_data + t_data + m_data"
   ]
  },
  {
   "cell_type": "code",
   "execution_count": 31,
   "metadata": {},
   "outputs": [],
   "source": [
    "e2e_X, e2e_Y, e2e_data_clean = split_data(e2e_data)"
   ]
  },
  {
   "cell_type": "code",
   "execution_count": 32,
   "metadata": {},
   "outputs": [],
   "source": [
    "# splitting into training and validating parts\n",
    "# 2/3 for training, 1/3 for validating\n",
    "e2e_s = (len(e2e_X)//3)*2\n",
    "\n",
    "e2e_X_train = e2e_X[:e2e_s]\n",
    "e2e_Y_train = e2e_Y[:e2e_s]\n",
    "e2e_X_val = e2e_X[e2e_s+1:]\n",
    "e2e_Y_val = e2e_Y[e2e_s+1:]"
   ]
  },
  {
   "cell_type": "code",
   "execution_count": 50,
   "metadata": {
    "scrolled": false
   },
   "outputs": [
    {
     "name": "stdout",
     "output_type": "stream",
     "text": [
      "Model: \"model_3\"\n",
      "_________________________________________________________________\n",
      "Layer (type)                 Output Shape              Param #   \n",
      "=================================================================\n",
      "seq_input (InputLayer)       [(None, 61)]              0         \n",
      "_________________________________________________________________\n",
      "embedding_3 (Embedding)      (None, 61, 50)            150050    \n",
      "_________________________________________________________________\n",
      "dropout_6 (Dropout)          (None, 61, 50)            0         \n",
      "_________________________________________________________________\n",
      "conv1d_3 (Conv1D)            (None, 59, 256)           38656     \n",
      "_________________________________________________________________\n",
      "global_max_pooling1d_3 (Glob (None, 256)               0         \n",
      "_________________________________________________________________\n",
      "dense_6 (Dense)              (None, 256)               65792     \n",
      "_________________________________________________________________\n",
      "dropout_7 (Dropout)          (None, 256)               0         \n",
      "_________________________________________________________________\n",
      "dense_7 (Dense)              (None, 1)                 257       \n",
      "=================================================================\n",
      "Total params: 254,755\n",
      "Trainable params: 254,755\n",
      "Non-trainable params: 0\n",
      "_________________________________________________________________\n",
      "Fitting...\n",
      "Train on 32480 samples, validate on 16241 samples\n",
      "Epoch 1/7\n",
      "32480/32480 [==============================] - 16s 493us/sample - loss: 0.1849 - accuracy: 0.9308 - val_loss: 0.1288 - val_accuracy: 0.9536\n",
      "Epoch 2/7\n",
      "32480/32480 [==============================] - 16s 477us/sample - loss: 0.1096 - accuracy: 0.9603 - val_loss: 0.1258 - val_accuracy: 0.9563\n",
      "Epoch 3/7\n",
      "32480/32480 [==============================] - 16s 482us/sample - loss: 0.0878 - accuracy: 0.9680 - val_loss: 0.1172 - val_accuracy: 0.9565\n",
      "Epoch 4/7\n",
      "32480/32480 [==============================] - 16s 490us/sample - loss: 0.0732 - accuracy: 0.9734 - val_loss: 0.1212 - val_accuracy: 0.9596\n",
      "Epoch 5/7\n",
      "32480/32480 [==============================] - 18s 568us/sample - loss: 0.0622 - accuracy: 0.9776 - val_loss: 0.1238 - val_accuracy: 0.9579\n",
      "Epoch 6/7\n",
      "32480/32480 [==============================] - 18s 559us/sample - loss: 0.0559 - accuracy: 0.9798 - val_loss: 0.1281 - val_accuracy: 0.9592\n",
      "Epoch 7/7\n",
      "32480/32480 [==============================] - 18s 551us/sample - loss: 0.0503 - accuracy: 0.9821 - val_loss: 0.1423 - val_accuracy: 0.9583\n"
     ]
    }
   ],
   "source": [
    "sentiment = GloveCNNAwesomeSentimentModel()\n",
    "history = sentiment.train(\n",
    "    e2e_X_train, e2e_Y_train, e2e_X_val, e2e_Y_val\n",
    ")"
   ]
  },
  {
   "cell_type": "code",
   "execution_count": 51,
   "metadata": {},
   "outputs": [],
   "source": [
    "d_set = []\n",
    "t_set = []\n",
    "stop = 1\n",
    "\n",
    "while stop <= 60:\n",
    "    d, t = LengthInspection(e2e_X_val,e2e_data_clean[e2e_s+1:],e2e_Y_val,stop-1,stop)\n",
    "    d_set.append(d)\n",
    "    t_set.append(t)\n",
    "    stop += 1"
   ]
  },
  {
   "cell_type": "code",
   "execution_count": 52,
   "metadata": {},
   "outputs": [],
   "source": [
    "l_ac = []\n",
    "l_er = []\n",
    "\n",
    "for i in range(60):\n",
    "    er, ac = sentiment.model.evaluate(d_set[i], t_set[i], verbose=0, batch_size=50)\n",
    "    l_ac.append(ac)\n",
    "    l_er.append(er)"
   ]
  },
  {
   "cell_type": "code",
   "execution_count": 53,
   "metadata": {},
   "outputs": [
    {
     "data": {
      "text/plain": [
       "<matplotlib.legend.Legend at 0x1a37379d0>"
      ]
     },
     "execution_count": 53,
     "metadata": {},
     "output_type": "execute_result"
    },
    {
     "data": {
      "image/png": "[encoded data removed]",
      "text/plain": [
       "<Figure size 432x288 with 1 Axes>"
      ]
     },
     "metadata": {
      "needs_background": "light"
     },
     "output_type": "display_data"
    }
   ],
   "source": [
    "plt.plot(l_ac[:50], label='Accuracy')\n",
    "plt.plot(l_er[:50], label='Loss')\n",
    "plt.xlabel('Sentence length in words')\n",
    "plt.legend()"
   ]
  },
  {
   "cell_type": "code",
   "execution_count": 55,
   "metadata": {},
   "outputs": [
    {
     "name": "stdout",
     "output_type": "stream",
     "text": [
      "0 [8.14488e-06] what\n",
      "1 [0.31402963] \n",
      "0 [1.0221998e-05] your reservation\n",
      "1 [0.99983823] i need a ride to lowe's or home depot or one of those types of stores i'm at anderson elementary in bondurant and we have a major plumbing leak going on asap please just one person\n",
      "1 [0.0003689] thanks\n",
      "1 [0.00078598] yes please\n",
      "1 [0.00078598] yes please\n",
      "1 [0.9995584] the pick up location will be columbus ohio polaris pkwy with just person\n",
      "1 [0.00184472] your reservation at wild ginger asian restaurant for pm for people under joe does has been confirmed\n",
      "1 [0.99932766] great that's all the information i need please let me know which of the following options you'd like to reserve uberx uberxl pedal uberselect uberblack ubersuv for hire\n",
      "0 [0.31402963] san\n",
      "1 [0.98344916] you're welcome have a nice day and thank you for using our service\n",
      "1 [1.7747319e-06] enjoy your meal this has been booked\n",
      "1 [0.02506169] the nearest burger king\n",
      "1 [0.99997485] what is the pickup location\n",
      "1 [0.01669415] what time and date would you like your reservation for\n",
      "0 [0.9978969] fish amen street fish raw bar and coast bar\n",
      "1 [0.0040036] pm\n",
      "0 [9.530447e-06] wonderful and\n",
      "1 [0.9923511] can i book uberxl's please\n",
      "1 [0.9999819] thank you i have confirmed your uberblack enjoy your ride\n",
      "1 [4.5689572e-07] do you prefer a certain type of cuisine\n",
      "1 [7.966511e-05] thank you so much for booking with us your reservation has been confirmed as requested enjoy your meal\n",
      "1 [0.96406263] what is your pick up location\n",
      "1 [0.57386655] fig olive sounds good\n",
      "0 [1.5229623e-06] what name would\n",
      "1 [0.10213501] excellent choice what name may i book the reservation under\n",
      "1 [7.3115993e-06] italian family pizza\n",
      "0 [0.7648024] the pick up location will\n",
      "1 [0.21063843] i would like reservations for a nice sushi restaurant in las vegas do you have any suggestions\n",
      "1 [0.00033437] it has stars\n",
      "1 [1.] i have confirmed your uber thank you and have a safe trip\n",
      "0 [3.8690574e-05] i\n",
      "0 [1.1625399e-07] they have tables\n",
      "0 [3.3340782e-06] i also\n",
      "1 [0.9996666] what date and time would you like to go\n"
     ]
    }
   ],
   "source": [
    "# test of the network\n",
    "for i in range(10,50):\n",
    "    if np.random.uniform() > 0.5:\n",
    "        if (len(e2e_data_clean[i]) > 4):\n",
    "            # picking random point for splitting the conversation turn\n",
    "            l = random.randrange(1, len(e2e_data_clean[i]) - 3)\n",
    "\n",
    "            test_tokens = text_tokens(' '.join(str(e) for e in e2e_data_clean[i][:l]))\n",
    "            prediction = sentiment.predict([vocab_indices_vector(test_tokens)])[0]\n",
    "\n",
    "            print(0, prediction, ' '.join(str(e) for e in e2e_data_clean[i][:l]))\n",
    "    else:\n",
    "        test_tokens = text_tokens(' '.join(str(e) for e in e2e_data_clean[i]))\n",
    "        prediction = sentiment.predict([vocab_indices_vector(test_tokens)])[0]\n",
    "\n",
    "        print(1, prediction, ' '.join(str(e) for e in e2e_data_clean[i]))"
   ]
  },
  {
   "cell_type": "markdown",
   "metadata": {},
   "source": [
    "---\n",
    "\n",
    "## Different dataset - taskmaster"
   ]
  },
  {
   "cell_type": "code",
   "execution_count": 58,
   "metadata": {},
   "outputs": [],
   "source": [
    "def taskmasterGetter(path):\n",
    "    collection = []\n",
    "    f = open(path, 'r')\n",
    "    for x in f:\n",
    "        if '\"text\":' in x:\n",
    "            collection.append(text_tokens(x.lstrip()[len('\"text\": '):]))\n",
    "            \n",
    "    return collection"
   ]
  },
  {
   "cell_type": "code",
   "execution_count": 59,
   "metadata": {},
   "outputs": [],
   "source": [
    "taskmaster = taskmasterGetter('taskmaster/flights.json') +\\\n",
    "             taskmasterGetter('taskmaster/food-ordering.json') +\\\n",
    "             taskmasterGetter('taskmaster/hotels.json') +\\\n",
    "             taskmasterGetter('taskmaster/movies.json') +\\\n",
    "             taskmasterGetter('taskmaster/music.json') +\\\n",
    "             taskmasterGetter('taskmaster/restaurant-search.json') +\\\n",
    "             taskmasterGetter('taskmaster/sports.json')"
   ]
  },
  {
   "cell_type": "code",
   "execution_count": 60,
   "metadata": {},
   "outputs": [],
   "source": [
    "tm_X, tm_Y, tm_data_clean = split_data(taskmaster)"
   ]
  },
  {
   "cell_type": "code",
   "execution_count": 61,
   "metadata": {},
   "outputs": [],
   "source": [
    "# splitting into training and validating parts\n",
    "# 2/3 for training, 1/3 for validating\n",
    "tm_s = (len(tm_X)//3)*2\n",
    "\n",
    "tm_X_train = tm_X[:tm_s]\n",
    "tm_Y_train = tm_Y[:tm_s]\n",
    "tm_X_val = tm_X[tm_s+1:]\n",
    "tm_Y_val = tm_Y[tm_s+1:]"
   ]
  },
  {
   "cell_type": "code",
   "execution_count": 62,
   "metadata": {},
   "outputs": [
    {
     "name": "stdout",
     "output_type": "stream",
     "text": [
      "83580 40204 43376\n"
     ]
    }
   ],
   "source": [
    "print(len(tm_Y_val),\n",
    "      len(np.array(tm_Y_val)[np.array(tm_Y_val) == 0]),\n",
    "      len(np.array(tm_Y_val)[np.array(tm_Y_val) == 1]))"
   ]
  },
  {
   "cell_type": "code",
   "execution_count": 63,
   "metadata": {
    "scrolled": false
   },
   "outputs": [
    {
     "name": "stdout",
     "output_type": "stream",
     "text": [
      "Model: \"model_4\"\n",
      "_________________________________________________________________\n",
      "Layer (type)                 Output Shape              Param #   \n",
      "=================================================================\n",
      "seq_input (InputLayer)       [(None, 61)]              0         \n",
      "_________________________________________________________________\n",
      "embedding_4 (Embedding)      (None, 61, 50)            150050    \n",
      "_________________________________________________________________\n",
      "dropout_8 (Dropout)          (None, 61, 50)            0         \n",
      "_________________________________________________________________\n",
      "conv1d_4 (Conv1D)            (None, 59, 256)           38656     \n",
      "_________________________________________________________________\n",
      "global_max_pooling1d_4 (Glob (None, 256)               0         \n",
      "_________________________________________________________________\n",
      "dense_8 (Dense)              (None, 256)               65792     \n",
      "_________________________________________________________________\n",
      "dropout_9 (Dropout)          (None, 256)               0         \n",
      "_________________________________________________________________\n",
      "dense_9 (Dense)              (None, 1)                 257       \n",
      "=================================================================\n",
      "Total params: 254,755\n",
      "Trainable params: 254,755\n",
      "Non-trainable params: 0\n",
      "_________________________________________________________________\n",
      "Fitting...\n",
      "Train on 167162 samples, validate on 83580 samples\n",
      "Epoch 1/7\n",
      "167162/167162 [==============================] - 91s 543us/sample - loss: 0.1891 - accuracy: 0.9251 - val_loss: 0.1518 - val_accuracy: 0.9405\n",
      "Epoch 2/7\n",
      "167162/167162 [==============================] - 90s 538us/sample - loss: 0.1449 - accuracy: 0.9438 - val_loss: 0.1405 - val_accuracy: 0.9462\n",
      "Epoch 3/7\n",
      "167162/167162 [==============================] - 99s 595us/sample - loss: 0.1296 - accuracy: 0.9502 - val_loss: 0.1404 - val_accuracy: 0.9455\n",
      "Epoch 4/7\n",
      "167162/167162 [==============================] - 102s 612us/sample - loss: 0.1200 - accuracy: 0.9541 - val_loss: 0.1322 - val_accuracy: 0.9500\n",
      "Epoch 5/7\n",
      "167162/167162 [==============================] - 87s 522us/sample - loss: 0.1139 - accuracy: 0.9566 - val_loss: 0.1363 - val_accuracy: 0.9489\n",
      "Epoch 6/7\n",
      "167162/167162 [==============================] - 97s 577us/sample - loss: 0.1086 - accuracy: 0.9585 - val_loss: 0.1377 - val_accuracy: 0.9505\n",
      "Epoch 7/7\n",
      "167162/167162 [==============================] - 96s 576us/sample - loss: 0.1045 - accuracy: 0.9600 - val_loss: 0.1313 - val_accuracy: 0.9520\n"
     ]
    }
   ],
   "source": [
    "sentiment = GloveCNNAwesomeSentimentModel()\n",
    "history = sentiment.train(\n",
    "    tm_X_train, tm_Y_train, tm_X_val, tm_Y_val, EPOCHS=7)"
   ]
  },
  {
   "cell_type": "code",
   "execution_count": 64,
   "metadata": {},
   "outputs": [],
   "source": [
    "d_set = []\n",
    "t_set = []\n",
    "stop = 1\n",
    "\n",
    "while stop <= 60:\n",
    "    d, t = LengthInspection(tm_X_val,tm_data_clean[tm_s+1:],tm_Y_val,stop-1,stop)\n",
    "    d_set.append(d)\n",
    "    t_set.append(t)\n",
    "    stop += 1"
   ]
  },
  {
   "cell_type": "code",
   "execution_count": 65,
   "metadata": {},
   "outputs": [],
   "source": [
    "l_ac = []\n",
    "l_er = []\n",
    "\n",
    "for i in range(60):\n",
    "    er, ac = sentiment.model.evaluate(d_set[i], t_set[i], verbose=0, batch_size=50)\n",
    "    l_ac.append(ac)\n",
    "    l_er.append(er)"
   ]
  },
  {
   "cell_type": "code",
   "execution_count": 66,
   "metadata": {},
   "outputs": [
    {
     "data": {
      "text/plain": [
       "<matplotlib.legend.Legend at 0x1a41aca90>"
      ]
     },
     "execution_count": 66,
     "metadata": {},
     "output_type": "execute_result"
    },
    {
     "data": {
      "image/png": "[encoded data removed]",
      "text/plain": [
       "<Figure size 432x288 with 1 Axes>"
      ]
     },
     "metadata": {
      "needs_background": "light"
     },
     "output_type": "display_data"
    }
   ],
   "source": [
    "plt.plot(l_ac[:50], label='Accuracy')\n",
    "plt.plot(l_er[:50], label='Loss')\n",
    "plt.xlabel('Sentence length in words')\n",
    "plt.legend()"
   ]
  },
  {
   "cell_type": "code",
   "execution_count": 68,
   "metadata": {},
   "outputs": [
    {
     "name": "stdout",
     "output_type": "stream",
     "text": [
      "1 [0.5094632] two layovers or less\n",
      "0 [7.782923e-06] i\n",
      "1 [0.073711] ocracoke\n",
      "1 [0.00118369] pm\n",
      "1 [3.3294207e-05] days from tomorrow\n",
      "1 [0.00010891] alright goodbye\n",
      "1 [3.0075606e-05] alright\n",
      "1 [0.31146222] airport shuttle service\n",
      "1 [5.5181707e-05] okay\n",
      "0 [0.00076962] i'm going to order six hot dogs total for three people and i would like the first\n",
      "1 [0.9933796] what else can you tell me\n",
      "0 [6.973094e-06] i can help\n",
      "0 [0.00185425] hold\n",
      "1 [0.02110464] okay so i'll find a hotel for you that has free wifi and a restaurant near to the hotel and i also found over two dozen hotels for you with those amenities would you like me to list the top for you by price or by rating\n",
      "0 [0.01056679] not too early in the morning\n",
      "1 [0.25846925] and i'll be leavingua on april th\n",
      "1 [3.66059e-08] yep\n",
      "0 [0.00078996] excellent i've got those details now tell me more about what you're\n",
      "0 [0.00017743] this\n",
      "1 [0.96980774] overlooks the mississippi river\n",
      "1 [0.04651928] okaywhat else\n",
      "1 [0.073711] studios\n",
      "0 [0.6024974] okay could you reorder it\n",
      "1 [0.00016985] with hot salsa and sour cream\n",
      "1 [0.00237166] ok sure i can help you what are the travel dates\n",
      "1 [0.86570626] cafe pasta\n",
      "1 [0.9951899] what were some online onsite features of the first one\n",
      "1 [5.439254e-05] got it when are you planning to leave\n",
      "1 [0.0008164] three hamburgers\n",
      "0 [0.00010264] i found\n",
      "0 [1.4023875e-06] hi\n",
      "1 [0.99395823] i think that's it for now\n",
      "1 [0.7414063] can you tell different types of the top\n",
      "1 [0.00209171] evening\n",
      "1 [0.0001315] continental breakfast\n",
      "1 [0.34999004] i'll be flying april the th\n",
      "0 [0.34320223] okay do either of those\n",
      "1 [0.2448257] i want it for two\n",
      "1 [0.00145774] th hyatt centric\n",
      "1 [2.8254743e-07] free breakfast\n",
      "0 [5.5181707e-05] okay\n",
      "1 [5.63064e-05] in the morning\n",
      "1 [0.00080176] the first is called chancellor hotel it's a star hotel per night cozy rooms in a victorian hotel offering free continental breakfast an italian restaurant the second is called the marker it's a star hotel per night colorful quarters plus italian dining free evening wine receptions in a modern hotel from those are the two options which one\n",
      "1 [0.00279749] about minutes\n",
      "0 [1.6959784e-05] minute\n",
      "1 [0.99802566] how can i help you\n",
      "1 [0.50066006] how much is parking\n",
      "1 [4.9016453e-05] yes\n",
      "1 [0.00068442] goodbye\n",
      "0 [5.5181707e-05] okay\n",
      "1 [0.073711] gyro\n",
      "1 [0.00350009] friday october th\n",
      "1 [0.3624401] great sounds like we found a match so i booked this for you now\n",
      "1 [0.98817843] i'd book that for you and send you the information thank you\n",
      "1 [0.01575632] a convenience store\n",
      "1 [0.00206403] you got it\n",
      "1 [0.4710091] the inn on fifth is rating and a stars\n",
      "1 [8.300042e-06] round trip\n",
      "1 [0.0041109] i would like to leave in the morning and come back at night\n",
      "1 [0.9671395] which one do you like\n",
      "0 [3.7281106e-06] i'd\n",
      "1 [0.663735] have a nice day\n",
      "1 [0.073711] flat screen tv\n",
      "1 [0.00118369] pm\n",
      "1 [5.5181707e-05] okay\n",
      "0 [0.00097442] hello i'm looking for a flight from houston then orlando and back homeuaand i want to fly\n",
      "0 [0.00010855] how\n"
     ]
    }
   ],
   "source": [
    "# test of the network\n",
    "for i in range(100,200):\n",
    "    if np.random.uniform() > 0.5:\n",
    "        if (len(tm_data_clean[i]) > 4):\n",
    "            # picking random point for splitting the conversation turn\n",
    "            l = random.randrange(1, len(tm_data_clean[i]) - 3)\n",
    "\n",
    "            test_tokens = text_tokens(' '.join(str(e) for e in tm_data_clean[i][:l]))\n",
    "            prediction = sentiment.predict([vocab_indices_vector(test_tokens)])[0]\n",
    "\n",
    "            print(0, prediction, ' '.join(str(e) for e in tm_data_clean[i][:l]))\n",
    "    else:\n",
    "        test_tokens = text_tokens(' '.join(str(e) for e in tm_data_clean[i]))\n",
    "        prediction = sentiment.predict([vocab_indices_vector(test_tokens)])[0]\n",
    "\n",
    "        print(1, prediction, ' '.join(str(e) for e in tm_data_clean[i]))"
   ]
  },
  {
   "cell_type": "code",
   "execution_count": null,
   "metadata": {},
   "outputs": [],
   "source": []
  }
 ],
 "metadata": {
  "kernelspec": {
   "display_name": "Python 3",
   "language": "python",
   "name": "python3"
  },
  "language_info": {
   "codemirror_mode": {
    "name": "ipython",
    "version": 3
   },
   "file_extension": ".py",
   "mimetype": "text/x-python",
   "name": "python",
   "nbconvert_exporter": "python",
   "pygments_lexer": "ipython3",
   "version": "3.7.4"
  }
 },
 "nbformat": 4,
 "nbformat_minor": 2
}
